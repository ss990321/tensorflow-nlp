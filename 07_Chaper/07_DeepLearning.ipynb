{
 "cells": [
  {
   "cell_type": "markdown",
   "source": [
    "***\n",
    "# 07. 딥 러닝(Deep Learning) 개요\n",
    "***\n",
    "\n",
    "딥 러닝(Deep Learning)은 머신 러닝(Machine Learning)의 특정한 한 분야로서 인공 신경망(Artificial Neural Network)의 층을 연속적으로 깊게 쌓아올려 데이터를 학습하는 방식을 말합니다.\n",
    "딥 러닝이 화두가 되기 시작한 것은 2010년대의 비교적 최근의 일이지만, 딥 러닝의 기본 구조인 인공 신경망의 역사는 생각보다 오래되었습니다.\n",
    "이번 챕터에서는 딥 러닝을 보다 쉽게 이해하기 위해 1957년의 초기 인공 신경망인 퍼셉트론에서부터 설명을 시작하여 층을 깊게 쌓아 학습하는 딥 러닝까지 개념을 점차적으로 확장해보겠습니다.\n",
    "추가적으로 이번 챕터에서는 피드 포워드 신경망과 같은 기본적인 인공 신경망 용어들과 케라스의 사용 방법에 대해서 학습합니다."
   ],
   "metadata": {
    "collapsed": false
   },
   "id": "85113155a2f2c087"
  },
  {
   "cell_type": "markdown",
   "source": [
    "## 07-01 퍼셉트론(Perceptron)\n",
    "***\n",
    "\n",
    "인공 신경망은 수많은 머신 러닝 방법 중 하나입니다.\n",
    "하지만 최근 인공 신경망을 복잡하게 쌓아 올린 딥 러닝이 다른 머신 러닝 방법들을 뛰어넘는 성능을 보여주는 사례가 늘면서,\n",
    "전통적인 머신 러닝과 딥 러닝을 구분해서 이해해야 한다는 목소리가 커지고 있습니다.\n",
    "딥 러닝을 이해하기 위해서는 우선 인공 신경망에 대한 이해가 필요한데, 여기서는 초기의 인공 신경망인 퍼셉트론(Perceptron)에 대해서 이해합니다."
   ],
   "metadata": {
    "collapsed": false
   },
   "id": "55adbc6607655689"
  },
  {
   "cell_type": "markdown",
   "source": [
    "### 1. 퍼셉트론(Perceptron)\n",
    "***\n",
    "퍼셉트론(Perceptron)은 프랑크 로젠블라트(Frank Rosenblatt)가 1957년에 제안한 초기 형태의 인공 신경망으로 다수의 입력으로부터 하나의 결과를 내보내는 알고리즘입니다. \n",
    "퍼셉트론은 실제 뇌를 구성하는 신경 세포 뉴런의 동작과 유사한데, 신경 세포 뉴런의 그림을 먼저 보도록 하겠습니다.\n",
    "뉴런은 가지돌기에서 신호를 받아들이고, 이 신호가 일정치 이상의 크기를 가지면 축삭돌기를 통해서 신호를 전달합니다.\n",
    "\n",
    "![그림](img.png)\n",
    "\n",
    "다수의 입력을 받는 퍼셉트론의 그림을 보겠습니다. 신경 세포 뉴런의 입력 신호와 출력 신호가 퍼셉트론에서 각각 입력값과 출력값에 해당됩니다.\n",
    "\n",
    "![그림](img_1.png)\n",
    "\n",
    "$x$는 입력값을 의미하며, $w$는 가중치(Weight), $y$는 출력값입니다.\n",
    "그림 안의 원은 인공 뉴런에 해당됩니다. 실제 신경 세포 뉴런에서의 신호를 전달하는 축삭돌기의 역할을 퍼셉트론에서는 가중치가 대신합니다.\n",
    "각각의 인공 뉴런에서 보내진 입력값 $x$는 각각의 가중치 $w$와 함께 종착지인 인공 뉴런에 전달되고 있습니다.\n",
    "\n",
    "**각각의 입력값에는 각각의 가중치가 존재하는데, 이때 가중치의 값이 크면 클수록 해당 입력 값이 중요하다는 것을 의미합니다.**\n",
    "\n",
    "각 입력값이 가중치와 곱해져서 인공 뉴런에 보내지고,\n",
    "각 입력값과 그에 해당되는 가중치의 곱의 전체 합이 임계치(threshold)를 넘으면 종착지에 있는 인공 뉴런은 출력 신호로서 1을 출력하고,\n",
    "그렇지 않을 경우에는 0을 출력합니다.\n",
    "이러한 함수를 계단 함수(Step function)라고 하며, 아래는 그래프는 계단 함수의 하나의 예를 보여줍니다.\n",
    "\n",
    "![그림](img_2.png)\n",
    "\n",
    "이때 계단 함수에 사용된 이 임계치값을 수식으로 표현할 때는 보통 세타(Θ)로 표현합니다. 식으로 표현하면 다음과 같습니다.\n",
    "\n",
    "![그림](img_3.png)\n",
    "\n",
    "위의 식에서 임계치를 좌변으로 넘기고 편향 $b$(bias)로 표현할 수도 있습니다.\n",
    "편향 $b$ 또한 퍼셉트론의 입력으로 사용됩니다.\n",
    "보통 그림으로 표현할 때는 입력값이 1로 고정되고 편향 $b$가 곱해지는 변수로 표현됩니다.\n",
    "\n",
    "![그림](img_4.png)\n",
    "![그림](img_5.png)\n",
    "\n",
    "이 책을 포함한 많은 인공 신경망 자료에서 편의상 편향 $b$가 그림이나 수식에서 생략되서 표현되기도 하지만\n",
    "실제로는 편향 $b$ 또한 딥 러닝이 최적의 값을 찾아야 할 변수 중 하나입니다.\n",
    "\n",
    "뒤에서 배우겠지만 이렇게 뉴런에서 출력값을 변경시키는 함수를 활성화 함수(Activation Function)라고 합니다.\n",
    "초기 인공 신경망 모델인 퍼셉트론은 활성화 함수로 계단 함수를 사용하였지만,\n",
    "그 뒤에 등장한 여러가지 발전된 신경망들은 계단 함수 외에도 여러 다양한 활성화 함수를 사용하기 시작했습니다.\n",
    "사실 앞서 배운 시그모이드 함수나 소프트맥스 함수 또한 활성화 함수 중 하나입니다.\n",
    "\n",
    "퍼셉트론을 배우기 전에 로지스틱 회귀를 먼저 배운 이유도 여기에 있습니다.\n",
    "퍼셉트론의 활성화 함수는 계단 함수이지만 여기서 활성화 함수를 시그모이드 함수로 변경하면 방금 배운 퍼셉트론은 곧 이진 분류를 수행하는 로지스틱 회귀와 동일함을 알 수 있습니다.\n",
    "\n",
    "다시 말하면 로지스틱 회귀 모델이 인공 신경망에서는 하나의 인공 뉴런으로 볼 수 있습니다.\n",
    "로지스틱 회귀를 수행하는 인공 뉴런과 위에서 배운 퍼셉트론의 차이는 오직 활성화 함수의 차이입니다.\n",
    "\n",
    "![그림](img_6.png)"
   ],
   "metadata": {
    "collapsed": false
   },
   "id": "2d48c38251662a8f"
  },
  {
   "cell_type": "markdown",
   "source": [
    "### 2. 단층 퍼셉트론(Single-Layer Perceptron)\n",
    "***\n",
    "위에서 배운 퍼셉트론을 단층 퍼셉트론이라고 합니다.\n",
    "퍼셉트론은 단층 퍼셉트론과 다층 퍼셉트론으로 나누어진다.\n",
    "\n",
    "단층 퍼셉트론의 단계 \n",
    "- 값을 보내는 단계\n",
    "- 값을 받아서 출력하는 단계\n",
    "\n",
    "이때 이 각 단계를 보통 층(layer)이라고 부르며, 이 두 개의 층을 입력층(input layer)과 출력층(output layer)이라고 합니다.\n",
    "\n",
    "![그림](img_7.png)\n",
    "\n",
    "단층 퍼셉트론이 어떤 일을 할 수 있으며 한계는 무엇인지 학습해보겠습니다.\n",
    "컴퓨터는 두 개의 값 0과 1을 입력해 하나의 값을 출력하는 회로가 모여 만들어지는데, 이 회로를 게이트(gate)라고 부릅니다.\n",
    "초기 형태의 인공 신경망인 단층 퍼셉트론은 간단한 XOR 게이트조차도 구현할 수 없는 부족한 인공 신경망이라는 지적을 받았습니다.\n",
    "단층 퍼셉트론을 이용하면 AND, NAND, OR 게이트는 구현가능합니다. 게이트 연산에 쓰이는 것은 두 개의 입력값과 하나의 출력값입니다.\n",
    "AND 게이트란 두 개의 입력값 $x1, x2$이 각각 0 또는 1의 값을 가질 수 있으면서 모두 1인 경우에만 출력값 $y$가 1이 나오는 구조를 말합니다.\n",
    "\n",
    "![그림](img_8.png)\n",
    "\n",
    "단층 퍼셉트론의 식을 통해 AND 게이트를 만족하는 두 개의 가중치와 편향 값에는 뭐가 있을까요?\n",
    "각각 $w1$, $w2$, $b$라고 한다면 [0.5, 0.5, -0.7], [0.5, 0.5, -0.8] 또는 [1.0, 1.0, -1.0] 등 이 외에도 다양한 가중치와 편향의 조합이 나올 수 있습니다.\n",
    "이해를 돕기 위해서 AND 게이트를 위한 매개변수 값을 가진 단층 퍼셉트론의 식을 파이썬 코드로 간단하게 구현해봅시다."
   ],
   "metadata": {
    "collapsed": false
   },
   "id": "ca328653576cef16"
  },
  {
   "cell_type": "code",
   "outputs": [],
   "source": [
    "def AND_gate(x1, x2):\n",
    "    w1 = 0.5\n",
    "    w2 = 0.5\n",
    "    b = -0.7\n",
    "    result = x1*w1 + x2*w2 + b\n",
    "    if result <= 0:\n",
    "        return 0\n",
    "    else:\n",
    "        return 1"
   ],
   "metadata": {
    "collapsed": false,
    "ExecuteTime": {
     "end_time": "2024-01-30T08:11:26.863523200Z",
     "start_time": "2024-01-30T08:11:26.856984300Z"
    }
   },
   "id": "d8299c43053c8b11",
   "execution_count": 1
  },
  {
   "cell_type": "markdown",
   "source": [
    "위의 함수에 AND 게이트의 입력값을 모두 넣어보면 오직 두 개의 입력값이 1인 경우에만 1을 출력합니다."
   ],
   "metadata": {
    "collapsed": false
   },
   "id": "c75622e74ffcb815"
  },
  {
   "cell_type": "code",
   "outputs": [
    {
     "data": {
      "text/plain": "(0, 0, 0, 1)"
     },
     "execution_count": 6,
     "metadata": {},
     "output_type": "execute_result"
    }
   ],
   "source": [
    "AND_gate(0, 0), AND_gate(0, 1), AND_gate(1, 0), AND_gate(1, 1)"
   ],
   "metadata": {
    "collapsed": false,
    "ExecuteTime": {
     "end_time": "2024-01-30T08:12:39.544267600Z",
     "start_time": "2024-01-30T08:12:39.519217700Z"
    }
   },
   "id": "4e8a56d550654626",
   "execution_count": 6
  },
  {
   "cell_type": "markdown",
   "source": [
    "그렇다면 두 개의 입력값이 1인 경우에만 출력값이 0, 나머지 입력값의 쌍(pair)에 대해서는 모두 출력값이 1이 나오는 NAND 게이트는 어떨까요?\n",
    "\n",
    "![그림](img_9.png)\n",
    "\n",
    "앞서 언급했던 AND 게이트를 충족하는 가중치와 편향값인 [0.5, 0.5, -0.7]에 -를 붙여서 [-0.5, -0.5, +0.7]을 단층 퍼셉트론의 식에 넣어보면 NAND 게이트를 충족합니다.\n",
    "파이썬 코드를 통해서 이를 확인해봅시다."
   ],
   "metadata": {
    "collapsed": false
   },
   "id": "edf9484d6d9c9451"
  },
  {
   "cell_type": "code",
   "outputs": [],
   "source": [
    "def NAND_gate(x1, x2):\n",
    "    w1 = -0.5\n",
    "    w2 = -0.5\n",
    "    b = 0.7\n",
    "    result = x1*w1 + x2*w2 + b\n",
    "    if result <= 0:\n",
    "        return 0\n",
    "    else:\n",
    "        return 1\n"
   ],
   "metadata": {
    "collapsed": false,
    "ExecuteTime": {
     "end_time": "2024-01-25T05:54:48.356383300Z",
     "start_time": "2024-01-25T05:54:48.348449900Z"
    }
   },
   "id": "96a7629e0c5029fd",
   "execution_count": 3
  },
  {
   "cell_type": "markdown",
   "source": [
    "단지 같은 코드에 함수 이름과 가중치와 편향만 바꿨을 뿐입니다. 퍼셉트론의 구조는 같기때문입니다."
   ],
   "metadata": {
    "collapsed": false
   },
   "id": "96366837d336ec37"
  },
  {
   "cell_type": "code",
   "outputs": [
    {
     "data": {
      "text/plain": "(1, 1, 1, 0)"
     },
     "execution_count": 4,
     "metadata": {},
     "output_type": "execute_result"
    }
   ],
   "source": [
    "NAND_gate(0, 0), NAND_gate(0, 1), NAND_gate(1, 0), NAND_gate(1, 1)"
   ],
   "metadata": {
    "collapsed": false,
    "ExecuteTime": {
     "end_time": "2024-01-25T05:55:01.322664500Z",
     "start_time": "2024-01-25T05:55:01.315984400Z"
    }
   },
   "id": "17f1ed4c3c460ba",
   "execution_count": 4
  },
  {
   "cell_type": "markdown",
   "source": [
    "NAND 게이트를 구현한 파이썬 코드에 입력값을 넣자, 두 개의 입력값이 1인 경우에만 0이 나오는 것을 확인할 수 있습니다.\n",
    "퍼셉트론으로 NAND 게이트를 구현한 것입니다.\n",
    "[-0.5, -0.5, -0.7] 외에도 퍼셉트론이 NAND 게이트의 동작을 하도록 하는 다양한 가중치와 편향의 값들이 있을 것입니다.\n",
    "\n",
    "두 개의 입력이 모두 0인 경우에 출력값이 0이고 나머지 경우에는 모두 출력값이 1인 OR 게이트 또한 적절한 가중치 값과 편향 값만 찾으면 단층 퍼셉트론의 식으로 구현할 수 있습니다.\n",
    "\n",
    "![그림](img_10.png)\n",
    "\n",
    "예를 들어 각각 가중치와 편향에 대해서 [0.6, 0.6, -0.5]를 선택하면 OR 게이트를 충족합니다."
   ],
   "metadata": {
    "collapsed": false
   },
   "id": "313910317a6b3932"
  },
  {
   "cell_type": "code",
   "outputs": [],
   "source": [
    "def OR_gate(x1, x2):\n",
    "    w1 = 0.6\n",
    "    w2 = 0.6\n",
    "    b = -0.5\n",
    "    result = x1*w1 + x2*w2 + b\n",
    "    if result <= 0:\n",
    "        return 0\n",
    "    else:\n",
    "        return 1\n"
   ],
   "metadata": {
    "collapsed": false,
    "ExecuteTime": {
     "end_time": "2024-01-25T06:05:56.959149Z",
     "start_time": "2024-01-25T06:05:56.954965500Z"
    }
   },
   "id": "133b2ef5122cfcc8",
   "execution_count": 5
  },
  {
   "cell_type": "code",
   "outputs": [
    {
     "data": {
      "text/plain": "(0, 1, 1, 1)"
     },
     "execution_count": 6,
     "metadata": {},
     "output_type": "execute_result"
    }
   ],
   "source": [
    "OR_gate(0, 0), OR_gate(0, 1), OR_gate(1, 0), OR_gate(1, 1)"
   ],
   "metadata": {
    "collapsed": false,
    "ExecuteTime": {
     "end_time": "2024-01-25T06:05:58.939348800Z",
     "start_time": "2024-01-25T06:05:58.935849400Z"
    }
   },
   "id": "c0931539323e6100",
   "execution_count": 6
  },
  {
   "cell_type": "markdown",
   "source": [
    "이처럼 단층 퍼셉트론은 AND 게이트, NAND 게이트, OR 게이트를 구현할 수 있으나 지금부터 설명할 XOR 게이트는 구현할 수 없습니다.\n",
    "XOR 게이트는 입력값 두 개가 서로 다른 값을 갖고 있을때에만 출력값이 1이 되고, 입력값 두 개가 서로 같은 값을 가지면 출력값이 0이 되는 게이트입니다.\n",
    "위의 파이썬 코드에 아무리 수많은 가중치와 편향을 넣어봐도 XOR 게이트를 구현하는 것은 불가능합니다.\n",
    "그 이유는 단층 퍼셉트론은 직선 하나로 두 영역을 나눌 수 있는 문제에 대해서만 구현이 가능하기 때문입니다.\n",
    "\n",
    "예를 들어 AND 게이트에 대한 단층 퍼셉트론을 시각화해보면 다음과 같습니다.\n",
    "\n",
    "![그림](img_11.png)\n",
    "\n",
    "그림에서는 출력값 0을 하얀색 원, 1을 검은색 원으로 표현했습니다. AND 게이트를 충족하려면 하얀색 원과 검은색 원을 직선으로 나누게 됩니다.\n",
    "마찬가지로 NAND 게이트나 OR 게이트에 대해서도 시각화를 했을 때 직선으로 나누는 것이 가능합니다.\n",
    "\n",
    "![그림](img_12.png)\n",
    "\n",
    "그렇다면 XOR 게이트는 어떨까요? XOR 게이트는 입력값 두 개가 서로 다른 값을 갖고 있을때에만 출력값이 1이 되고, 입력값 두 개가 서로 같은 값을 가지면 출력값이 0이 되는 게이트입니다.\n",
    "XOR 게이트를 시각화해보면 다음과 같습니다.\n",
    "\n",
    "![그림](img_13.png)\n",
    "\n",
    "하얀색 원과 검은색 원을 직선 하나로 나누는 것은 불가능하므로 단층 퍼셉트론으로는 XOR 게이트를 구현할 수 없습니다.\n",
    "위의 좌측 그림과 같이 적어도 두 개의 선이 필요합니다. 이를 어떻게 해결할 수 있을까요? 이에 대한 해답은 다층 퍼셉트론입니다.\n",
    "다층 퍼셉트론을 사용하면 여러 개의 선으로 분류하는 효과를 얻을 수 있습니다."
   ],
   "metadata": {
    "collapsed": false
   },
   "id": "ae8046ed843569d7"
  },
  {
   "cell_type": "markdown",
   "source": [
    "### 3. 다층 퍼셉트론(MultiLayer Perceptron, MLP)\n",
    "***\n",
    "\n",
    "XOR 게이트는 기존의 AND, NAND, OR 게이트를 조합하면 만들 수 있습니다. 퍼셉트론 관점에서 말하면 층을 더 쌓으면 만들 수 있습니다.\n",
    "다층 퍼셉트론과 단층 퍼셉트론의 차이는 단층 퍼셉트론은 입력층과 출력층만 존재하지만, 다층 퍼셉트론은 중간에 층을 더 추가하였다는 점입니다.\n",
    "이렇게 입력층과 출력층 사이에 존재하는 층을 은닉층(hidden layer)이라고 합니다.\n",
    "즉, 다층 퍼셉트론은 중간에 은닉층이 존재한다는 점이 단층 퍼셉트론과 다릅니다. 다층 퍼셉트론은 줄여서 MLP라고도 부릅니다.\n",
    "\n",
    "![그림](img_14.png)\n",
    "\n",
    "위의 그림은 AND, NAND, OR 게이트를 조합하여 XOR 게이트를 구현한 다층 퍼셉트론의 예입니다.\n",
    "XOR 예제에서는 은닉층 1개만으로 문제를 해결할 수 있었지만, 다층 퍼셉트론은 본래 은닉층이 1개 이상인 퍼셉트론을 말합니다.\n",
    "즉, XOR 문제나 기타 복잡한 문제를 해결하기 위해서 다층 퍼셉트론은 중간에 수많은 은닉층을 더 추가할 수 있습니다.\n",
    "은닉층의 개수는 2개일 수도 있고, 수십 개일수도 있고 사용자가 설정하기 나름입니다.\n",
    "아래는 더 어려운 문제를 풀기 위해서 은닉층이 하나 더 추가되고(이 경우에는 은닉층이 2개), 뉴런의 개수를 늘린 다층 퍼셉트론의 모습을 보여줍니다.\n",
    "\n",
    "![그림](img_15.png)\n",
    "\n",
    "위와 같이 은닉층이 2개 이상인 신경망을 심층 신경망(Deep Neural Network, DNN) 이라고 합니다.\n",
    "심층 신경망은 다층 퍼셉트론만 이야기 하는 것이 아니라, 여러 변형된 다양한 신경망들도 은닉층이 2개 이상이 되면 심층 신경망이라고 합니다.\n",
    "\n",
    "지금까지는 OR, AND, XOR 게이트 등. 퍼셉트론이 제대로 된 정답을 출력할 때까지 저자가 직접 가중치를 바꿔보면서 적절한 가중치를 수동으로 찾았습니다.\n",
    "하지만 이제는 기계가 가중치를 스스로 찾아내도록 자동화시켜야하는데, 이것이 머신 러닝에서 말하는 훈련(training) 또는 학습(learning) 단계에 해당됩니다.\n",
    "앞서 선형 회귀와 로지스틱 회귀에서 보았듯이 손실 함수(Loss function)와 옵티마이저(Optimizer)를 사용합니다.\n",
    "그리고 만약 학습을 시키는 인공 신경망이 심층 신경망일 경우에는 이를 심층 신경망을 학습시킨다고 하여, 딥 러닝(Deep Learning)이라고 합니다."
   ],
   "metadata": {
    "collapsed": false
   },
   "id": "da25fcd2fb6735c2"
  },
  {
   "cell_type": "code",
   "outputs": [],
   "source": [
    "def AND_gate(x1, x2):\n",
    "    w1 = 0.5\n",
    "    w2 = 0.5\n",
    "    b = -0.7\n",
    "    result = x1*w1 + x2*w2 + b\n",
    "    if result <= 0:\n",
    "        return 0\n",
    "    else:\n",
    "        return 1\n",
    "    \n",
    "def NAND_gate(x1, x2):\n",
    "    w1 = -0.5\n",
    "    w2 = -0.5\n",
    "    b = 0.7\n",
    "    result = x1*w1 + x2*w2 + b\n",
    "    if result <= 0:\n",
    "        return 0\n",
    "    else:\n",
    "        return 1    \n",
    "    \n",
    "def OR_gate(x1, x2):\n",
    "    w1 = 0.6\n",
    "    w2 = 0.6\n",
    "    b = -0.5\n",
    "    result = x1*w1 + x2*w2 + b\n",
    "    if result <= 0:\n",
    "        return 0\n",
    "    else:\n",
    "        return 1\n",
    "    \n",
    "# def XOR_gate_1(x1, x2):\n",
    "#     s1 = OR_gate(x1, x2)\n",
    "#     s2 = NAND_gate(x1, x2)\n",
    "#     if x1 == 1 and x2 == 1:\n",
    "#         return s2\n",
    "#     else:\n",
    "#         return s1\n",
    "#     \n",
    "# def XOR_gate_2(x1, x2):\n",
    "#     s1 = OR_gate(x1, x2)\n",
    "#     s2 = NAND_gate(x1, x2)\n",
    "#     if x1 & x2 == 1:\n",
    "#         return s2\n",
    "#     else:\n",
    "#         return s1\n",
    "    \n",
    "def XOR_gate(x1, x2):\n",
    "    s1 = NAND_gate(x1, x2)\n",
    "    s2 = OR_gate(x1, x2)\n",
    "    y = AND_gate(s1, s2)\n",
    "    return y"
   ],
   "metadata": {
    "collapsed": false,
    "ExecuteTime": {
     "end_time": "2024-01-30T08:37:46.978743100Z",
     "start_time": "2024-01-30T08:37:46.965406Z"
    }
   },
   "id": "2195c32d082cfd7c",
   "execution_count": 7
  },
  {
   "cell_type": "code",
   "outputs": [
    {
     "data": {
      "text/plain": "(0, 1, 1, 0)"
     },
     "execution_count": 25,
     "metadata": {},
     "output_type": "execute_result"
    }
   ],
   "source": [
    "# XOR_gate_1(0, 0), XOR_gate_1(0, 1), XOR_gate_1(1, 0), XOR_gate_1(1, 1)"
   ],
   "metadata": {
    "collapsed": false,
    "ExecuteTime": {
     "end_time": "2024-01-25T08:06:18.020091600Z",
     "start_time": "2024-01-25T08:06:18.014059700Z"
    }
   },
   "id": "d8308f05bca6319a",
   "execution_count": 25
  },
  {
   "cell_type": "code",
   "outputs": [
    {
     "data": {
      "text/plain": "(0, 1, 1, 0)"
     },
     "execution_count": 26,
     "metadata": {},
     "output_type": "execute_result"
    }
   ],
   "source": [
    "# XOR_gate_2(0, 0), XOR_gate_2(0, 1), XOR_gate_2(1, 0), XOR_gate_2(1, 1)"
   ],
   "metadata": {
    "collapsed": false,
    "ExecuteTime": {
     "end_time": "2024-01-25T08:06:19.235160100Z",
     "start_time": "2024-01-25T08:06:19.228914400Z"
    }
   },
   "id": "c0b561f811716c84",
   "execution_count": 26
  },
  {
   "cell_type": "code",
   "outputs": [
    {
     "data": {
      "text/plain": "(0, 1, 1, 0)"
     },
     "execution_count": 8,
     "metadata": {},
     "output_type": "execute_result"
    }
   ],
   "source": [
    "XOR_gate(0, 0), XOR_gate(0, 1), XOR_gate(1, 0), XOR_gate(1, 1)"
   ],
   "metadata": {
    "collapsed": false,
    "ExecuteTime": {
     "end_time": "2024-01-30T08:37:49.123368600Z",
     "start_time": "2024-01-30T08:37:49.117426Z"
    }
   },
   "id": "7635e15a779c10ac",
   "execution_count": 8
  },
  {
   "cell_type": "markdown",
   "source": [
    "## 07-02 인공 신경망(Artificial Neural Network) 훑어보기\n",
    "***"
   ],
   "metadata": {
    "collapsed": false
   },
   "id": "1add636e2dc75e58"
  },
  {
   "cell_type": "markdown",
   "source": [
    "### 1. 피드 포워드 신경망(Feed-Forward Neural Network, FFNN)\n",
    "***\n",
    "\n",
    "![그림](img_16.png)\n",
    "\n",
    "위 그림의 다층 퍼셉트론(MLP)과 같이 오직 입력층에서 출력층 방향으로 연산이 전개되는 신경망을 피드 포워드 신경망(Feed-Forward Neural Network, FFNN)이라고 합니다.\n",
    "\n",
    "![그림](img_17.png)\n",
    "\n",
    "위의 그림은 FFNN에 속하지 않는 RNN이라는 신경망을 보여줍니다.\n",
    "이 신경망은 은닉층의 출력값을 출력층으로도 값을 보내지만, 동시에 은닉층의 출력값이 다시 은닉층의 입력으로 사용됩니다."
   ],
   "metadata": {
    "collapsed": false
   },
   "id": "c9c09f9fd1f848a5"
  },
  {
   "cell_type": "markdown",
   "source": [
    "### 2. 전결합층(Fully-connected layer, FC, Dense layer)\n",
    "***\n",
    "\n",
    "다층 퍼셉트론은 은닉층과 출력층에 있는 모든 뉴런은 바로 이전 층의 모든 뉴런과 연결돼 있었습니다.\n",
    "그와 같이 어떤 층의 모든 뉴런이 이전 층의 모든 뉴런과 연결돼 있는 층을 전결합층(Fully-connected layer) 또는 완전연결층이라고 합니다.\n",
    "줄여서 FC라고 부르기도 합니다. 앞서 본 다층 퍼셉트론의 모든 은닉층과 출력층은 전결합층입니다.\n",
    "동일한 의미로 밀집층(Dense layer) 이라고 부르기도 하는데, 케라스에서는 밀집층을 구현할 때 Dense()를 사용합니다."
   ],
   "metadata": {
    "collapsed": false
   },
   "id": "5e644ec60a4dace0"
  },
  {
   "cell_type": "markdown",
   "source": [
    "### 3. 활성화 함수(Activation Function)\n",
    "***\n",
    "\n",
    "![그림](img_18.png)\n",
    "\n",
    "앞서 배운 퍼셉트론에서는 계단 함수(Step function)를 통해 출력값이 0이 될지, 1이 될지를 결정했습니다.\n",
    "이러한 매커니즘은 실제 뇌를 구성하는 신경 세포 뉴런이 전위가 일정치 이상이 되면 시냅스가 서로 화학적으로 연결되는 모습을 모방한 것입니다.\n",
    "이렇게 은닉층과 출력층의 뉴런에서 출력값을 결정하는 함수를 활성화 함수(Activation function)라고 하는데 계단 함수는 이러한 활성화 함수의 하나의 예제에 불과합니다.\n",
    "\n",
    "다양한 활성화 함수에 대해서 정리해봅시다. 일부는 머신 러닝 챕터에서 이미 봤던 함수들입니다."
   ],
   "metadata": {
    "collapsed": false
   },
   "id": "45baa401377e414c"
  },
  {
   "cell_type": "markdown",
   "source": [
    "#### (1) 활성화 함수의 특징 - 비선형 함수(Nonlinear function)\n",
    "\n",
    "활성화 함수의 특징은 선형 함수가 아닌 비선형 함수여야 한다는 점입니다. 선형 함수란 출력이 입력의 상수배만큼 변하는 함수를 선형함수라고 합니다.\n",
    "예를 들어 $f(x) = wx + b$라는 함수가 있을 때, $w$와 $b$는 상수입니다.\n",
    "이 식을 그래프로 시각화하면 직선입니다. 반대로 비선형 함수는 직선 1개로는 그릴 수 없는 함수를 말합니다.\n",
    "\n",
    "인공 신경망에서 활성화 함수는 비선형 함수여야 합니다.\n",
    "앞서 퍼셉트론에서도 계단 함수라는 활성화 함수를 사용했는데 계단 함수 또한 비선형 함수에 속합니다.\n",
    "인공 신경망의 능력을 높이기 위해서는 은닉층을 계속해서 추가해야 합니다.\n",
    "그런데 만약 활성화 함수로 선형 함수를 사용하게 되면 은닉층을 쌓을 수가 없습니다.\n",
    "예를 들어 활성화 함수로 선형 함수를 선택하고, 층을 계속 쌓는다고 가정해보겠습니다.\n",
    "활성화 함수는 $f(x) = wx$라고 가정합니다.\n",
    "여기다가 은닉층을 두 개 추가한다고하면 출력층을 포함해서 $y(x) = f(f(f(x)))$가 됩니다.\n",
    "이를 식으로 표현하면 $w \\times w \\times w \\times w$입니다.\n",
    "그런데 이는 잘 생각해보면 $w$의 세 제곱값을 $k$라고 정의해버리면 $y(x) = kx$와 같이 다시 표현이 가능합니다.\n",
    "이 경우, 선형 함수로 은닉층을 여러번 추가하더라도 1회 추가한 것과 차이가 없음을 알 수 있습니다.\n",
    "\n",
    "활성화 함수가 존재하지 않는 선형 함수 층을 사용하지 않는다는 의미는 아닙니다.\n",
    "종종 활성화 함수를 사용하지 않는 층을 비선형 층들과 함께 인공 신경망의 일부로서 추가하는 경우도 있는데, 학습 가능한 가중치가 새로 생긴다는 점에서 의미가 있습니다.\n",
    "이와 같이 선형 함수를 사용한 층을 활성화 함수를 사용하는 은닉층과 구분하기 위해서 이 책에서는 선형층(linear layer)이나 투사층(projection layer) 등의 다른 표현을 사용하여 표현합니다.\n",
    "뒤의 챕터에서 언급할 임베딩 층(embedding layer)도 일종의 선형층입니다. 임베딩 층에는 활성화 함수가 존재하지 않습니다.\n",
    "활성화 함수를 사용하는 일반적인 은닉층을 선형층과 대비되는 표현을 사용하면 비선형층(nonlinear layer)입니다.\n",
    "\n",
    "파이썬을 통해 주로 사용되는 활성화 함수를 직접 그려봅시다."
   ],
   "metadata": {
    "collapsed": false
   },
   "id": "e62013949b9dd5f5"
  },
  {
   "cell_type": "code",
   "outputs": [],
   "source": [
    "import numpy as np\n",
    "import matplotlib.pyplot as plt"
   ],
   "metadata": {
    "collapsed": false,
    "ExecuteTime": {
     "end_time": "2024-01-26T07:03:20.126538Z",
     "start_time": "2024-01-26T07:03:20.117954Z"
    }
   },
   "id": "753b5d062b7bdbbb",
   "execution_count": 4
  },
  {
   "cell_type": "markdown",
   "source": [
    "#### (2) 계단 함수(Step function)"
   ],
   "metadata": {
    "collapsed": false
   },
   "id": "8cfdf51370ac3c14"
  },
  {
   "cell_type": "code",
   "outputs": [
    {
     "data": {
      "text/plain": "<Figure size 640x480 with 1 Axes>",
      "image/png": "[encoded data removed]"
     },
     "metadata": {},
     "output_type": "display_data"
    }
   ],
   "source": [
    "def step(x):\n",
    "    return np.array(x > 0, dtype=int) # 0보다 크면 1 return \n",
    "x = np.arange(-5.0, 5.0, 0.1) # -5.0부터 5.0까지 0.1 간격 생성\n",
    "y = step(x)\n",
    "plt.title('Step Function')\n",
    "plt.plot(x,y)\n",
    "plt.show()"
   ],
   "metadata": {
    "collapsed": false,
    "ExecuteTime": {
     "end_time": "2024-01-26T07:03:56.344707400Z",
     "start_time": "2024-01-26T07:03:56.148176Z"
    }
   },
   "id": "36965ce04a22803d",
   "execution_count": 7
  },
  {
   "cell_type": "markdown",
   "source": [
    "계단 함수는 거의 사용되지 않지만 퍼셉트론을 통해 인공 신경망을 처음 배울 때 접하게 되는 활성화 함수입니다."
   ],
   "metadata": {
    "collapsed": false
   },
   "id": "f56e78368ecfa974"
  },
  {
   "cell_type": "markdown",
   "source": [
    "#### (3) 시그모이드 함수(Sigmoid function)와 기울기 소실\n",
    "\n",
    "시그모이드 함수를 사용한 인공 신경망이 있다고 가정해보겠습니다.\n",
    "\n",
    "![그림](img_19.png)\n",
    "\n",
    "위 인공 신경망의 학습 과정은 다음과 같습니다.\n",
    "우선 인공 신경망은 입력에 대해서 순전파(forward propagation) 연산을 하고,\n",
    "그리고 순전파 연산을 통해 나온 예측값과 실제값의 오차를 손실 함수(loss function)을 통해 계산하고,\n",
    "그리고 이 손실(오차라고도 부릅니다. loss)을 미분을 통해서 기울기(gradient)를 구하고,\n",
    "이를 통해 출력층에서 입력층 방향으로 가중치와 편향을 업데이트 하는 과정인 역전파(back propagation)를 수행합니다.\n",
    "역전파에 대해서는 뒤에서 더 자세히 설명하겠지만 일단 여기에서는 인공 신경망에서 출력층에서 입력층 방향으로 가중치와 편향을 업데이트 하는 과정이라고만 언급해두겠습니다.\n",
    "역전파 과정에서 인공 신경망은 경사 하강법을 사용합니다.\n",
    "\n",
    "이 시그모이드 함수의 문제점은 미분을 해서 기울기(gradient)를 구할 때 발생합니다."
   ],
   "metadata": {
    "collapsed": false
   },
   "id": "96f0356932b9e160"
  },
  {
   "cell_type": "code",
   "outputs": [
    {
     "data": {
      "text/plain": "<Figure size 640x480 with 1 Axes>",
      "image/png": "[encoded data removed]"
     },
     "metadata": {},
     "output_type": "display_data"
    }
   ],
   "source": [
    "# 시그모이드 함수 그래프를 그리는 코드\n",
    "def sigmoid(x):\n",
    "    return 1/(1+np.exp(-x))\n",
    "x = np.arange(-5.0, 5.0, 0.1)\n",
    "y = sigmoid(x)\n",
    "\n",
    "plt.plot(x, y)\n",
    "plt.plot([0,0],[1.0,0.0], ':') # 가운데 점선 추가\n",
    "plt.title('Sigmoid Function')\n",
    "plt.show()"
   ],
   "metadata": {
    "collapsed": false,
    "ExecuteTime": {
     "end_time": "2024-01-26T07:19:53.637659500Z",
     "start_time": "2024-01-26T07:19:53.522540700Z"
    }
   },
   "id": "efdcd9f6f4df6a17",
   "execution_count": 8
  },
  {
   "cell_type": "markdown",
   "source": [
    "위 그래프는 시그모이드 함수의 그래프를 보여줍니다.\n",
    "시그모이드 함수의 출력값이 0 또는 1에 가까워지면, 그래프의 기울기가 완만해지는 모습을 볼 수 있습니다.\n",
    "기울기가 완만해지는 구간을 주황색, 그렇지 않은 구간을 초록색으로 칠해보겠습니다.\n",
    "\n",
    "![그래프](img_21.png)\n",
    "\n",
    "주황색 구간에서는 미분값이 0에 가까운 아주 작은 값입니다. 초록색 구간에서의 미분값은 최대값이 0.25입니다.\n",
    "다시 말해 시그모이드 함수를 미분한 값은 적어도 0.25 이하의 값입니다.\n",
    "시그모이드 함수를 활성화 함수로하는 인공 신경망의 층을 쌓는다면, 가중치와 편향을 업데이트 하는 과정인 역전파 과정에서 0에 가까운 값이 누적해서 곱해지게 되면서,\n",
    "앞단에는 기울기(미분값)가 잘 전달되지 않게 됩니다. 이러한 현상을 기울기 소실(Vanishing Gradient) 문제라고 합니다.\n",
    "\n",
    "시그모이드 함수를 사용하는 은닉층의 개수가 다수가 될 경우에는 0에 가까운 기울기가 계속 곱해지면 앞단에서는 거의 기울기를 전파받을 수 없게 됩니다.\n",
    "다시 말해 매개변수 $w$가 업데이트 되지 않아 학습이 되지를 않습니다.\n",
    "\n",
    "![그래프](img_20.png)\n",
    "\n",
    "위의 그림은 은닉층이 깊은 신경망에서 기울기 소실 문제로 인해 출력층과 가까운 은닉층에서는 기울기가 잘 전파되지만,\n",
    "앞단으로 갈수록 기울기가 제대로 전파되지 않는 모습을 보여줍니다. 결론적으로 시그모이드 함수의 은닉층에서의 사용은 지양됩니다.\n",
    "시그모이드 함수는 주로 이진 분류를 위해 출력층에서 사용합니다."
   ],
   "metadata": {
    "collapsed": false
   },
   "id": "a13c3d6d8c43d006"
  },
  {
   "cell_type": "markdown",
   "source": [
    "#### (4) 하이퍼볼릭탄젠트 함수(Hyperbolic tangent function)\n",
    "\n",
    "하이퍼볼릭탄젠트 함수(tanh)는 입력값을 -1과 1사이의 값으로 변환합니다. 그래프를 그려보겠습니다."
   ],
   "metadata": {
    "collapsed": false
   },
   "id": "80f9e16b98410f2f"
  },
  {
   "cell_type": "code",
   "outputs": [
    {
     "data": {
      "text/plain": "<Figure size 640x480 with 1 Axes>",
      "image/png": "[encoded data removed]"
     },
     "metadata": {},
     "output_type": "display_data"
    }
   ],
   "source": [
    "x = np.arange(-5.0, 5.0, 0.1) # -5.0부터 5.0까지 0.1 간격 생성\n",
    "y = np.tanh(x)\n",
    "\n",
    "plt.plot(x, y)\n",
    "plt.plot([0,0],[1.0,-1.0], ':')\n",
    "plt.axhline(y=0, color='orange', linestyle='--')\n",
    "plt.title('Tanh Function')\n",
    "plt.show()"
   ],
   "metadata": {
    "collapsed": false,
    "ExecuteTime": {
     "end_time": "2024-01-26T07:24:23.489747500Z",
     "start_time": "2024-01-26T07:24:23.363605300Z"
    }
   },
   "id": "e831261c835735d0",
   "execution_count": 10
  },
  {
   "cell_type": "markdown",
   "source": [
    "#### (5) 렐루 함수(ReLU)\n",
    "\n",
    "인공 신경망의 은닉층에서 가장 인기있는 함수입니다. 수식은 $f(x) = max(0, x)$로 아주 간단합니다."
   ],
   "metadata": {
    "collapsed": false
   },
   "id": "5bab71a047a750ca"
  },
  {
   "cell_type": "code",
   "outputs": [
    {
     "data": {
      "text/plain": "<Figure size 640x480 with 1 Axes>",
      "image/png": "[encoded data removed]"
     },
     "metadata": {},
     "output_type": "display_data"
    }
   ],
   "source": [
    "def relu(x):\n",
    "    return np.maximum(0, x)\n",
    "\n",
    "x = np.arange(-5.0, 5.0, 0.1)\n",
    "y = relu(x)\n",
    "\n",
    "plt.plot(x, y)\n",
    "plt.plot([0,0],[5.0,0.0], ':')\n",
    "plt.title('Relu Function')\n",
    "plt.show()"
   ],
   "metadata": {
    "collapsed": false,
    "ExecuteTime": {
     "end_time": "2024-01-26T07:27:14.091121800Z",
     "start_time": "2024-01-26T07:27:13.981819900Z"
    }
   },
   "id": "862ef98fd1e9aed8",
   "execution_count": 11
  },
  {
   "cell_type": "markdown",
   "source": [
    "렐루 함수는 음수를 입력하면 0을 출력하고, 양수를 입력하면 입력값을 그대로 반환하는 것이 특징인 함수로 출력값이 특정 양수값에 수렴하지 않습니다.\n",
    "0이상의 입력값의 경우에는 미분값이 항상 1입니다. 깊은 신경망의 은닉층에서 시그모이드 함수보다 훨씬 더 잘 작동합니다.\n",
    "뿐만 아니라, 렐루 함수는 시그모이드 함수와 하이퍼볼릭탄젠트 함수와 같이 어떤 연산이 필요한 것이 아니라 단순 임계값이므로 연산 속도도 빠릅니다.\n",
    "\n",
    "하지만 여전히 문제점이 존재하는데, 입력값이 음수면 기울기. 즉, 미분값도 0이 됩니다.\n",
    "그리고 이 뉴런은 다시 회생하는 것이 매우 어렵습니다. 이 문제를 죽은 렐루(dying ReLU)라고 합니다."
   ],
   "metadata": {
    "collapsed": false
   },
   "id": "7db08ad1cd08425"
  },
  {
   "cell_type": "markdown",
   "source": [
    "#### (6) 리키 렐루(Leaky ReLU)\n",
    "\n",
    "죽은 렐루를 보완하기 위해 ReLU의 변형 함수들이 등장하기 시작했습니다. 변형 함수는 여러 개가 있지만 여기서는 Leaky ReLU에 대해서만 소개합니다.\n",
    "Leaky ReLU는 입력값이 음수일 경우에 0이 아니라 0.001과 같은 매우 작은 수를 반환하도록 되어있습니다. 수식은 $f(x) = max(ax, x)$로 아주 간단합니다.\n",
    "a는 하이퍼파라미터로 Leaky('새는') 정도를 결정하며 일반적으로는 0.01의 값을 가집니다.\n",
    "여기서 말하는 '새는 정도'라는 것은 입력값의 음수일 때의 기울기를 비유하고 있습니다."
   ],
   "metadata": {
    "collapsed": false
   },
   "id": "51d0056011e11a0b"
  },
  {
   "cell_type": "code",
   "outputs": [
    {
     "data": {
      "text/plain": "<Figure size 640x480 with 1 Axes>",
      "image/png": "[encoded data removed]"
     },
     "metadata": {},
     "output_type": "display_data"
    }
   ],
   "source": [
    "a = 0.1\n",
    "\n",
    "def leaky_relu(x):\n",
    "    return np.maximum(a*x, x)\n",
    "\n",
    "x = np.arange(-5.0, 5.0, 0.1)\n",
    "y = leaky_relu(x)\n",
    "\n",
    "plt.plot(x, y)\n",
    "plt.plot([0,0],[5.0,0.0], ':')\n",
    "plt.title('Leaky ReLU Function')\n",
    "plt.show()\n"
   ],
   "metadata": {
    "collapsed": false,
    "ExecuteTime": {
     "end_time": "2024-01-26T07:30:42.519426800Z",
     "start_time": "2024-01-26T07:30:42.416842300Z"
    }
   },
   "id": "1f20666f072402bd",
   "execution_count": 12
  },
  {
   "cell_type": "markdown",
   "source": [
    "위의 그래프에서는 새는 모습을 확실히 보여주기 위해 a를 0.1로 잡았습니다. 위와 같이 입력값이 음수라도 기울기가 0이 되지 않으면 ReLU는 죽지 않습니다."
   ],
   "metadata": {
    "collapsed": false
   },
   "id": "c47133c607aa4bc"
  },
  {
   "cell_type": "markdown",
   "source": [
    "#### (7) 소프트맥스 함수(Softmax function)\n",
    "\n",
    "은닉층에서는 ReLU(또는 ReLU 변형) 함수들을 사용하는 것이 일반적입니다.\n",
    "반면, 소프트맥스 함수는 시그모이드 함수처럼 출력층에서 주로 사용됩니다.\n",
    "시그모이드 함수가 두 가지 선택지 중 하나를 고르는 이진 분류 (Binary Classification) 문제에 사용된다면\n",
    "소프트맥스 함수는 세 가지 이상의 (상호 배타적인) 선택지 중 하나를 고르는 다중 클래스 분류(MultiClass Classification) 문제에 주로 사용됩니다.\n",
    "다시 말해서 딥 러닝으로 이진 분류를 할 때는 출력층에 앞서 배운 로지스틱 회귀를 사용하고,\n",
    "딥 러닝으로 다중 클래스 분류 문제를 풀 때는 출력층에 소프트맥스 회귀를 사용한다고 생각할 수 있습니다."
   ],
   "metadata": {
    "collapsed": false
   },
   "id": "e687b1e2db4c546e"
  },
  {
   "cell_type": "code",
   "outputs": [
    {
     "data": {
      "text/plain": "<Figure size 640x480 with 1 Axes>",
      "image/png": "[encoded data removed]"
     },
     "metadata": {},
     "output_type": "display_data"
    }
   ],
   "source": [
    "import numpy as np\n",
    "import matplotlib.pyplot as plt\n",
    "\n",
    "x = np.arange(-5.0, 5.0, 0.1) # -5.0부터 5.0까지 0.1 간격 생성\n",
    "y = np.exp(x) / np.sum(np.exp(x))\n",
    "\n",
    "plt.plot(x, y)\n",
    "plt.title('Softmax Function')\n",
    "plt.show()"
   ],
   "metadata": {
    "collapsed": false,
    "ExecuteTime": {
     "end_time": "2024-01-30T10:00:29.353780Z",
     "start_time": "2024-01-30T10:00:29.245671400Z"
    }
   },
   "id": "7b67edded893a287",
   "execution_count": 15
  },
  {
   "cell_type": "markdown",
   "source": [
    "## 07-03 행렬곱으로 이해하는 신경망\n",
    "***\n",
    "\n",
    "인공 신경망에서 입력층에서 출력층 방향으로 연산을 진행하는 과정을 순전파(Forward Propagation)라고 합니다.\n",
    "다르게 말하면 주어진 입력이 입력층으로 들어가서 은닉층을 지나 출력층에서 예측값을 얻는 과정을 순전파라고 합니다.\n",
    "여기서는 신경망의 순전파는 결과적으로 행렬의 곱셈으로 이해할 수 있다는 것과\n",
    "다층 퍼셉트론 내의 학습 가능한 매개변수인 가중치 $w$와 편향 $b$의 개수를 추정하는 방법에 대해서 학습합니다."
   ],
   "metadata": {
    "collapsed": false
   },
   "id": "3b07b1c8687afe4e"
  },
  {
   "cell_type": "markdown",
   "source": [
    "### 1. 순전파(Foward Propagation)\n",
    "***\n",
    "\n",
    "![그림](img_22.png)\n",
    "\n",
    "활성화 함수, 은닉층의 수, 각 은닉층의 뉴런 수 등 딥 러닝 모델을 설계하고나면\n",
    "입력값은 입력층, 은닉층을 지나면서 각 층에서의 가중치와 함께 연산되며 출력층으로 향합니다.\n",
    "그리고 출력층에서 모든 연산을 마친 예측값이 나오게 됩니다.\n",
    "이와 같이 입력층에서 출력층 방향으로 예측값의 연산이 진행되는 과정을 순전파라고 합니다."
   ],
   "metadata": {
    "collapsed": false
   },
   "id": "2718020c7ca991dc"
  },
  {
   "cell_type": "markdown",
   "source": [
    "### 2. 행렬곱으로 순전파 이해하기\n",
    "***\n",
    "\n",
    "![그림](img_23.png)\n",
    "\n",
    "위와 같은 인공 신경망이 있다고 해봅시다. 입력의 차원이 3, 출력의 차원이 2인 위 인공 신경망을 구현해본다면 다음과 같습니다."
   ],
   "metadata": {
    "collapsed": false
   },
   "id": "ad78a2801877d1db"
  },
  {
   "cell_type": "code",
   "outputs": [],
   "source": [
    "from tensorflow.keras.models import Sequential\n",
    "from tensorflow.keras.layers import Dense\n",
    "\n",
    "model = Sequential()\n",
    "\n",
    "# 3개의 입력과 2개의 출력\n",
    "model.add(Dense(2, input_dim=3, activation='softmax'))"
   ],
   "metadata": {
    "collapsed": false,
    "ExecuteTime": {
     "end_time": "2024-01-26T07:35:52.528542Z",
     "start_time": "2024-01-26T07:35:52.513102600Z"
    }
   },
   "id": "1244c775040e1309",
   "execution_count": 15
  },
  {
   "cell_type": "markdown",
   "source": [
    "소프트맥스 회귀를 한다고 가정하고 활성화 함수는 소프트맥스 함수를 임의로 기재하였습니다.\n",
    "인공 신경망이란 표현이 아직 어색한다면 앞에서 배운 소프트맥스 회귀 모델을 만들었다고 생각해도 되겠습니다.\n",
    "소프트맥스 회귀는 출력 벡터의 차원을 2로 두면 이진 분류를 수행하는 모델이 됩니다. 로지스틱 회귀가 아닌 소프트맥스 회귀로도 이진 분류는 수행 가능함을 기억해둡시다.\n",
    "\n",
    "케라스에서는 .summary()를 사용하면 해당 모델에 존재하는 모든 매개변수(가중치 $w$와 편향 $b$의 개수)를 확인할 수 있습니다."
   ],
   "metadata": {
    "collapsed": false
   },
   "id": "9fa876bed165f957"
  },
  {
   "cell_type": "code",
   "outputs": [
    {
     "name": "stdout",
     "output_type": "stream",
     "text": [
      "Model: \"sequential_1\"\n",
      "_________________________________________________________________\n",
      " Layer (type)                Output Shape              Param #   \n",
      "=================================================================\n",
      " dense_1 (Dense)             (None, 2)                 8         \n",
      "                                                                 \n",
      "=================================================================\n",
      "Total params: 8 (32.00 Byte)\n",
      "Trainable params: 8 (32.00 Byte)\n",
      "Non-trainable params: 0 (0.00 Byte)\n",
      "_________________________________________________________________\n"
     ]
    }
   ],
   "source": [
    "model.summary()"
   ],
   "metadata": {
    "collapsed": false,
    "ExecuteTime": {
     "end_time": "2024-01-26T07:36:27.232688100Z",
     "start_time": "2024-01-26T07:36:27.219446400Z"
    }
   },
   "id": "4ecde98b5475fadf",
   "execution_count": 17
  },
  {
   "cell_type": "markdown",
   "source": [
    "매개변수의 수가 8개라고 나옵니다.\n",
    "위 신경망에서 학습가능한 매개변수 인 $w$와 $b$의 개수가 총 합해서 8개라는 의미입니다.\n",
    "실제로 그런지 위 신경망을 행렬의 곱셈 관점에서 이해해봅시다.\n",
    "\n",
    "![그림](img_24.png)\n",
    "\n",
    "위 모델은 입력의 차원이 3, 출력의 차원이 2입니다.\n",
    "또는 신경망의 용어로서 표현한다면, 입력층의 뉴런이 3개, 출력층의 뉴런이 2개라고 말할 수 있습니다.\n",
    "위 신경망 그림에서 화살표 각각은 가중치 $w$를 의미하고 있습니다.\n",
    "3개의 뉴런과 2개의 뉴런 사이에는 총 6개의 화살표가 존재하는데, 이는 위 신경망에서 가중치 $w$의 개수가 6개임을 의미합니다.\n",
    "\n",
    "이를 행렬곱 관점에서는 3차원 벡터에서 2차원 벡터가 되기 위해서 3 × 2 행렬을 곱했다고 이해할 수 있습니다. 그리고 이 행렬 각각의 원소가 각각의 \n",
    "$w$가 되는 것입니다. 위 그림에서는 \n",
    "$y1$에 연결되는 화살표 $w1$, $w2$, $w3$를 주황색으로 표현하고, \n",
    "$y2$에 연결되는 화살표 $w4$, $w5$, $w6$를 초록색으로 표현했습니다.\n",
    "\n",
    "일반적으로 동그란 뉴런과 화살표로 표현하는 인공 신경망의 그림에서는 편향 $b$의 경우에는 편의상 생략되는 경우가 많지만,\n",
    "인공 신경망 내부적으로는 편향 $b$의 연산 또한 존재합니다.\n",
    "위 그림에서 뉴런과 화살표로 표현한 인공 신경망의 그림에서는 편향을 표현하지 않았지만,\n",
    "행렬 연산식에서는 $b1$과 $b2$를 표현하였습니다.\n",
    "편향 $b$의 개수는 항상 출력의 차원을 기준으로 개수를 확인하면 됩니다.\n",
    "위의 인공 신경망의 경우에는 출력의 차원이 2인데, 이에 따라서 편향 또한 $b1$과 $b2$로 두 개입니다.\n",
    "\n",
    "가중치 $w$의 개수가 $w1$, $w2$, $w3$, $w4$, $w5$, $w6$로 총 6개이며\n",
    "편향 $b$의 개수가 $b1$과 $b2$로 두 개이므로 총 학습가능한 매개변수의 수는 8개입니다.\n",
    "이는 앞서 model.summary()를 하였을 때 확인한 매개변수의 수인 8개와 일치합니다."
   ],
   "metadata": {
    "collapsed": false
   },
   "id": "7603f6b311ba135d"
  },
  {
   "cell_type": "markdown",
   "source": [
    "$y1$과 $y2$를 구하는 과정을 수식으로 표현한다면 다음과 같이 표현할 수 있습니다.\n",
    "\n",
    "![수식](img_25.png)\n",
    "\n",
    "좀 더 간단하게 식을 표현해보겠습니다. 입력 $x1, x2, x3$을 벡터 $X$로 명명합니다.\n",
    "$X = [x1, x2, x3]$\n",
    "\n",
    "그리고 $w1$, $w2$, $w3$, $w4$, $w5$, $w6$를 원소로 하는 3 × 2 행렬을 가중치 행렬 $W$,\n",
    "그리고 편향 $b1$, $b2$를 원소로 하는 벡터를 $B$,\n",
    "그리고 $y1$, $y2$를 원소로하는 출력 벡터를 $Y$로 명명합시다.\n",
    "이 경우, 위의 인공 신경망은 다음과 같이 표현할 수 있습니다.\n",
    "\n",
    "![그림](img_26.png)\n",
    "\n",
    "다시 말해 수식은 다음과 같습니다.\n",
    "\n",
    "$Y = XW + B$"
   ],
   "metadata": {
    "collapsed": false
   },
   "id": "2e8edaff692c0523"
  },
  {
   "cell_type": "markdown",
   "source": [
    "### 3. 행렬곱으로 병렬 연산 이해하기\n",
    "***\n",
    "\n",
    "인공 신경망을 행렬곱으로 구현할 때의 흥미로운 점은 행렬곱을 사용하면 병렬 연산도 가능하다는 점입니다.\n",
    "위의 예시에서는 데이터 중 1개의 샘플만을 처리한다고 가정했습니다.\n",
    "이번에는 인공 신경망이 4개의 샘플을 동시에 처리해본다고 가정해봅시다.\n",
    "4개의 샘플을 하나의 행렬 $X$로 정의하고 인공 신경망의 순전파를 행렬곱으로 표현하면 다음과 같습니다.\n",
    "\n",
    "![그림](img_27.png)\n",
    "\n",
    "여기서 혼동하지 말아야 할 것은 인공 신경망의 4개의 샘플을 동시에 처리하고 있지만, 여기서 학습가능한 매개변수의 수는 여전히 8개라는 점입니다.\n",
    "이렇게 인공 신경망이 다수의 샘플을 동시에 처리하는 것을 우리는 '배치 연산'이라고 부릅니다.\n",
    "\n",
    "난이도를 올려서 중간에 층을 더 추가해봅시다."
   ],
   "metadata": {
    "collapsed": false
   },
   "id": "267d9fd70a5d76c5"
  },
  {
   "cell_type": "markdown",
   "source": [
    "### 4. 행렬곱으로 다층 퍼셉트론의 순전파 이해하기\n",
    "***\n",
    "\n",
    "![그림](img_28.png)\n",
    "\n",
    "위와 같은 인공 신경망이 있다고 합시다. 주어진 인공 신경망을 케라스로 구현해본다면 아래와 같이 구현할 수 있습니다."
   ],
   "metadata": {
    "collapsed": false
   },
   "id": "70b594375093df40"
  },
  {
   "cell_type": "markdown",
   "source": [
    "#### 1) 코드로 구현하기"
   ],
   "metadata": {
    "collapsed": false
   },
   "id": "71be371e968c9ab4"
  },
  {
   "cell_type": "code",
   "outputs": [],
   "source": [
    "from tensorflow.keras.models import Sequential\n",
    "from tensorflow.keras.layers import Dense\n",
    "\n",
    "model = Sequential()\n",
    "\n",
    "# 4개의 입력과 8개의 출력\n",
    "model.add(Dense(8, input_dim=4, activation='relu'))\n",
    "\n",
    "# 이어서 8개의 출력\n",
    "model.add(Dense(8, activation='relu'))\n",
    "\n",
    "# 이어서 3개의 출력\n",
    "model.add(Dense(3, activation='softmax'))\n"
   ],
   "metadata": {
    "collapsed": false,
    "ExecuteTime": {
     "end_time": "2024-01-26T08:28:40.482567Z",
     "start_time": "2024-01-26T08:28:40.433293900Z"
    }
   },
   "id": "282101a6b48ad07e",
   "execution_count": 18
  },
  {
   "cell_type": "markdown",
   "source": [
    "위의 코드의 주석에서 () 괄호 안의 값은 각 층에서의 뉴런의 수를 의미하며 입력층부터 출력층까지 순차적으로 인공 신경망의 층을 한 층씩 추가하였습니다.\n",
    "케라스를 사용하면 이렇게 간단하게 층을 딥하게 쌓은 딥 러닝 모델을 구현할 수 있습니다."
   ],
   "metadata": {
    "collapsed": false
   },
   "id": "d0e57ca0f1c12fae"
  },
  {
   "cell_type": "markdown",
   "source": [
    "#### 2) 행렬의 크기 추정해보기\n",
    "\n",
    "우선 각 층을 기준으로 입력과 출력의 개수를 정리하면 다음과 같습니다.\n",
    "\n",
    "입력층 : 4개의 입력과 8개의 출력\n",
    "은닉층1 : 8개의 입력과 8개의 출력\n",
    "은닉층2 : 8개의 입력과 3개의 출력\n",
    "출력층 : 3개의 입력과 3개의 출력\n",
    "\n",
    "위의 정보를 가지고 층마다 생기는 가중치와 편향 행렬의 크기를 추정해봅시다. 단, 배치 크기는 1을 가정합니다."
   ],
   "metadata": {
    "collapsed": false
   },
   "id": "9e9df12fcdde232c"
  },
  {
   "cell_type": "markdown",
   "source": [
    "##### 1. 입력층 ⇒ 은닉층1\n",
    "\n",
    "![설명](img_29.png)"
   ],
   "metadata": {
    "collapsed": false
   },
   "id": "222be34b3753e50"
  },
  {
   "cell_type": "markdown",
   "source": [
    "##### 2. 은닉층1 ⇒ 은닉층2\n",
    "\n",
    "![설명](img_30.png)"
   ],
   "metadata": {
    "collapsed": false
   },
   "id": "2c5cd6d07cdaa14a"
  },
  {
   "cell_type": "markdown",
   "source": [
    "##### 3. 은닉층2 ⇒ 은닉층3\n",
    "\n",
    "![설명](img_31.png)"
   ],
   "metadata": {
    "collapsed": false
   },
   "id": "eff40670a4d33a9"
  },
  {
   "cell_type": "markdown",
   "source": [
    "## 07-04 딥 러닝의 학습 방법\n",
    "***\n",
    "\n",
    "딥 러닝의 학습 방법의 이해를 위해 필요한 개념인 손실 함수, 옵티마이저, 에포크의 개념에 대해서 정리합니다."
   ],
   "metadata": {
    "collapsed": false
   },
   "id": "57d3f9c9242e5741"
  },
  {
   "cell_type": "markdown",
   "source": [
    "### 1. 손실 함수(Loss function)\n",
    "***\n",
    "\n",
    "![그림](img_32.png)\n",
    "\n",
    "손실 함수는 실제값과 예측값의 차이를 수치화해주는 함수입니다. 이 두 값의 차이.\n",
    "즉, 오차가 클 수록 손실 함수의 값은 크고 오차가 작을 수록 손실 함수의 값은 작아집니다.\n",
    "회귀에서는 평균 제곱 오차, 분류 문제에서는 크로스 엔트로피를 주로 손실 함수로 사용합니다.\n",
    "손실 함수의 값을 최소화하는 두 개의 매개변수인 가중치 $w$와 편향 $b$의 값을 찾는 것이 딥 러닝의 학습 과정이므로 손실 함수의 선정은 매우 중요합니다.\n",
    "앞서 설명했던 손실 함수를 정리해봅시다."
   ],
   "metadata": {
    "collapsed": false
   },
   "id": "d9d661a0a91e5fdd"
  },
  {
   "cell_type": "markdown",
   "source": [
    "#### 1) MSE(Mean Squared Error, MSE)\n",
    "\n",
    "평균 제곱 오차는 선형 회귀를 학습할 때 배웠던 손실 함수입니다. 연속형 변수를 예측할 때 사용됩니다.\n",
    "\n",
    "다음과 같이 compile의 loss에 문자열 'mse'라고 기재하여 사용할 수 있습니다."
   ],
   "metadata": {
    "collapsed": false
   },
   "id": "f6f18f705e81d650"
  },
  {
   "cell_type": "code",
   "outputs": [],
   "source": [
    "import tensorflow as tf\n",
    "from tensorflow.keras.models import Sequential\n",
    "\n",
    "model = Sequential()\n",
    "\n",
    "model.compile(optimizer='adam', loss='mse', metrics=['mse'])"
   ],
   "metadata": {
    "collapsed": false,
    "ExecuteTime": {
     "end_time": "2024-01-29T05:41:23.599458800Z",
     "start_time": "2024-01-29T05:41:23.589679500Z"
    }
   },
   "id": "ea4bcec4d6c96856",
   "execution_count": 10
  },
  {
   "cell_type": "markdown",
   "source": [
    "compile의 loss는 tf.keras.losses.Loss 인스턴스를 호출하므로 위 코드는 아래와 같이 사용할 수도 있습니다."
   ],
   "metadata": {
    "collapsed": false
   },
   "id": "3be592442efebfbe"
  },
  {
   "cell_type": "code",
   "outputs": [],
   "source": [
    "model.compile(optimizer='adam', loss=tf.keras.losses.MeanSquaredError(), metrics=['mse'])"
   ],
   "metadata": {
    "collapsed": false,
    "ExecuteTime": {
     "end_time": "2024-01-29T05:41:25.909513Z",
     "start_time": "2024-01-29T05:41:25.899517400Z"
    }
   },
   "id": "a33ed8950d042da5",
   "execution_count": 11
  },
  {
   "cell_type": "markdown",
   "source": [
    "딥 러닝 자연어 처리는 대부분 분류 문제이므로 평균 제곱 오차보다는 아래의 크로스 엔트로피 함수들을 주로 사용합니다."
   ],
   "metadata": {
    "collapsed": false
   },
   "id": "496f8c2cdfd397b3"
  },
  {
   "cell_type": "markdown",
   "source": [
    "#### 2) 이진 크로스 엔트로피(Binary Cross-Entropy)\n",
    "\n",
    "이항 교차 엔트로피라고도 부르는 손실 함수입니다.\n",
    "출력층에서 시그모이드 함수를 사용하는 이진 분류 (Binary Classification)의 경우 binary_crossentropy를 사용합니다.\n",
    "compile의 loss에 문자열로 'binary_crossentropy'를 기재해주면 됩니다. 이는 로지스틱 회귀에서 사용했던 손실 함수입니다."
   ],
   "metadata": {
    "collapsed": false
   },
   "id": "88a14bdc40d67c46"
  },
  {
   "cell_type": "code",
   "outputs": [],
   "source": [
    "model.compile(loss='binary_crossentropy', optimizer='adam', metrics=['acc'])"
   ],
   "metadata": {
    "collapsed": false,
    "ExecuteTime": {
     "end_time": "2024-01-29T05:56:42.759307200Z",
     "start_time": "2024-01-29T05:56:42.743797200Z"
    }
   },
   "id": "effd7dfec5d00ead",
   "execution_count": 12
  },
  {
   "cell_type": "markdown",
   "source": [
    "compile의 loss는 tf.keras.losses.Loss 인스턴스를 호출하므로 위 코드는 아래와 같이 사용할 수도 있습니다."
   ],
   "metadata": {
    "collapsed": false
   },
   "id": "5630fd5bc82b698"
  },
  {
   "cell_type": "code",
   "outputs": [],
   "source": [
    "model.compile(loss=tf.keras.losses.BinaryCrossentropy(), optimizer='adam', metrics=['acc'])"
   ],
   "metadata": {
    "collapsed": false,
    "ExecuteTime": {
     "end_time": "2024-01-29T05:56:56.079282Z",
     "start_time": "2024-01-29T05:56:56.055420100Z"
    }
   },
   "id": "97ba952b62835686",
   "execution_count": 13
  },
  {
   "cell_type": "markdown",
   "source": [
    "#### 3) 카테고리칼 크로스 엔트로피(Categorical Cross-Entropy)\n",
    "\n",
    "범주형 교차 엔트로피라고도 부르는 손실 함수입니다.\n",
    "출력층에서 소프트맥스 함수를 사용하는 다중 클래스 분류(Multi-Class Classification)일 경우 categorical_crossentropy를 사용합니다.\n",
    "compile의 loss에 문자열로 'categorical_crossentropy'를 기재해주면 됩니다. 소프트맥스 회귀에서 사용했던 손실 함수입니다."
   ],
   "metadata": {
    "collapsed": false
   },
   "id": "6726286ea437a170"
  },
  {
   "cell_type": "code",
   "outputs": [],
   "source": [
    "model.compile(loss='categorical_crossentropy', optimizer='adam', metrics=['acc'])"
   ],
   "metadata": {
    "collapsed": false,
    "ExecuteTime": {
     "end_time": "2024-01-29T05:59:14.944649200Z",
     "start_time": "2024-01-29T05:59:14.931379100Z"
    }
   },
   "id": "915bccc8b22e870e",
   "execution_count": 14
  },
  {
   "cell_type": "markdown",
   "source": [
    "compile의 loss는 tf.keras.losses.Loss 인스턴스를 호출하므로 위 코드는 아래와 같이 사용할 수도 있습니다."
   ],
   "metadata": {
    "collapsed": false
   },
   "id": "7fc526371f580ec6"
  },
  {
   "cell_type": "code",
   "outputs": [],
   "source": [
    "model.compile(loss=tf.keras.losses.CategoricalCrossentropy(), optimizer='adam', metrics=['acc'])"
   ],
   "metadata": {
    "collapsed": false,
    "ExecuteTime": {
     "end_time": "2024-01-29T05:59:38.708928Z",
     "start_time": "2024-01-29T05:59:38.693593600Z"
    }
   },
   "id": "17db8b2adb0fbcaa",
   "execution_count": 15
  },
  {
   "cell_type": "markdown",
   "source": [
    "만약 레이블에 대해서 원-핫 인코딩 과정을 생략하고, 정수값을 가진 레이블에 대해서 다중 클래스 분류를 수행하고 싶다면\n",
    "다음과 같이 'sparse_categorical_crossentropy'를 사용합니다."
   ],
   "metadata": {
    "collapsed": false
   },
   "id": "30b6cba984dfe06e"
  },
  {
   "cell_type": "code",
   "outputs": [],
   "source": [
    "model.compile(loss='sparse_categorical_crossentropy', optimizer='adam', metrics=['acc'])"
   ],
   "metadata": {
    "collapsed": false,
    "ExecuteTime": {
     "end_time": "2024-01-29T06:00:09.829521300Z",
     "start_time": "2024-01-29T06:00:09.815925900Z"
    }
   },
   "id": "d41778eb59aa79d9",
   "execution_count": 16
  },
  {
   "cell_type": "markdown",
   "source": [
    "위 코드는 아래와 같이 사용할 수도 있습니다."
   ],
   "metadata": {
    "collapsed": false
   },
   "id": "53289210ded64743"
  },
  {
   "cell_type": "code",
   "outputs": [],
   "source": [
    "model.compile(loss=tf.keras.losses.SparseCategoricalCrossentropy(), optimizer='adam', metrics=['acc'])"
   ],
   "metadata": {
    "collapsed": false,
    "ExecuteTime": {
     "end_time": "2024-01-29T06:00:56.083884Z",
     "start_time": "2024-01-29T06:00:56.067508900Z"
    }
   },
   "id": "c360978b3b203206",
   "execution_count": 17
  },
  {
   "cell_type": "markdown",
   "source": [
    "#### 4) 그 외에 다양한 손실 함수들\n",
    "\n",
    "아래의 텐서플로우 공식 문서 링크에서 방금 언급하지 않은 손실 함수 외에도 다양한 손실 함수들을 확인할 수 있습니다.\n",
    "\n",
    "[손실함수 참조링크](https://www.tensorflow.org/api_docs/python/tf/keras/losses)\n",
    "\n",
    "지금까지 자주 사용하는 손실 함수 몇 가지에 대해서 정리해봤습니다.\n",
    "위 compile 코드에서 optimizer='adam' 이라는 부분에 주목해봅시다.\n",
    "이는 아담이라는 옵티마이저를 사용했다라는 의미입니다.\n",
    "손실 함수의 선정만큼이나 옵티마이저의 선정 또한 중요합니다.\n",
    "이어서 옵티마이저에 대해서 정리해봅시다."
   ],
   "metadata": {
    "collapsed": false
   },
   "id": "5ca24274dfd67a6a"
  },
  {
   "cell_type": "markdown",
   "source": [
    "### 2. 배치 크기(Batch Size)에 따른 경사 하강법\n",
    "***\n",
    "\n",
    "![그림](img_33.png)\n",
    "\n",
    "손실 함수의 값을 줄여나가면서 학습하는 방법은 어떤 옵티마이저를 사용하느냐에 따라 달라집니다.\n",
    "여기서 배치(Batch)라는 개념에 대한 이해가 필요합니다. 배치는 가중치 등의 매개 변수의 값을 조정하기 위해 사용하는 데이터의 양을 말합니다.\n",
    "전체 데이터를 가지고 매개 변수의 값을 조정할 수도 있고, 정해준 양의 데이터만 가지고도 매개 변수의 값을 조정할 수 있습니다."
   ],
   "metadata": {
    "collapsed": false
   },
   "id": "c2922ad11f8a7631"
  },
  {
   "cell_type": "markdown",
   "source": [
    "#### 1) 배치 경사 하강법(Batch Gradient Descent)\n",
    "\n",
    "배치 경사 하강법(Batch Gradient Descent)은 가장 기본적인 경사 하강법입니다.\n",
    "배치 경사 하강법은 옵티마이저 중 하나로 오차(loss)를 구할 때 전체 데이터를 고려합니다.\n",
    "딥 러닝에서는 전체 데이터에 대한 한 번의 훈련 횟수를 1 에포크라고 하는데, 배치 경사 하강법은 한 번의 에포크에 모든 매개변수 업데이트를 단 한 번 수행합니다.\n",
    "배치 경사 하강법은 전체 데이터를 고려해서 학습하므로 한 번의 매개 변수 업데이트에 시간이 오래 걸리며, 메모리를 크게 요구한다는 단점이 있습니다.\n",
    "<br/>\n",
    "```\n",
    "model.fit(X_train, y_train, batch_size=len(X_train))\n",
    "```"
   ],
   "metadata": {
    "collapsed": false
   },
   "id": "c196f0a6e5639d86"
  },
  {
   "cell_type": "markdown",
   "source": [
    "#### 2) 배치 크기가 1인 확률적 경사 하강법(Stochastic Gradient Descent, SGD)\n",
    "\n",
    "기존의 배치 경사 하강법은 전체 데이터에 대해서 계산을 하다보니 시간이 너무 오래걸린다는 단점이 있습니다.\n",
    "배치 크기가 1인 확률적 경사 하강법은 매개변수 값을 조정 시 전체 데이터가 아니라 랜덤으로 선택한 하나의 데이터에 대해서만 계산하는 방법입니다.\n",
    "더 적은 데이터를 사용하므로 더 빠르게 계산할 수 있습니다.\n",
    "\n",
    "![그림](img_34.png)\n",
    "\n",
    "위 그림에서 좌측은 배치 경사 하강법, 우측은 배치 크기가 1인 확률적 경사 하강법이 최적해를 찾아가는 모습을 보여주고 있습니다.\n",
    "확률적 경사 하강법은 매개변수의 변경폭이 불안정하고, 때로는 배치 경사 하강법보다 정확도가 낮을 수도 있지만\n",
    "하나의 데이터에 대해서만 메모리에 저장하면 되므로 자원이 적은 컴퓨터에서도 쉽게 사용가능 하다는 장점이 있습니다. 케라스에서는 아래와 같이 사용합니다.\n",
    "<br/>\n",
    "```\n",
    "model.fit(X_train, y_train, batch_size=1)\n",
    "```"
   ],
   "metadata": {
    "collapsed": false
   },
   "id": "22ce866978ee4e9e"
  },
  {
   "cell_type": "markdown",
   "source": [
    "#### 3) 미니 배치 경사 하강법(Mini-Batch Gradient Descent)\n",
    "\n",
    "전체 데이터도, 1개의 데이터도 아닐 때, 배치 크기를 지정하여 해당 데이터 개수만큼에 대해서 계산하여 매개 변수의 값을 조정하는 경사 하강법을 미니 배치 경사 하강법이라고 합니다.\n",
    "미니 배치 경사 하강법은 전체 데이터를 계산하는 것보다 빠르며, SGD보다 안정적이라는 장점이 있습니다.\n",
    "가장 많이 사용되는 경사 하강법으로 앞으로 이 책에서도 주로 배치 크기를 지정하여 미니 배치 경사 하강법으로 학습하게 될 것입니다.\n",
    "아래의 코드는 배치 크기를 128로 지정했을 경우를 보여줍니다.\n",
    "<br/>\n",
    "```\n",
    "model.fit(X_train, y_train, batch_size=128)\n",
    "```\n",
    "\n",
    "배치 크기는 일반적으로 2의 n제곱에 해당하는 숫자로 선택하는 것이 보편적입니다.\n",
    "만약, model.fit()에서 배치 크기를 별도로 지정해주지 않을 경우에 기본값은 2의 5제곱에 해당하는 숫자인 32로 설정됩니다.\n",
    "지금까지 배치 크기에 따른 학습 방법의 차이를 알아봤습니다.\n",
    "앞으로는 경사 하강법의 알고리즘 자체를 조금씩 달리한 다양한 옵티마이저에 대해서 설명합니다."
   ],
   "metadata": {
    "collapsed": false
   },
   "id": "cf3221315c694ab5"
  },
  {
   "cell_type": "markdown",
   "source": [
    "### 3. 옵티마이저(Optimizer)\n",
    "***"
   ],
   "metadata": {
    "collapsed": false
   },
   "id": "cae1061e761799f"
  },
  {
   "cell_type": "markdown",
   "source": [
    "#### 1) 모멘텀(Momentum)\n",
    "\n",
    "모멘텀(Momentum)은 관성이라는 물리학의 법칙을 응용한 방법입니다.\n",
    "모멘텀 경사 하강법에 관성을 더 해줍니다.\n",
    "모멘텀은 경사 하강법에서 계산된 접선의 기울기에 한 시점 전의 접선의 기울기값을 일정한 비율만큼 반영합니다.\n",
    "이렇게 하면 마치 언덕에서 공이 내려올 때, 중간에 작은 웅덩이에 빠지더라도 관성의 힘으로 넘어서는 효과를 줄 수 있습니다.\n",
    "\n",
    "![그래프](img_35.png)\n",
    "\n",
    "전체 함수에 걸쳐 최소값을 글로벌 미니멈(Global Minimum) 이라고 하고, 글로벌 미니멈이 아닌 특정 구역에서의 최소값인 로컬 미니멈(Local Minimum) 이라고 합니다. 로컬 미니멈에 도달하였을 때 글로벌 미니멈으로 잘못 인식하여 탈출하지 못하였을 상황에서 모멘텀. 즉, 관성의 힘을 빌리면 값이 조절되면서 현재의 로컬 미니멈에서 탈출하고 글로벌 미니멈 내지는 더 낮은 로컬 미니멈으로 갈 수 있는 효과를 얻을 수도 있습니다.\n",
    "<br/>\n",
    "```\n",
    "tf.keras.optimizers.SGD(lr=0.01, momentum=0.9)\n",
    "```"
   ],
   "metadata": {
    "collapsed": false
   },
   "id": "c4ccf08304ad5388"
  },
  {
   "cell_type": "markdown",
   "source": [
    "#### 2) 아다그라드(Adagrad)\n",
    "\n",
    "매개변수들은 각자 의미하는 바가 다른데, 모든 매개변수에 동일한 학습률(learning rate)을 적용하는 것은 비효율적입니다. 아다그라드는 각 매개변수에 서로 다른 학습률을 적용시킵니다. 이때 변화가 많은 매개변수는 학습률이 작게 설정되고 변화가 적은 매개변수는 학습률을 높게 설정시킵니다.\n",
    "<br/>\n",
    "```\n",
    "tf.keras.optimizers.Adagrad(lr=0.01, epsilon=1e-6)\n",
    "```"
   ],
   "metadata": {
    "collapsed": false
   },
   "id": "be8854ac1201373e"
  },
  {
   "cell_type": "markdown",
   "source": [
    "#### 3) 알엠에스프롭(RMSprop)\n",
    "\n",
    "아다그라드는 학습을 계속 진행한 경우에는, 나중에 가서는 학습률이 지나치게 떨어진다는 단점이 있는데 이를 다른 수식으로 대체하여 이러한 단점을 개선하였습니다.\n",
    "<br/>\n",
    "```\n",
    "tf.keras.optimizers.RMSprop(lr=0.001, rho=0.9, epsilon=1e-06)\n",
    "```"
   ],
   "metadata": {
    "collapsed": false
   },
   "id": "46a56953b84ae535"
  },
  {
   "cell_type": "markdown",
   "source": [
    "#### 4) 아담(Adam)\n",
    "\n",
    "아담은 알엠에스프롭과 모멘텀 두 가지를 합친 듯한 방법으로, 방향과 학습률 두 가지를 모두 잡기 위한 방법입니다.\n",
    "<br/>\n",
    "```\n",
    "tf.keras.optimizers.Adam(lr=0.001, beta_1=0.9, beta_2=0.999, epsilon=None, decay=0.0, amsgrad=False)\n",
    "```"
   ],
   "metadata": {
    "collapsed": false
   },
   "id": "a4f87197ba4df37a"
  },
  {
   "cell_type": "markdown",
   "source": [
    "#### 5) 사용 방법\n",
    "\n",
    "각 옵티마이저 인스턴스는 compile의 optimizer에서 호출합니다. 예를 들어 아담(adam)은 다음과 같이 코드를 작성합니다.\n",
    "<br/>\n",
    "```\n",
    "adam = tf.keras.optimizers.Adam(lr=0.001, beta_1=0.9, beta_2=0.999, epsilon=None, decay=0.0, amsgrad=False)\n",
    "model.compile(loss='categorical_crossentropy', optimizer=adam, metrics=['acc'])\n",
    "```\n",
    "\n",
    "하지만 다음과 같이 단순히 문자열로 'adam'으로 작성하더라도 동작합니다.\n",
    "<br/>\n",
    "```\n",
    "model.compile(loss='categorical_crossentropy', optimizer='adam', metrics=['acc'])\n",
    "```\n",
    "\n",
    "다른 옵티마이저들도 마찬가지입니다.\n",
    "optimizer='sgd', optimizer='rmsprop'와 같이 각 옵티마이저를 문자열로 호출할 수 있습니다.\n",
    "케라스의 옵티마이저 사용법은 아래의 링크에서 좀 더 상세히 확인할 수 있습니다.\n",
    "\n",
    "[옵티마이저 참조링크](https://www.tensorflow.org/api_docs/python/tf/keras/optimizers)"
   ],
   "metadata": {
    "collapsed": false
   },
   "id": "b41594a2857b51e9"
  },
  {
   "cell_type": "markdown",
   "source": [
    "### 4. 역전파(BackPropagation)\n",
    "***\n",
    "\n",
    "이 부분은 05) 역전파 챕터로 별도 작성되었습니다."
   ],
   "metadata": {
    "collapsed": false
   },
   "id": "19d37418e4bb57a5"
  },
  {
   "cell_type": "markdown",
   "source": [
    "### 5. 에포크와 배치 크기와 이터레이션(Epochs and Batch size and Iteration)\n",
    "***\n",
    "\n",
    "기계는 실제값과 예측값의 오차로부터 옵티마이저를 통해서 가중치를 업데이트합니다.\n",
    "머신 러닝에서는 이 과정을 학습이라고 합니다.\n",
    "이를 현실의 학습에 비유하면 사람은 문제지의 문제를 풀고,\n",
    "정답지의 정답을 보면서 채점을 하면서 부족했던 점을 깨달으며 머릿속의 지식이 업데이트되는 과정입니다.\n",
    "\n",
    "그런데 사람마다 동일한 문제지와 정답지를 주더라도 공부 방법은 사실 천차만별입니다.\n",
    "어떤 사람은 문제지 하나를 다 풀고 나서 정답을 채점하는데 어떤 사람은 문제지의 문제를 10개 단위로 끊어서 공부합니다.\n",
    "문제 10개를 풀고 채점하고 다시 다음 문제 10개를 풀고 채점하고 반복하는 방식으로 학습하는 방식입니다.\n",
    "또한 게으른 사람은 문제지를 세 번 공부하는데, 성실한 사람은 문제지의 문제를 달달 외울만큼 문제지를 100번 공부합니다.\n",
    "기계도 똑같습니다. 같은 문제지와 정답지를 주더라도 공부 방법을 다르게 설정할 수 있습니다.\n",
    "\n",
    "![그림](img_36.png)\n",
    "\n",
    "위 그림은 에포크와 배치 크기와 이터레이션의 차이를 보여줍니다."
   ],
   "metadata": {
    "collapsed": false
   },
   "id": "a8f512e7959cf76d"
  },
  {
   "cell_type": "markdown",
   "source": [
    "#### 1) 에포크(Epoch)\n",
    "\n",
    "에포크란 인공 신경망에서 전체 데이터에 대해서 순전파와 역전파가 끝난 상태를 말합니다.\n",
    "전체 데이터를 하나의 문제지에 비유한다면 문제지의 모든 문제를 끝까지 다 풀고, 정답지로 채점을 하여 문제지에 대한 공부를 한 번 끝낸 상태를 말합니다.\n",
    "\n",
    "만약 에포크가 50이라고 하면, 전체 데이터 단위로는 총 50번 학습합니다.\n",
    "문제지에 비유하면 문제지를 50번 푼 셈입니다.\n",
    "이 에포크 횟수가 지나치거나 너무 적으면 앞서 배운 과적합과 과소적합이 발생할 수 있습니다."
   ],
   "metadata": {
    "collapsed": false
   },
   "id": "e183340dbc9d1c9f"
  },
  {
   "cell_type": "markdown",
   "source": [
    "#### 2) 배치 크기(Batch size)\n",
    "\n",
    "배치 크기는 몇 개의 데이터 단위로 매개변수를 업데이트 하는지를 말합니다.\n",
    "현실에 비유하면 문제지에서 몇 개씩 문제를 풀고나서 정답지를 확인하느냐의 문제입니다.\n",
    "사람은 문제를 풀고 정답을 보는 순간 부족했던 점을 깨달으며 지식이 업데이트 된다고 하였습니다.\n",
    "기계 입장에서는 실제값과 예측값으로부터 오차를 계산하고 옵티마이저가 매개변수를 업데이트합니다.\n",
    "여기서 중요한 포인트는 업데이트가 시작되는 시점이 정답지/실제값을 확인하는 시점이라는 겁니다.\n",
    "\n",
    "사람이 2,000 문제가 수록되어있는 문제지의 문제를 200개 단위로 풀고 채점한다고 하면 이때 배치 크기는 200입니다.\n",
    "기계는 배치 크기가 200이면 200개의 샘플 단위로 가중치를 업데이트 합니다.\n",
    "\n",
    "여기서 주의할 점은 배치 크기와 배치의 수는 다른 개념이라는 점입니다.\n",
    "**전체 데이터가 2,000일때 배치 크기를 200으로 준다면 배치의 수는 10입니다.**\n",
    "이는 에포크에서 배치 크기를 나눠준 값(2,000/200 = 10)이기도 합니다.\n",
    "이때 **배치의 수**를 **이터레이션**이라고 합니다."
   ],
   "metadata": {
    "collapsed": false
   },
   "id": "f4b5e2a12460f750"
  },
  {
   "cell_type": "markdown",
   "source": [
    "#### 3) 이터레이션(Iteration) 또는 스텝(Step)\n",
    "\n",
    "이터레이션이란 한 번의 에포크를 끝내기 위해서 필요한 배치의 수를 말합니다.\n",
    "또는 한 번의 에포크 내에서 이루어지는 매개변수의 업데이트 횟수이기도 합니다.\n",
    "전체 데이터가 2,000일 때 배치 크기를 200으로 한다면 이터레이션의 수는 총 10입니다.\n",
    "이는 한 번의 에포크 당 매개변수 업데이트가 10번 이루어진다는 것을 의미합니다.\n",
    "배치 크기가 1인 확률적 경사 하강법을 이 개념을 가지고 다시 설명하면 배치 크기가 1이므로 모든 이터레이션마다 하나의 데이터를 선택하여 경사 하강법을 수행합니다.\n",
    "이터레이션은 스텝(Step)이라고 부르기도 하므로 두 용어 모두 기억해둡시다."
   ],
   "metadata": {
    "collapsed": false
   },
   "id": "49654ad93a0a4a56"
  },
  {
   "cell_type": "markdown",
   "source": [
    "## 07-05 역전파(BackPropagation) 이해하기\n",
    "***\n",
    "인공 신경망이 순전파 과정을 진행하여 예측값과 실제값의 오차를 계산하였을 때 어떻게 역전파 과정에서 경사 하강법을 사용하여 가중치를 업데이트하는지 직접 계산을 통해 이해해봅시다."
   ],
   "metadata": {
    "collapsed": false
   },
   "id": "7a06a8eb519a483d"
  },
  {
   "cell_type": "markdown",
   "source": [
    "### 1. 인공 신경망의 이해(Neural Network Overview)\n",
    "***\n",
    "\n",
    "우선 예제를 위해 사용될 인공 신경망을 소개합니다. 역전파의 이해를 위해서 여기서 사용할 인공 신경망은 입력층, 은닉층, 출력층 이렇게 3개의 층을 가집니다. 또한 해당 인공 신경망은 두 개의 입력과, 두 개의 은닉층 뉴런, 두 개의 출력층 뉴런을 사용합니다. 은닉층과 출력층의 모든 뉴런은 활성화 함수로 시그모이드 함수를 사용합니다.\n",
    "\n",
    "![그림](img_37.png)\n",
    "\n",
    "위의 그림은 여기서 사용할 인공 신경망의 모습을 보여줍니다. 은닉층과 출력층의 모든 뉴런에서 변수 $z$\n",
    "가 존재하는데 여기서 변수 $z$\n",
    "는 이전층의 모든 입력이 각각의 가중치와 곱해진 값들이 모두 더해진 가중합을 의미합니다. 이 값은 뉴런에서 아직 시그모이드 함수를 거치지 않은 상태입니다. 즉, 활성화 함수의 입력을 의미합니다. \n",
    " $z$우측의 |를 지나서 존재하는 변수 $h$ \n",
    " 또는 $o$\n",
    "는 $z$\n",
    "가 시그모이드 함수를 지난 후의 값으로 각 뉴런의 출력값을 의미합니다. 이번 역전파 예제에서는 인공 신경망에 존재하는 모든 가중치 $w$\n",
    "에 대해서 역전파를 통해 업데이트하는 것을 목표로합니다. 해당 인공 신경망은 편향 \n",
    "$b$는 고려하지 않습니다."
   ],
   "metadata": {
    "collapsed": false
   },
   "id": "65da2943fbc54110"
  },
  {
   "cell_type": "markdown",
   "source": [
    "### 2. 순전파(Forward Propagation)\n",
    "***\n",
    "\n",
    "![그림](img_38.png)\n",
    "\n"
   ],
   "metadata": {
    "collapsed": false
   },
   "id": "55bf347f217d6222"
  },
  {
   "cell_type": "markdown",
   "source": [
    "### 3. 역전파 1단계(BackPropagation Step 1)\n",
    "***\n",
    "\n",
    "![그림](img_39.png)"
   ],
   "metadata": {
    "collapsed": false
   },
   "id": "6855aebbaa402dff"
  },
  {
   "cell_type": "markdown",
   "source": [
    "### 4. 역전파 2단계(BackPropagation Step 2)\n",
    "***\n",
    "\n",
    "![그림](img_40.png)"
   ],
   "metadata": {
    "collapsed": false
   },
   "id": "5470bf1c446068"
  },
  {
   "cell_type": "markdown",
   "source": [
    "### 5. 결과 확인\n",
    "***\n",
    "\n",
    "![그림](img_41.png)"
   ],
   "metadata": {
    "collapsed": false
   },
   "id": "e9c299a6764200f9"
  },
  {
   "cell_type": "markdown",
   "source": [
    "## 07-06 과적합(Overfitting)을 막는 방법들\n",
    "***\n",
    "\n",
    "학습 데이터에 모델이 과적합되는 현상은 모델의 성능을 떨어트리는 주요 이슈입니다.\n",
    "모델이 과적합되면 훈련 데이터에 대한 정확도는 높을지라도, 새로운 데이터. 즉, 검증 데이터나 테스트 데이터에 대해서는 제대로 동작하지 않습니다.\n",
    "이는 모델이 학습 데이터를 불필요할정도로 과하게 암기하여 훈련 데이터에 포함된 노이즈까지 학습한 상태라고 해석할 수 있습니다.\n",
    "이번에는 모델의 과적합을 막을 수 있는 여러가지 방법에 대해서 논의합니다.\n",
    "\n",
    "특히 이 책은 딥 러닝을 다루고 있으므로, 인공 신경망의 과적합을 막는 방법에 초점을 둡니다."
   ],
   "metadata": {
    "collapsed": false
   },
   "id": "27ee1270d8c89b68"
  },
  {
   "cell_type": "markdown",
   "source": [
    "### 1. 데이터의 양을 늘리기\n",
    "***\n",
    "\n",
    "모델은 데이터의 양이 적을 경우, 해당 데이터의 특정 패턴이나 노이즈까지 쉽게 암기하기 되므로 과적합 현상이 발생할 확률이 늘어납니다.\n",
    "그렇기 때문에 데이터의 양을 늘릴 수록 모델은 데이터의 일반적인 패턴을 학습하여 과적합을 방지할 수 있습니다.\n",
    "\n",
    "만약, 데이터의 양이 적을 경우에는 의도적으로 기존의 데이터를 조금씩 변형하고 추가하여 데이터의 양을 늘리기도 하는데 이를 데이터 증식 또는 증강(Data Augmentation)이라고 합니다.\n",
    "이미지의 경우에는 데이터 증식이 많이 사용되는데 이미지를 돌리거나 노이즈를 추가하고, 일부분을 수정하는 등으로 데이터를 증식시킵니다.\n",
    "텍스트 데이터의 경우에는 데이터를 증강하는 방법으로 번역 후 재번역을 통해 새로운 데이터를 만들어내는 역번역(Back Translation) 등의 방법이 있습니다."
   ],
   "metadata": {
    "collapsed": false
   },
   "id": "12e48a9b81be5ed9"
  },
  {
   "cell_type": "markdown",
   "source": [
    "### 2. 모델의 복잡도 줄이기\n",
    "***\n",
    "\n",
    "인공 신경망의 복잡도는 은닉층(hidden layer)의 수나 매개변수의 수 등으로 결정됩니다.\n",
    "과적합 현상이 포착되었을 때, 인공 신경망 모델에 대해서 할 수 있는 한 가지 조치는 인공 신경망의 복잡도를 줄이는 것 입니다.\n",
    "\n",
    "**인공 신경망에서는 모델에 있는 매개변수들의 수를 모델의 수용력(capacity)이라고 하기도 합니다.**"
   ],
   "metadata": {
    "collapsed": false
   },
   "id": "9c97f69d14cf15ce"
  },
  {
   "cell_type": "markdown",
   "source": [
    "### 3. 가중치 규제(Regularization) 적용하기\n",
    "***\n",
    "\n",
    "복잡한 모델이 간단한 모델보다 과적합될 가능성이 높습니다.\n",
    "그리고 간단한 모델은 적은 수의 매개변수를 가진 모델을 말합니다.\n",
    "복잡한 모델을 좀 더 간단하게 하는 방법으로 가중치 규제(Regularization)가 있습니다.\n",
    "\n",
    "- L1 규제 : 가중치 w들의 절대값 합계를 비용 함수에 추가합니다. L1 노름이라고도 합니다.\n",
    "- L2 규제 : 모든 가중치 w들의 제곱합을 비용 함수에 추가합니다. L2 노름이라고도 합니다.\n",
    "\n",
    "L1 규제는 기존의 비용 함수에 모든 가중치에 대해서 $ \\lambda | w $를 더 한 값을 비용 함수로 하고,\n",
    "L2 규제는 기존의 비용 함수에 모든 가중치에 대해서 $ \\frac{1}{2} \\lambda w^2$를 더 한 값을 비용 함수로 합니다. \n",
    "$\\lambda$는 규제의 강도를 정하는 하이퍼파라미터입니다. \n",
    "$\\lambda$가 크다면 모델이 훈련 데이터에 대해서 적합한 매개 변수를 찾는 것보다 규제를 위해 추가된 항들을 작게 유지하는 것을 우선한다는 의미가 됩니다.\n",
    "\n",
    "이 두 식 모두 비용 함수를 최소화하기 위해서는 가중치 w들의 값이 작아져야 한다는 특징이 있습니다.\n",
    "L1 규제로 예를 들어봅시다.\n",
    "L1 규제를 사용하면 비용 함수가 최소가 되게 하는 가중치와 편향을 찾는 동시에 가중치들의 절대값의 합도 최소가 되어야 합니다.\n",
    "이렇게 되면, 가중치 w의 값들은 0 또는 0에 가까이 작아져야 하므로 어떤 특성들은 모델을 만들 때 거의 사용되지 않게 됩니다.\n",
    "\n",
    "예를 들어 \n",
    "$H(X) = w1x1 + w2x2 + w3x3 + w4x4$라는 수식이 있다고 해봅시다.\n",
    "여기에 L1 규제를 사용하였더니, $w3$의 값이 0이 되었다고 해봅시다.\n",
    "이는 $x3$특성은 사실 모델의 결과에 별 영향을 주지 못하는 특성임을 의미합니다.\n",
    "\n",
    "L2 규제는 L1 규제와는 달리 가중치들의 제곱을 최소화하므로 w의 값이 완전히 0이 되기보다는 0에 가까워지기는 경향을 띕니다.\n",
    "L1 규제는 어떤 특성들이 모델에 영향을 주고 있는지를 정확히 판단하고자 할 때 유용합니다.\n",
    "만약, 이런 판단이 필요없다면 경험적으로는 L2 규제가 더 잘 동작하므로 L2 규제를 더 권장합니다.\n",
    "인공 신경망에서 L2 규제는 가중치 감쇠(weight decay)라고도 부릅니다.\n",
    "\n",
    "책에 따라서는 Regularization를 정규화로 번역하기도 하지만, 이는 정규화(Normalization)와 혼동될 수 있으므로 규제 또는 정형화라는 번역이 바람직한 것 같습니다.\n",
    "\n",
    "인공 신경망에서 정규화(Normalization)라는 용어가 쓰이는 기법으로는 또 배치 정규화, 층 정규화 등이 있습니다."
   ],
   "metadata": {
    "collapsed": false
   },
   "id": "6503e0fe4d6e002f"
  },
  {
   "cell_type": "markdown",
   "source": [
    "### 4. 드롭아웃(Dropout)\n",
    "***\n",
    "\n",
    "드롭아웃은 학습 과정에서 신경망의 일부를 사용하지 않는 방법입니다.\n",
    "\n",
    "![그림](img_42.png)\n",
    "\n",
    "위의 그림은 드롭아웃 전과 후의 신경망을 비교하고 있습니다.\n",
    "예를 들어 드롭아웃의 비율을 0.5로 한다면 학습 과정마다 랜덤으로 절반의 뉴런을 사용하지 않고, 절반의 뉴런만을 사용합니다.\n",
    "\n",
    "드롭아웃은 신경망 학습 시에만 사용하고, 예측 시에는 사용하지 않는 것이 일반적입니다.\n",
    "학습 시에 인공 신경망이 특정 뉴런 또는 특정 조합에 너무 의존적이게 되는 것을 방지해주고,\n",
    "매번 랜덤 선택으로 뉴런들을 사용하지 않으므로 서로 다른 신경망들을 앙상블하여 사용하는 것 같은 효과를 내어 과적합을 방지합니다.\n",
    "\n",
    "케라스에서는 다음과 같은 방법으로 드롭아웃을 모델에 추가할 수 있습니다."
   ],
   "metadata": {
    "collapsed": false
   },
   "id": "c0dbd3614567ea34"
  },
  {
   "cell_type": "code",
   "outputs": [
    {
     "name": "stdout",
     "output_type": "stream",
     "text": [
      "WARNING:tensorflow:From C:\\Users\\ISY\\anaconda3\\Lib\\site-packages\\keras\\src\\losses.py:2976: The name tf.losses.sparse_softmax_cross_entropy is deprecated. Please use tf.compat.v1.losses.sparse_softmax_cross_entropy instead.\n",
      "WARNING:tensorflow:From C:\\Users\\ISY\\anaconda3\\Lib\\site-packages\\keras\\src\\backend.py:873: The name tf.get_default_graph is deprecated. Please use tf.compat.v1.get_default_graph instead.\n"
     ]
    }
   ],
   "source": [
    "from tensorflow.keras.models import Sequential\n",
    "from tensorflow.keras.layers import Dropout, Dense\n",
    "\n",
    "max_words = 10000\n",
    "num_classes = 46\n",
    "\n",
    "model = Sequential()\n",
    "model.add(Dense(256, input_shape=(max_words,), activation='relu'))\n",
    "model.add(Dropout(0.5)) # 드롭아웃 추가. 비율은 50%\n",
    "model.add(Dense(128, activation='relu'))\n",
    "model.add(Dropout(0.5)) # 드롭아웃 추가. 비율은 50%\n",
    "model.add(Dense(num_classes, activation='softmax'))"
   ],
   "metadata": {
    "collapsed": false,
    "ExecuteTime": {
     "end_time": "2024-02-06T06:51:40.584202400Z",
     "start_time": "2024-02-06T06:51:31.996498600Z"
    }
   },
   "id": "2a234250d2660484",
   "execution_count": 1
  },
  {
   "cell_type": "markdown",
   "source": [
    "## 07-07 기울기 소실(Gradient Vanishing)과 폭주(Exploding)\n",
    "***\n",
    "\n",
    "깊은 인공 신경망을 학습하다보면 역전파 과정에서 입력층으로 갈 수록 기울기(Gradient)가 점차적으로 작아지는 현상이 발생할 수 있습니다.\n",
    "입력층에 가까운 층들에서 가중치들이 업데이트가 제대로 되지 않으면 결국 최적의 모델을 찾을 수 없게 됩니다. 이를 기울기 소실(Gradient Vanishing) 이라고 합니다.\n",
    "\n",
    "반대의 경우도 있습니다. 기울기가 점차 커지더니 가중치들이 비정상적으로 큰 값이 되면서 결국 발산되기도 합니다.\n",
    "이를 기울기 폭주(Gradient Exploding) 라고 하며, 다음 챕터에서 배울 순환 신경망(Recurrent Neural Network, RNN)에서 쉽게 발생할 수 있습니다.\n",
    "여기서는 기울기 소실 또는 기울기 폭주를 막는 방법들에 대해서 다룹니다."
   ],
   "metadata": {
    "collapsed": false
   },
   "id": "bedd931c34856884"
  },
  {
   "cell_type": "markdown",
   "source": [
    "### 1. ReLU와 ReLU의 변형들\n",
    "***\n",
    "\n",
    "시그모이드 함수를 사용하면 입력의 절대값이 클 경우에 시그모이드 함수의 출력값이 0 또는 1에 수렴하면서 기울기가 0에 가까워집니다.\n",
    "그래서 역전파 과정에서 전파 시킬 기울기가 점차 사라져서 입력층 방향으로 갈 수록 제대로 역전파가 되지 않는 기울기 소실 문제가 발생할 수 있습니다.\n",
    "\n",
    "기울기 소실을 완화하는 가장 간단한 방법은 은닉층의 활성화 함수로 시그모이드나 하이퍼볼릭탄젠트 함수 대신에 ReLU나 ReLU의 변형 함수와 같은 Leaky ReLU를 사용하는 것입니다.\n",
    "\n",
    "- 은닉층에서는 시그모이드 함수를 사용하지 마세요.\n",
    "- Leaky ReLU를 사용하면 모든 입력값에 대해서 기울기가 0에 수렴하지 않아 죽은 ReLU 문제를 해결합니다.\n",
    "- 은닉층에서는 ReLU나 Leaky ReLU와 같은 ReLU 함수의 변형들을 사용하세요."
   ],
   "metadata": {
    "collapsed": false
   },
   "id": "e6d000b1257d4be0"
  },
  {
   "cell_type": "markdown",
   "source": [
    "### 2. 그래디언트 클리핑(Gradient Clipping)\n",
    "***\n",
    "\n",
    "그래디언트 클리핑은 말 그대로 기울기 값을 자르는 것을 의미합니다.\n",
    "기울기 폭주를 막기 위해 임계값을 넘지 않도록 값을 자릅니다. 다시 말해서 임계치만큼 크기를 감소시킵니다.\n",
    "이는 뒤에서 배울 신경망인 RNN에서 유용합니다. RNN은 역전파 과정에서 시점을 역행하면서 기울기를 구하는데, 이때 기울기가 너무 커질 수 있기 때문입니다.\n",
    "케라스에서는 다음과 같은 방법으로 그래디언트 클리핑을 수행합니다."
   ],
   "metadata": {
    "collapsed": false
   },
   "id": "2cd8fd0644bb57c7"
  },
  {
   "cell_type": "code",
   "outputs": [],
   "source": [
    "from tensorflow.keras import optimizers\n",
    "\n",
    "Adam = optimizers.Adam(lr=0.0001, clipnorm=1.)"
   ],
   "metadata": {
    "collapsed": false
   },
   "id": "3073933586cedbde"
  },
  {
   "cell_type": "markdown",
   "source": [
    "### 3. 가중치 초기화(Weight initialization)\n",
    "***\n",
    "\n",
    "같은 모델을 훈련시키더라도 가중치가 초기에 어떤 값을 가졌느냐에 따라서 모델의 훈련 결과가 달라지기도 합니다.\n",
    "다시 말해 가중치 초기화만 적절히 해줘도 기울기 소실 문제과 같은 문제를 완화시킬 수 있습니다."
   ],
   "metadata": {
    "collapsed": false
   },
   "id": "3bbd0b0da21f0779"
  },
  {
   "cell_type": "markdown",
   "source": [
    "#### 1) 세이비어 초기화(Xavier Initialization)"
   ],
   "metadata": {
    "collapsed": false
   },
   "id": "69c1b26cd9b640c"
  },
  {
   "cell_type": "markdown",
   "source": [
    "#### 2) He 초기화(He initialization)\n"
   ],
   "metadata": {
    "collapsed": false
   },
   "id": "9b20737ac136c11f"
  },
  {
   "cell_type": "markdown",
   "source": [
    "### 4. 배치 정규화(Batch Normalization)\n",
    "***\n",
    "ReLU 계열의 함수와 He 초기화를 사용하는 것만으로도 어느 정도 기울기 소실과 폭주를 완화시킬 수 있지만,\n",
    "이 두 방법을 사용하더라도 훈련 중에 언제든 다시 발생할 수 있습니다.\n",
    "기울기 소실이나 폭주를 예방하는 또 다른 방법은 배치 정규화(Batch Normalization)입니다.\n",
    "배치 정규화는 인공 신경망의 각 층에 들어가는 입력을 평균과 분산으로 정규화하여 학습을 효율적으로 만듭니다."
   ],
   "metadata": {
    "collapsed": false
   },
   "id": "21aaefc3f488d734"
  },
  {
   "cell_type": "markdown",
   "source": [
    "#### 1) 내부 공변량 변화(Internal Covariate Shift)\n",
    "\n",
    "배치 정규화를 이해하기 위해서는 내부 공변량 변화(Internal Covariate Shift)를 이해할 필요가 있습니다. 내부 공변량 변화란 학습 과정에서 층 별로 입력 데이터 분포가 달라지는 현상을 말합니다. 이전 층들의 학습에 의해 이전 층의 가중치 값이 바뀌게 되면, 현재 층에 전달되는 입력 데이터의 분포가 현재 층이 학습했던 시점의 분포와 차이가 발생합니다. 배치 정규화를 제안한 논문에서는 기울기 소실/폭주 등의 딥 러닝 모델의 불안전성이 층마다 입력의 분포가 달라지기 때문이라고 주장합니다. (배치 정규화를 제안한 논문에서는 이렇게 주장했지만, 뒤에 이어서는 이에 대한 반박들이 나오기는 했습니다. 하지만 그 이유가 어찌되었든 배치 정규화가 학습을 돕는다는 것은 명백합니다.)\n",
    "\n",
    "공변량 변화는 훈련 데이터의 분포와 테스트 데이터의 분포가 다른 경우를 의미합니다.\n",
    "내부 공변량 변화는 신경망 층 사이에서 발생하는 입력 데이터의 분포 변화를 의미합니다."
   ],
   "metadata": {
    "collapsed": false
   },
   "id": "14b9acc9d37c12b6"
  },
  {
   "cell_type": "markdown",
   "source": [
    "#### 2) 배치 정규화(Batch Normalization)\n",
    "\n",
    "배치 정규화(Batch Normalization)는 표현 그대로 한 번에 들어오는 배치 단위로 정규화하는 것을 말합니다.\n",
    "배치 정규화는 각 층에서 활성화 함수를 통과하기 전에 수행됩니다. 배치 정규화를 요약하면 다음과 같습니다.\n",
    "입력에 대해 평균을 0으로 만들고, 정규화를 합니다. 그리고 정규화 된 데이터에 대해서 스케일과 시프트를 수행합니다.\n",
    "이때 두 개의 매개변수 γ와 β를 사용하는데, γ는 스케일을 위해 사용하고, β는 시프트를 하는 것에 사용하며 다음 레이어에 일정한 범위의 값들만 전달되게 합니다.\n",
    "\n",
    "배치 정규화의 수식은 다음과 같습니다. 아래에서 $BN$은 배치 정규화를 의미합니다.\n",
    "\n",
    "![그림](img_43.png)\n",
    "\n",
    "배치 정규화는 학습 시 배치 단위의 평균과 분산들을 차례대로 받아 이동 평균과 이동 분산을 저장해놓았다가 테스트 할 때는 해당 배치의 평균과 분산을 구하지 않고 구해놓았던 평균과 분산으로 정규화를 합니다.\n",
    "\n",
    "- 배치 정규화를 사용하면 시그모이드 함수나 하이퍼볼릭탄젠트 함수를 사용하더라도 기울기 소실 문제가 크게 개선됩니다.\n",
    "- 가중치 초기화에 훨씬 덜 민감해집니다.\n",
    "- 훨씬 큰 학습률을 사용할 수 있어 학습 속도를 개선시킵니다.\n",
    "- 미니 배치마다 평균과 표준편차를 계산하여 사용하므로 훈련 데이터에 일종의 잡음 주입의 부수 효과로 과적합을 방지하는 효과도 냅니다. 다시 말해, 마치 드롭아웃과 비슷한 효과를 냅니다. 물론, 드롭 아웃과 함께 사용하는 것이 좋습니다.\n",
    "- 배치 정규화는 모델을 복잡하게 하며, 추가 계산을 하는 것이므로 테스트 데이터에 대한 예측 시에 실행 시간이 느려집니다. 그래서 서비스 속도를 고려하는 관점에서는 배치 정규화가 꼭 필요한지 고민이 필요합니다.\n",
    "- 배치 정규화의 효과는 굉장하지만 내부 공변량 변화때문은 아니라는 논문도 있습니다. : [논문 링크](https://arxiv.org/pdf/1805.11604.pdf)\n"
   ],
   "metadata": {
    "collapsed": false
   },
   "id": "ea02b18c2d268e9b"
  },
  {
   "cell_type": "markdown",
   "source": [
    "#### 3) 배치 정규화의 한계\n",
    "\n",
    "배치 정규화는 뛰어난 방법이지만 몇 가지 한계가 존재합니다.\n",
    "\n",
    "1. 미니 배치 크기에 의존적이다.\n",
    "배치 정규화는 너무 작은 배치 크기에서는 잘 동작하지 않을 수 있습니다. 단적으로 배치 크기를 1로 하게되면 분산은 0이 됩니다. 작은 미니 배치에서는 배치 정규화의 효과가 극단적으로 작용되어 훈련에 악영향을 줄 수 있습니다. 배치 정규화를 적용할때는 작은 미니 배치보다는 크기가 어느정도 되는 미니 배치에서 하는 것이 좋습니다. 이처럼 배치 정규화는 배치 크기에 의존적인 면이 있습니다.\n",
    "\n",
    "<br/>\n",
    "\n",
    "2. RNN에 적용하기 어렵다.\n",
    "뒤에서 배우겠지만, RNN은 각 시점(time step)마다 다른 통계치를 가집니다. 이는 RNN에 배치 정규화를 적용하는 것을 어렵게 만듭니다. RNN에서 배치 정규화를 적용하기 위한 몇 가지 논문이 제시되어 있지만, 여기서는 이를 소개하는 대신 배치 크기에도 의존적이지 않으며, RNN에도 적용하는 것이 수월한 층 정규화(layer normalization)라는 방법을 소개하고자 합니다.\n"
   ],
   "metadata": {
    "collapsed": false
   },
   "id": "67c901ad80a473c5"
  },
  {
   "cell_type": "markdown",
   "source": [
    "### 5. 층 정규화(Layer Normalization)\n",
    "***\n",
    "\n",
    "층 정규화를 이해하기에 앞서 배치 정규화를 시각화해보겠습니다. 다음은 $m$이 3이고, 특성의 수가 4일 때의 배치 정규화를 보여줍니다.\n",
    "미니 배치란 동일한 특성(feature) 개수들을 가진 다수의 샘플들을 의미함을 상기합시다.\n",
    "\n",
    "![그림](img_44.png)"
   ],
   "metadata": {
    "collapsed": false
   },
   "id": "239d0cbc3bde3e10"
  },
  {
   "cell_type": "markdown",
   "source": [
    "## 07-08 케라스(Keras) 훑어보기\n",
    "***"
   ],
   "metadata": {
    "collapsed": false
   },
   "id": "ad42d00e3811cec2"
  },
  {
   "cell_type": "markdown",
   "source": [
    "### 1. 전처리(Preprocessing)\n",
    "***\n",
    "Tokenizer() : 토큰화와 정수 인코딩을 위해 사용됩니다. 다음은 훈련 데이터로부터 단어 집합을 생성하고, 해당 단어 집합으로 임의의 문장을 정수 인코딩하는 과정을 보여줍니다."
   ],
   "metadata": {
    "collapsed": false
   },
   "id": "723132683c723eb7"
  },
  {
   "cell_type": "code",
   "outputs": [
    {
     "name": "stdout",
     "output_type": "stream",
     "text": [
      "정수 인코딩 :  [1, 2, 3, 4, 6, 7]\n",
      "단어 집합 :  {'the': 1, 'earth': 2, 'is': 3, 'an': 4, 'awesome': 5, 'place': 6, 'live': 7}\n"
     ]
    }
   ],
   "source": [
    "from tensorflow.keras.preprocessing.text import Tokenizer\n",
    "from tensorflow.keras.preprocessing.sequence import pad_sequences\n",
    "\n",
    "tokenizer = Tokenizer()\n",
    "train_text = \"The earth is an awesome place live\"\n",
    "\n",
    "# 단어 집합 생성\n",
    "tokenizer.fit_on_texts([train_text])\n",
    "\n",
    "# 정수 인코딩\n",
    "sub_text = \"The earth is an great place live\"\n",
    "sequences = tokenizer.texts_to_sequences([sub_text])[0]\n",
    "\n",
    "print(\"정수 인코딩 : \",sequences)\n",
    "print(\"단어 집합 : \",tokenizer.word_index)"
   ],
   "metadata": {
    "collapsed": false,
    "ExecuteTime": {
     "end_time": "2024-02-06T07:34:34.017023400Z",
     "start_time": "2024-02-06T07:34:33.991854Z"
    }
   },
   "id": "30bb27f92f6050f3",
   "execution_count": 2
  },
  {
   "cell_type": "markdown",
   "source": [
    "출력 결과를 보면 great는 단어 집합(vocabulary)에 없으므로 출력되지 않습니다."
   ],
   "metadata": {
    "collapsed": false
   },
   "id": "69ad2ec7ab6cec10"
  },
  {
   "cell_type": "markdown",
   "source": [
    "pad_sequence() : 전체 훈련 데이터에서 각 샘플의 길이는 서로 다를 수 있습니다. 또는 각 문서 또는 각 문장은 단어의 수가 제각각입니다. 모델의 입력으로 사용하려면 모든 샘플의 길이를 동일하게 맞추어야할 때가 있습니다. 이를 자연어 처리에서는 패딩(padding) 작업이라고 하는데, 보통 숫자 0을 넣어서 길이가 다른 샘플들의 길이를 맞춰줍니다. 케라스에서는 pad_sequence()를 사용합니다. pad_sequence()는 정해준 길이보다 길이가 긴 샘플은 값을 일부 자르고, 정해준 길이보다 길이가 짧은 샘플은 값을 0으로 채웁니다."
   ],
   "metadata": {
    "collapsed": false
   },
   "id": "21045a3fea0a4cdd"
  },
  {
   "cell_type": "code",
   "outputs": [
    {
     "data": {
      "text/plain": "array([[1, 2, 3],\n       [4, 5, 6],\n       [0, 7, 8]])"
     },
     "execution_count": 3,
     "metadata": {},
     "output_type": "execute_result"
    }
   ],
   "source": [
    "pad_sequences([[1, 2, 3], [3, 4, 5, 6], [7, 8]], maxlen=3, padding='pre')"
   ],
   "metadata": {
    "collapsed": false,
    "ExecuteTime": {
     "end_time": "2024-02-06T07:35:08.173658800Z",
     "start_time": "2024-02-06T07:35:08.134752800Z"
    }
   },
   "id": "30ec6147875fc6a5",
   "execution_count": 3
  },
  {
   "cell_type": "markdown",
   "source": [
    "첫번째 인자 = 패딩을 진행할 데이터\n",
    "maxlen = 모든 데이터에 대해서 정규화 할 길이\n",
    "padding = 'pre'를 선택하면 앞에 0을 채우고 'post'를 선택하면 뒤에 0을 채움."
   ],
   "metadata": {
    "collapsed": false
   },
   "id": "1c36f8621ad3d74f"
  },
  {
   "cell_type": "markdown",
   "source": [
    "### 2. 워드 임베딩(Word Embedding)\n",
    "***\n",
    "\n",
    "워드 임베딩 챕터에서 다루겠지만, 워드 임베딩이란 텍스트 내의 단어들을 밀집 벡터(dense vector)로 만드는 것을 말합니다. 앞서 배운 개념인 원-핫 벡터와 비교해봅시다. 원-핫 벡터는 대부분이 0의 값을 가지고, 단 하나의 1의 값을 가지는 벡터이며 벡터의 차원이 대체적으로 크다는 성질을 가졌습니다.\n",
    "\n",
    "Ex) [0 1 0 0 0 0 ... 중략 ... 0 0 0 0 0 0 0] # 차원이 굉장히 크면서 대부분의 값이 0\n",
    "원-핫 벡터는 단어 집합의 크기만큼 벡터의 차원을 가지며 단어 벡터 간의 유의미한 유사도를 구할 수 없다는 단점이 있습니다. 반면 워드 임베딩으로부터 얻은 임베딩 벡터는 상대적으로 저차원을 가지며 모든 원소의 값이 실수입니다.\n",
    "\n",
    "Ex) [0.1 -1.2 0.8 0.2 1.8] # 상대적으로 저차원이며 실수값을 가짐\n",
    "간단히 표로 정리하면 아래와 같습니다.\n",
    "\n",
    "![표](img_45.png)\n",
    "\n",
    "단어를 원-핫 벡터로 만드는 과정을 원-핫 인코딩이라고 한다면, 단어를 밀집 벡터로 만드는 작업을 워드 임베딩(word embedding) 이라고 합니다. 밀집 벡터는 워드 임베딩 과정을 통해 나온 결과므로 임베딩 벡터(embedding vector)라고도 합니다. 원-핫 벡터의 차원이 주로 20,000 이상을 넘어가는 것과는 달리 임베딩 벡터는 주로 256, 512, 1024 등의 차원을 가집니다. 임베딩 벡터는 초기에는 랜덤값을 가지지만, 인공 신경망의 가중치가 학습되는 방법과 같은 방식으로 값이 학습되며 변경됩니다.\n",
    "\n",
    "Embedding() : Embedding()은 단어를 밀집 벡터로 만드는 역할을 합니다. 인공 신경망 용어로는 임베딩 층(embedding layer)을 만드는 역할을 합니다. Embedding()은 정수 인코딩이 된 단어들을 입력을 받아서 임베딩을 수행합니다.\n",
    "\n",
    "Embedding()은 (number of samples, input_length)인 2D 정수 텐서를 입력받습니다. 이때 각 sample은 정수 인코딩이 된 결과로, 정수의 시퀀스입니다. Embedding()은 워드 임베딩 작업을 수행하고 (number of samples, input_length, embedding word dimensionality)인 3D 텐서를 리턴합니다.\n",
    "\n",
    "아래의 코드는 실제 동작되는 코드가 아니라 의사 코드(pseudo-code)로 임베딩의 개념 이해를 돕기 위해서 작성되었습니다.\n",
    "\n",
    "\n",
    "```python\n",
    "# 1. 토큰화\n",
    "tokenized_text = [['Hope', 'to', 'see', 'you', 'soon'], ['Nice', 'to', 'see', 'you', 'again']]\n",
    "\n",
    "# 2. 각 단어에 대한 정수 인코딩\n",
    "encoded_text = [[0, 1, 2, 3, 4],[5, 1, 2, 3, 6]]\n",
    "\n",
    "# 3. 위 정수 인코딩 데이터가 아래의 임베딩 층의 입력이 된다.\n",
    "vocab_size = 7\n",
    "embedding_dim = 2\n",
    "Embedding(vocab_size, embedding_dim, input_length=5)\n",
    "\n",
    "# 각 정수는 아래의 테이블의 인덱스로 사용되며 Embedding()은 각 단어마다 임베딩 벡터를 리턴한다.\n",
    "+------------+------------+\n",
    "|   index    | embedding  |\n",
    "+------------+------------+\n",
    "|     0      | [1.2, 3.1] |\n",
    "|     1      | [0.1, 4.2] |\n",
    "|     2      | [1.0, 3.1] |\n",
    "|     3      | [0.3, 2.1] |\n",
    "|     4      | [2.2, 1.4] |\n",
    "|     5      | [0.7, 1.7] |\n",
    "|     6      | [4.1, 2.0] |\n",
    "+------------+------------+\n",
    "\n",
    "# 위의 표는 임베딩 벡터가 된 결과를 예로서 정리한 것이고 Embedding()의 출력인 3D 텐서를 보여주는 것이 아님.\n",
    "```"
   ],
   "metadata": {
    "collapsed": false
   },
   "id": "f8f38b71cdeeeced"
  },
  {
   "cell_type": "markdown",
   "source": [
    "Embedding()의 대표적인 인자는 다음과 같습니다.\n",
    "\n",
    "첫번째 인자 = 단어 집합의 크기. 즉, 총 단어의 개수\n",
    "두번째 인자 = 임베딩 벡터의 출력 차원. 결과로서 나오는 임베딩 벡터의 크기\n",
    "input_length = 입력 시퀀스의 길이"
   ],
   "metadata": {
    "collapsed": false
   },
   "id": "58bfad43e7c8d25"
  },
  {
   "cell_type": "markdown",
   "source": [
    "### 3. 모델링(Modeling)\n",
    "***\n",
    "\n",
    "Sequential() : 인공 신경망 챕터에서 입력층, 은닉층, 출력층에 대해서 배웠습니다. 케라스에서는 이러한 층을 구성하기 위해 Sequential()을 사용합니다. Sequential()을 model로 선언한 뒤에 model.add()라는 코드를 통해 층을 단계적으로 추가합니다. 아래는 model.add()로 층을 추가하는 예제 코드를 보여줍니다. 실제로는 세 개의 온점 대신에 층의 이름을 기재해야 합니다."
   ],
   "metadata": {
    "collapsed": false
   },
   "id": "894f6b8787c6e9ba"
  },
  {
   "cell_type": "code",
   "outputs": [],
   "source": [
    "from tensorflow.keras.models import Sequential\n",
    "from tensorflow.keras.layers import Dense\n",
    "\n",
    "model = Sequential()\n",
    "model.add(...) # 층 추가\n",
    "model.add(...) # 층 추가\n",
    "model.add(...) # 층 추가"
   ],
   "metadata": {
    "collapsed": false
   },
   "id": "8e02fdf1381944e2"
  },
  {
   "cell_type": "markdown",
   "source": [
    "Embedding()을 통해 생성하는 임베딩 층(embedding layer)을 추가하는 예시를 봅시다."
   ],
   "metadata": {
    "collapsed": false
   },
   "id": "407c3b47a46dc3fb"
  },
  {
   "cell_type": "code",
   "outputs": [],
   "source": [
    "# model = Sequential()\n",
    "# model.add(Embedding(vocab_size, output_dim, input_length))"
   ],
   "metadata": {
    "collapsed": false
   },
   "id": "85ac19732f89df67"
  },
  {
   "cell_type": "markdown",
   "source": [
    "전결합층(fully-connected layer)을 추가하는 예시를 보겠습니다."
   ],
   "metadata": {
    "collapsed": false
   },
   "id": "9d52ab41bc86f028"
  },
  {
   "cell_type": "code",
   "outputs": [],
   "source": [
    "model = Sequential()\n",
    "model.add(Dense(1, input_dim=3, activation='relu'))"
   ],
   "metadata": {
    "collapsed": false
   },
   "id": "59fe600ba7ad36f8"
  },
  {
   "cell_type": "markdown",
   "source": [
    "위의 코드에서 Dense()는 한번 사용되었지만 더 많은 층을 추가할 수 있습니다. Dense()의 대표적인 인자를 보겠습니다.\n",
    "\n",
    "첫번째 인자 = 출력 뉴런의 수.\n",
    "input_dim = 입력 뉴런의 수. (입력의 차원)\n",
    "activation = 활성화 함수.\n",
    "- linear : 디폴트 값으로 별도 활성화 함수 없이 입력 뉴런과 가중치의 계산 결과 그대로 출력.\n",
    "- sigmoid : 이진 분류 문제에서 출력층에 주로 사용되는 활성화 함수.\n",
    "- softmax : 셋 이상의 선택지 중 하나를 택하는 다중 클래스 분류 문제에서 출력층에 주로 사용되는 활성화 함수.\n",
    "- relu : 은닉층에 주로 사용되는 활성화 함수."
   ],
   "metadata": {
    "collapsed": false
   },
   "id": "ddcb6ea3bcf57adf"
  },
  {
   "cell_type": "markdown",
   "source": [
    "위 코드에서 사용된 Dense()의 의미를 보겠습니다. 첫번째 인자의 값은 1인데 이는 총 1개의 출력 뉴런을 의미합니다. Dense()의 두번째 인자인 input_dim은 입력층의 뉴런 수를 의미합니다. 이 경우에는 3입니다. 3개의 입력층 뉴런과 1개의 출력층 뉴런을 만들었습니다. 이를 시각화하면 다음과 같습니다.\n",
    "\n",
    "![그림](img_46.png)\n",
    "\n",
    "Dense()를 사용하여 전결합층을 하나 더 추가해보겠습니다."
   ],
   "metadata": {
    "collapsed": false
   },
   "id": "ea31fd1de7cf811e"
  },
  {
   "cell_type": "code",
   "outputs": [],
   "source": [
    "model = Sequential()\n",
    "model.add(Dense(8, input_dim=4, activation='relu'))\n",
    "model.add(Dense(1, activation='sigmoid')) # 출력층"
   ],
   "metadata": {
    "collapsed": false
   },
   "id": "c48bdec8f53a9846"
  },
  {
   "cell_type": "markdown",
   "source": [
    "이번에는 Dense()가 두 번 사용되었습니다. Dense()가 처음 사용되었을 때와 추가로 사용되었을 때의 인자는 조금 다릅니다. 첫번째 사용된 Dense()의 8이라는 값은 더 이상 출력층의 뉴런이 아니라 은닉층의 뉴런입니다. 층이 하나 더 생겼기 때문입니다.\n",
    "\n",
    "두번째 Dense()는 input_dim 인자가 없는데, 이는 이미 이전 층의 뉴런 수가 8개임을 알고있기 때문입니다. 위 코드에서 두번째 Dense()는 마지막 층이므로, 첫번째 인자 1은 결국 출력층의 뉴런 개수가 됩니다. 이를 시각화하면 다음과 같습니다.\n",
    "\n",
    "![그림](img_47.png)\n",
    "\n",
    "이 외에도 LSTM, GRU, Convolution2D, BatchNormalization 등 다양한 층을 만들 수 있습니다. 일부는 뒤에서 배웁니다."
   ],
   "metadata": {
    "collapsed": false
   },
   "id": "52b49cf2c07826fe"
  },
  {
   "cell_type": "markdown",
   "source": [
    "summary() : 모델의 정보를 요약해서 보여줍니다."
   ],
   "metadata": {
    "collapsed": false
   },
   "id": "62c0e04b3db3ba5b"
  },
  {
   "cell_type": "code",
   "outputs": [
    {
     "name": "stdout",
     "output_type": "stream",
     "text": [
      "Model: \"sequential\"\n",
      "_________________________________________________________________\n",
      " Layer (type)                Output Shape              Param #   \n",
      "=================================================================\n",
      " dense (Dense)               (None, 256)               2560256   \n",
      "                                                                 \n",
      " dropout (Dropout)           (None, 256)               0         \n",
      "                                                                 \n",
      " dense_1 (Dense)             (None, 128)               32896     \n",
      "                                                                 \n",
      " dropout_1 (Dropout)         (None, 128)               0         \n",
      "                                                                 \n",
      " dense_2 (Dense)             (None, 46)                5934      \n",
      "                                                                 \n",
      "=================================================================\n",
      "Total params: 2599086 (9.91 MB)\n",
      "Trainable params: 2599086 (9.91 MB)\n",
      "Non-trainable params: 0 (0.00 Byte)\n",
      "_________________________________________________________________\n"
     ]
    }
   ],
   "source": [
    "model.summary()"
   ],
   "metadata": {
    "collapsed": false,
    "ExecuteTime": {
     "end_time": "2024-02-06T08:06:55.681972300Z",
     "start_time": "2024-02-06T08:06:55.576554600Z"
    }
   },
   "id": "2cf495d154318ac1",
   "execution_count": 4
  },
  {
   "cell_type": "markdown",
   "source": [
    "### 4. 컴파일(Compile)과 훈련(Training)\n",
    "***\n",
    "\n",
    "아래의 코드는 RNN을 이용하여 이진 분류를 하는 전형적인 코드를 보여줍니다. RNN은 다음 챕터에서 학습합니다.\n",
    "임베딩층, 은닉층, 출력층을 추가하여 모델을 설계한 후에, 마지막으로 컴파일을 합니다.\n",
    "\n",
    "compile() : 모델을 기계가 이해할 수 있도록 컴파일 합니다. 손실 함수와 옵티마이저, 메트릭 함수를 선택합니다."
   ],
   "metadata": {
    "collapsed": false
   },
   "id": "2b1b81559c47b368"
  },
  {
   "cell_type": "code",
   "outputs": [],
   "source": [
    "from tensorflow.keras.layers import SimpleRNN, Embedding, Dense\n",
    "from tensorflow.keras.models import Sequential\n",
    "\n",
    "vocab_size = 10000\n",
    "embedding_dim = 32\n",
    "hidden_units = 32\n",
    "\n",
    "model = Sequential()\n",
    "model.add(Embedding(vocab_size, embedding_dim))\n",
    "model.add(SimpleRNN(hidden_units))\n",
    "model.add(Dense(1, activation='sigmoid'))\n",
    "model.compile(optimizer='rmsprop', loss='binary_crossentropy', metrics=['acc'])"
   ],
   "metadata": {
    "collapsed": false
   },
   "id": "ab80155f68d0a3a1"
  },
  {
   "cell_type": "markdown",
   "source": [
    "optimizer = 훈련 과정을 설정하는 옵티마이저를 설정합니다.\n",
    "loss = 훈련 과정에서 사용할 손실 함수(loss function)를 설정합니다.\n",
    "metrics = 훈련을 모니터링하기 위한 지표를 선택합니다.\n",
    "\n",
    "대표적으로 사용되는 손실 함수와 활성화 함수의 조합은 다음과 같습니다. 더 많은 함수는 공식문서를 참고바랍니다.\n",
    "\n",
    "![그림](img_48.png)\n",
    "\n",
    "sparse_categorical_crossentropy는 categorical_crossentropy와 동일하게 다중 클래스 분류에서 사용하지만,\n",
    "레이블을 원-핫 인코딩하지 않고 정수 인코딩 된 상태에서 수행 가능하다는 점이 다릅니다."
   ],
   "metadata": {
    "collapsed": false
   },
   "id": "b88cebf1a5e677aa"
  },
  {
   "cell_type": "markdown",
   "source": [
    "fit() : 모델을 학습합니다. 모델이 오차로부터 매개 변수를 업데이트 시키는 과정을 학습, 훈련, 또는 적합(fitting)이라고 하는데, 모델이 데이터에 적합해가는 과정이기 때문입니다. 그런 의미에서 fit()은 모델의 훈련을 시작합니다."
   ],
   "metadata": {
    "collapsed": false
   },
   "id": "7700fd90938f5d72"
  },
  {
   "cell_type": "code",
   "outputs": [],
   "source": [
    "# 위의 compile() 코드의 연장선상인 코드\n",
    "# model.fit(X_train, y_train, epochs=10, batch_size=32)"
   ],
   "metadata": {
    "collapsed": false
   },
   "id": "bc4f0f0aee391d29"
  },
  {
   "cell_type": "markdown",
   "source": [
    "첫번째 인자 = 훈련 데이터에 해당됩니다.\n",
    "두번째 인자 = 지도 학습에서 레이블 데이터에 해당됩니다.\n",
    "epochs = 에포크. 에포크 1은 전체 데이터를 한 차례 훑고 지나갔음을 의미함. 정수값 기재 필요. 총 훈련 횟수를 정의합니다.\n",
    "batch_size = 배치 크기. 기본값은 32. 미니 배치 경사 하강법을 사용하고 싶지 않을 경우에는 batch_size=None을 기재합니다.\n",
    "\n",
    "좀 더 많은 인자를 사용할 때를 보겠습니다."
   ],
   "metadata": {
    "collapsed": false
   },
   "id": "cef5cfc5bd720763"
  },
  {
   "cell_type": "code",
   "outputs": [],
   "source": [
    "# model.fit(X_train, y_train, epochs=10, batch_size=32, verbose=0, validation_data(X_val, y_val))"
   ],
   "metadata": {
    "collapsed": false
   },
   "id": "85a4b20f025d9a4"
  },
  {
   "cell_type": "markdown",
   "source": [
    "validation_data(x_val, y_val) = 검증 데이터(validation data)를 사용합니다. 일반적으로 검증 데이터를 사용하면 각 에포크마다 검증 데이터의 정확도나 오차를 함께 출력하는데, 이 정확도는 훈련이 잘 되고 있는지를 보여줄 뿐이며 실제로 모델이 검증 데이터를 학습하지는 않습니다. 검증 데이터의 오차(loss)가 낮아지다가 높아지기 시작하면 이는 과적합(overfitting)의 신호입니다.\n",
    "\n",
    "validation_split = validation_data와 동일하게 검증 데이터를 사용하기 위한 용도로 validation_data 대신 사용할 수 있습니다. 검증 데이터를 지정하는 것이 아니라 훈련 데이터와 훈련 데이터의 레이블인 X_train과 y_train에서 일정 비율 분리하여 이를 검증 데이터로 사용합니다."
   ],
   "metadata": {
    "collapsed": false
   },
   "id": "215d871d016c0b20"
  },
  {
   "cell_type": "code",
   "outputs": [],
   "source": [
    "# 훈련 데이터의 20%를 검증 데이터로 사용.\n",
    "# model.fit(X_train, y_train, epochs=10, batch_size=32, verbose=0, validation_split=0.2))"
   ],
   "metadata": {
    "collapsed": false
   },
   "id": "447aaa9e4ee0309d"
  },
  {
   "cell_type": "markdown",
   "source": [
    "verbose = 학습 중 출력되는 문구를 설정합니다.\n",
    "- 0 : 아무 것도 출력하지 않습니다.\n",
    "- 1 : 훈련의 진행도를 보여주는 진행 막대를 보여줍니다.\n",
    "- 2 : 미니 배치마다 손실 정보를 출력합니다."
   ],
   "metadata": {
    "collapsed": false
   },
   "id": "dfef7fdc85ef0d56"
  },
  {
   "cell_type": "markdown",
   "source": [
    "아래는 verbose의 값이 1일 때와 2일 때를 보여줍니다."
   ],
   "metadata": {
    "collapsed": false
   },
   "id": "3b16ee1bed0d8378"
  },
  {
   "cell_type": "code",
   "outputs": [],
   "source": [
    "# verbose = 1일 경우.\n",
    "# Epoch 88/100\n",
    "# 7/7 [==============================] - 0s 143us/step - loss: 0.1029 - acc: 1.0000"
   ],
   "metadata": {
    "collapsed": false
   },
   "id": "252d6246eeef3673"
  },
  {
   "cell_type": "code",
   "outputs": [],
   "source": [
    "# verbose = 2일 경우.\n",
    "# Epoch 88/100\n",
    "#  - 0s - loss: 0.1475 - acc: 1.0000"
   ],
   "metadata": {
    "collapsed": false
   },
   "id": "21ae188ce9553368"
  },
  {
   "cell_type": "markdown",
   "source": [
    "### 5. 평가(Evaluation)와 예측(Prediction)\n",
    "***\n",
    "\n",
    "evaluate() : 테스트 데이터를 통해 학습한 모델에 대한 정확도를 평가합니다."
   ],
   "metadata": {
    "collapsed": false
   },
   "id": "9cc362f7afcefaa"
  },
  {
   "cell_type": "code",
   "outputs": [],
   "source": [
    "# 위의 fit() 코드의 연장선상인 코드\n",
    "# model.evaluate(X_test, y_test, batch_size=32)"
   ],
   "metadata": {
    "collapsed": false
   },
   "id": "2959cbb9a60786e7"
  },
  {
   "cell_type": "markdown",
   "source": [
    "첫번째 인자 = 테스트 데이터에 해당됩니다.\n",
    "두번째 인자 = 지도 학습에서 레이블 테스트 데이터에 해당됩니다.\n",
    "batch_size = 배치 크기."
   ],
   "metadata": {
    "collapsed": false
   },
   "id": "2fc57e9b88b78188"
  },
  {
   "cell_type": "markdown",
   "source": [
    "predict() : 임의의 입력에 대한 모델의 출력값을 확인합니다."
   ],
   "metadata": {
    "collapsed": false
   },
   "id": "8db1a2e378fd84b3"
  },
  {
   "cell_type": "code",
   "outputs": [],
   "source": [
    "# 위의 fit() 코드의 연장선상인 코드\n",
    "# model.predict(X_input, batch_size=32)"
   ],
   "metadata": {
    "collapsed": false
   },
   "id": "9ba8c9bcccb6baa3"
  },
  {
   "cell_type": "markdown",
   "source": [
    "첫번째 인자 = 예측하고자 하는 데이터.\n",
    "batch_size = 배치 크기."
   ],
   "metadata": {
    "collapsed": false
   },
   "id": "551f4f5b9645ffe9"
  },
  {
   "cell_type": "markdown",
   "source": [
    "### 6. 모델의 저장(Save)과 로드(Load)\n",
    "***\n",
    "\n",
    "복습을 위한 스터디나 실제 어플리케이션 개발 단계에서 구현한 모델을 저장하고 불러오는 일은 중요합니다. 모델을 저장한다는 것은 학습이 끝난 신경망의 구조를 보존하고 계속해서 사용할 수 있다는 의미입니다."
   ],
   "metadata": {
    "collapsed": false
   },
   "id": "38deb0e7500a15fd"
  },
  {
   "cell_type": "markdown",
   "source": [
    "save() : 인공 신경망 모델을 hdf5 파일에 저장합니다."
   ],
   "metadata": {
    "collapsed": false
   },
   "id": "10b83015a182e227"
  },
  {
   "cell_type": "code",
   "outputs": [],
   "source": [
    "model.save(\"model_name.h5\")"
   ],
   "metadata": {
    "collapsed": false
   },
   "id": "dba1c2ef57fee9f"
  },
  {
   "cell_type": "markdown",
   "source": [
    "load_model() : 저장해둔 모델을 불러옵니다."
   ],
   "metadata": {
    "collapsed": false
   },
   "id": "cca8e2c331448eec"
  },
  {
   "cell_type": "code",
   "outputs": [],
   "source": [
    "from tensorflow.keras.models import load_model\n",
    "model = load_model(\"model_name.h5\")"
   ],
   "metadata": {
    "collapsed": false
   },
   "id": "b738fbd12487a9da"
  },
  {
   "cell_type": "markdown",
   "source": [
    "## 07-09 케라스의 함수형 API(Keras Functional API)\n",
    "***\n",
    "\n",
    "더욱 복잡한 모델을 생성할 수 있는 방식인 Functional API(함수형 API)에 대해서 알아봅니다."
   ],
   "metadata": {
    "collapsed": false
   },
   "id": "a999bfa31e6b8fe8"
  },
  {
   "cell_type": "markdown",
   "source": [
    "### 1. Sequential API로 만든 모델\n",
    "***\n",
    "\n",
    "두 가지 API의 차이를 이해하기 위해서 앞서 배운 Sequential API를 사용하여 기본적인 모델을 만들어봅시다.\n",
    "\n",
    "아래와 같은 방식은 직관적이고 편리하지만 단순히 층을 쌓는 것만으로는 구현할 수 없는 복잡한 신경망을 구현할 수 없습니다. 따라서 초심자에게 적합한 API이지만, 전문가가 되기 위해서는 결과적으로 Functional API를 학습해야 합니다."
   ],
   "metadata": {
    "collapsed": false
   },
   "id": "398de512d56efbe5"
  },
  {
   "cell_type": "code",
   "outputs": [],
   "source": [
    "from tensorflow.keras.models import Sequential\n",
    "from tensorflow.keras.layers import Dense\n",
    "\n",
    "model = Sequential()\n",
    "model.add(Dense(3, input_dim=4, activation='softmax'))"
   ],
   "metadata": {
    "collapsed": false,
    "ExecuteTime": {
     "end_time": "2024-02-08T03:35:47.743791400Z",
     "start_time": "2024-02-08T03:35:47.694937800Z"
    }
   },
   "id": "6e0584d3059df25b",
   "execution_count": 2
  },
  {
   "cell_type": "markdown",
   "source": [
    "### 2. Functional API로 만든 모델\n",
    "***\n",
    "\n",
    "Functional API는 각 층을 일종의 함수(function)로서 정의합니다. 그리고 각 함수를 조합하기 위한 연산자들을 제공하는데, 이를 이용하여 신경망을 설계합니다.\n",
    "Functional API로 FFNN, RNN 등 다양한 모델을 만들면서 기존의 sequential API와의 차이를 이해해봅시다.\n",
    "\n",
    "- Functional API는 입력의 크기(shape)를 명시한 입력층(Input layer)을 모델의 앞단에 정의해주어야 합니다.\n",
    "\n",
    "#### 1) 전결합 피드 포워드 신경망(Fully-connected FFNN)\n",
    "Sequential API와는 다르게 functional API에서는 입력 데이터의 크기(shape)를 인자로 입력층을 정의해주어야 합니다.\n",
    "피드 포워드 신경망(Fully-connected FFNN)을 만든다고 가정해보겠습니다."
   ],
   "metadata": {
    "collapsed": false
   },
   "id": "cbfcc228ea009448"
  },
  {
   "cell_type": "code",
   "outputs": [],
   "source": [
    "from tensorflow.keras.layers import Input, Dense\n",
    "from tensorflow.keras.models import Model\n",
    "\n",
    "inputs = Input(shape=(10,))"
   ],
   "metadata": {
    "collapsed": false,
    "ExecuteTime": {
     "end_time": "2024-02-08T03:39:39.356367Z",
     "start_time": "2024-02-08T03:39:39.320615400Z"
    }
   },
   "id": "6c4f4742e96678eb",
   "execution_count": 3
  },
  {
   "cell_type": "markdown",
   "source": [
    "위의 코드는 10개의 입력을 받는 입력층을 보여줍니다. 위의 코드에 은닉층과 출력층을 추가해봅시다."
   ],
   "metadata": {
    "collapsed": false
   },
   "id": "78eebba662c10035"
  },
  {
   "cell_type": "code",
   "outputs": [],
   "source": [
    "inputs = Input(shape=(10,))\n",
    "hidden1 = Dense(64, activation='relu')(inputs)  # <- 새로 추가\n",
    "hidden2 = Dense(64, activation='relu')(hidden1) # <- 새로 추가\n",
    "output = Dense(1, activation='sigmoid')(hidden2) # <- 새로 추가"
   ],
   "metadata": {
    "collapsed": false,
    "ExecuteTime": {
     "end_time": "2024-02-08T04:05:57.088378900Z",
     "start_time": "2024-02-08T04:05:57.020536800Z"
    }
   },
   "id": "44de234e4e7ac125",
   "execution_count": 6
  },
  {
   "cell_type": "markdown",
   "source": [
    "위의 코드를 하나의 모델로 구성해보겠습니다. 이는 Model에 입력 텐서와 출력 텐서를 정의하여 완성됩니다."
   ],
   "metadata": {
    "collapsed": false
   },
   "id": "ff190fef1db9c1d5"
  },
  {
   "cell_type": "code",
   "outputs": [],
   "source": [
    "inputs = Input(shape=(10,))\n",
    "hidden1 = Dense(64, activation='relu')(inputs)\n",
    "hidden2 = Dense(64, activation='relu')(hidden1)\n",
    "output = Dense(1, activation='sigmoid')(hidden2)\n",
    "model = Model(inputs=inputs, outputs=output) # <- 새로 추가"
   ],
   "metadata": {
    "collapsed": false,
    "ExecuteTime": {
     "end_time": "2024-02-08T03:40:09.683401500Z",
     "start_time": "2024-02-08T03:40:09.613479300Z"
    }
   },
   "id": "61d1365c752dda88",
   "execution_count": 5
  },
  {
   "cell_type": "markdown",
   "source": [
    "지금까지의 내용을 정리하면 다음과 같습니다.\n",
    "\n",
    "- Input() 함수에 입력의 크기를 정의합니다.\n",
    "- 이전층을 다음층 함수의 입력으로 사용하고, 변수에 할당합니다.\n",
    "- Model() 함수에 입력과 출력을 정의합니다.\n",
    "\n",
    "이를 model로 저장하면 sequential API를 사용할 때와 마찬가지로 model.compile, model.fit 등을 사용 가능합니다."
   ],
   "metadata": {
    "collapsed": false
   },
   "id": "9e5f7b1218946766"
  },
  {
   "cell_type": "code",
   "outputs": [],
   "source": [
    "model.compile(optimizer='rmsprop', loss='categorical_crossentropy', metrics=['accuracy'])\n",
    "# model.fit(data, labels)"
   ],
   "metadata": {
    "collapsed": false,
    "ExecuteTime": {
     "end_time": "2024-02-08T04:08:28.858940900Z",
     "start_time": "2024-02-08T04:08:28.794018400Z"
    }
   },
   "id": "7bb668d46e79f527",
   "execution_count": 8
  },
  {
   "cell_type": "markdown",
   "source": [
    "이번에는 변수명을 달리해서 FFNN을 만들어보겠습니다. 이번에는 은닉층과 출력층의 변수를 전부 x로 통일하였습니다."
   ],
   "metadata": {
    "collapsed": false
   },
   "id": "d7f7836f8178f4a2"
  },
  {
   "cell_type": "code",
   "outputs": [],
   "source": [
    "inputs = Input(shape=(10,))\n",
    "x = Dense(8, activation=\"relu\")(inputs)\n",
    "x = Dense(4, activation=\"relu\")(x)\n",
    "x = Dense(1, activation=\"linear\")(x)\n",
    "model = Model(inputs, x)"
   ],
   "metadata": {
    "collapsed": false,
    "ExecuteTime": {
     "end_time": "2024-02-08T04:08:44.326563500Z",
     "start_time": "2024-02-08T04:08:44.249482700Z"
    }
   },
   "id": "9a12b5bbcea97a6f",
   "execution_count": 9
  },
  {
   "cell_type": "markdown",
   "source": [
    "이번에는 위에서 배운 내용을 바탕으로 선형 회귀와 로지스틱 회귀를 Functional API로 구현해봅시다."
   ],
   "metadata": {
    "collapsed": false
   },
   "id": "42551dd2a1ae68f5"
  },
  {
   "cell_type": "markdown",
   "source": [
    "#### 2) 선형 회귀(Linear Regression)\n",
    "\n",
    "앞서 Sequential API로 구현했던 선형 회귀를 Functional API로 구현해봅시다."
   ],
   "metadata": {
    "collapsed": false
   },
   "id": "af1f8db6d6061146"
  },
  {
   "cell_type": "code",
   "outputs": [
    {
     "name": "stdout",
     "output_type": "stream",
     "text": [
      "Epoch 1/300\n",
      "1/1 [==============================] - 0s 262ms/step - loss: 4963.6479 - mse: 4963.6479\n",
      "Epoch 2/300\n",
      "1/1 [==============================] - 0s 5ms/step - loss: 611.9047 - mse: 611.9047\n",
      "Epoch 3/300\n",
      "1/1 [==============================] - 0s 4ms/step - loss: 76.4535 - mse: 76.4535\n",
      "Epoch 4/300\n",
      "1/1 [==============================] - 0s 4ms/step - loss: 10.5683 - mse: 10.5683\n",
      "Epoch 5/300\n",
      "1/1 [==============================] - 0s 4ms/step - loss: 2.4597 - mse: 2.4597\n",
      "Epoch 6/300\n",
      "1/1 [==============================] - 0s 4ms/step - loss: 1.4602 - mse: 1.4602\n",
      "Epoch 7/300\n",
      "1/1 [==============================] - 0s 4ms/step - loss: 1.3353 - mse: 1.3353\n",
      "Epoch 8/300\n",
      "1/1 [==============================] - 0s 5ms/step - loss: 1.3181 - mse: 1.3181\n",
      "Epoch 9/300\n",
      "1/1 [==============================] - 0s 5ms/step - loss: 1.3141 - mse: 1.3141\n",
      "Epoch 10/300\n",
      "1/1 [==============================] - 0s 5ms/step - loss: 1.3118 - mse: 1.3118\n",
      "Epoch 11/300\n",
      "1/1 [==============================] - 0s 5ms/step - loss: 1.3097 - mse: 1.3097\n",
      "Epoch 12/300\n",
      "1/1 [==============================] - 0s 5ms/step - loss: 1.3077 - mse: 1.3077\n",
      "Epoch 13/300\n",
      "1/1 [==============================] - 0s 4ms/step - loss: 1.3056 - mse: 1.3056\n",
      "Epoch 14/300\n",
      "1/1 [==============================] - 0s 5ms/step - loss: 1.3036 - mse: 1.3036\n",
      "Epoch 15/300\n",
      "1/1 [==============================] - 0s 5ms/step - loss: 1.3016 - mse: 1.3016\n",
      "Epoch 16/300\n",
      "1/1 [==============================] - 0s 4ms/step - loss: 1.2996 - mse: 1.2996\n",
      "Epoch 17/300\n",
      "1/1 [==============================] - 0s 5ms/step - loss: 1.2977 - mse: 1.2977\n",
      "Epoch 18/300\n",
      "1/1 [==============================] - 0s 5ms/step - loss: 1.2957 - mse: 1.2957\n",
      "Epoch 19/300\n",
      "1/1 [==============================] - 0s 5ms/step - loss: 1.2938 - mse: 1.2938\n",
      "Epoch 20/300\n",
      "1/1 [==============================] - 0s 5ms/step - loss: 1.2919 - mse: 1.2919\n",
      "Epoch 21/300\n",
      "1/1 [==============================] - 0s 4ms/step - loss: 1.2900 - mse: 1.2900\n",
      "Epoch 22/300\n",
      "1/1 [==============================] - 0s 5ms/step - loss: 1.2881 - mse: 1.2881\n",
      "Epoch 23/300\n",
      "1/1 [==============================] - 0s 6ms/step - loss: 1.2862 - mse: 1.2862\n",
      "Epoch 24/300\n",
      "1/1 [==============================] - 0s 5ms/step - loss: 1.2844 - mse: 1.2844\n",
      "Epoch 25/300\n",
      "1/1 [==============================] - 0s 4ms/step - loss: 1.2825 - mse: 1.2825\n",
      "Epoch 26/300\n",
      "1/1 [==============================] - 0s 4ms/step - loss: 1.2807 - mse: 1.2807\n",
      "Epoch 27/300\n",
      "1/1 [==============================] - 0s 5ms/step - loss: 1.2789 - mse: 1.2789\n",
      "Epoch 28/300\n",
      "1/1 [==============================] - 0s 5ms/step - loss: 1.2771 - mse: 1.2771\n",
      "Epoch 29/300\n",
      "1/1 [==============================] - 0s 5ms/step - loss: 1.2753 - mse: 1.2753\n",
      "Epoch 30/300\n",
      "1/1 [==============================] - 0s 4ms/step - loss: 1.2735 - mse: 1.2735\n",
      "Epoch 31/300\n",
      "1/1 [==============================] - 0s 4ms/step - loss: 1.2718 - mse: 1.2718\n",
      "Epoch 32/300\n",
      "1/1 [==============================] - 0s 5ms/step - loss: 1.2700 - mse: 1.2700\n",
      "Epoch 33/300\n",
      "1/1 [==============================] - 0s 4ms/step - loss: 1.2683 - mse: 1.2683\n",
      "Epoch 34/300\n",
      "1/1 [==============================] - 0s 4ms/step - loss: 1.2666 - mse: 1.2666\n",
      "Epoch 35/300\n",
      "1/1 [==============================] - 0s 5ms/step - loss: 1.2649 - mse: 1.2649\n",
      "Epoch 36/300\n",
      "1/1 [==============================] - 0s 4ms/step - loss: 1.2632 - mse: 1.2632\n",
      "Epoch 37/300\n",
      "1/1 [==============================] - 0s 5ms/step - loss: 1.2616 - mse: 1.2616\n",
      "Epoch 38/300\n",
      "1/1 [==============================] - 0s 4ms/step - loss: 1.2599 - mse: 1.2599\n",
      "Epoch 39/300\n",
      "1/1 [==============================] - 0s 5ms/step - loss: 1.2583 - mse: 1.2583\n",
      "Epoch 40/300\n",
      "1/1 [==============================] - 0s 5ms/step - loss: 1.2567 - mse: 1.2567\n",
      "Epoch 41/300\n",
      "1/1 [==============================] - 0s 4ms/step - loss: 1.2550 - mse: 1.2550\n",
      "Epoch 42/300\n",
      "1/1 [==============================] - 0s 5ms/step - loss: 1.2534 - mse: 1.2534\n",
      "Epoch 43/300\n",
      "1/1 [==============================] - 0s 5ms/step - loss: 1.2519 - mse: 1.2519\n",
      "Epoch 44/300\n",
      "1/1 [==============================] - 0s 4ms/step - loss: 1.2503 - mse: 1.2503\n",
      "Epoch 45/300\n",
      "1/1 [==============================] - 0s 5ms/step - loss: 1.2487 - mse: 1.2487\n",
      "Epoch 46/300\n",
      "1/1 [==============================] - 0s 5ms/step - loss: 1.2472 - mse: 1.2472\n",
      "Epoch 47/300\n",
      "1/1 [==============================] - 0s 4ms/step - loss: 1.2456 - mse: 1.2456\n",
      "Epoch 48/300\n",
      "1/1 [==============================] - 0s 5ms/step - loss: 1.2441 - mse: 1.2441\n",
      "Epoch 49/300\n",
      "1/1 [==============================] - 0s 5ms/step - loss: 1.2426 - mse: 1.2426\n",
      "Epoch 50/300\n",
      "1/1 [==============================] - 0s 6ms/step - loss: 1.2411 - mse: 1.2411\n",
      "Epoch 51/300\n",
      "1/1 [==============================] - 0s 4ms/step - loss: 1.2396 - mse: 1.2396\n",
      "Epoch 52/300\n",
      "1/1 [==============================] - 0s 5ms/step - loss: 1.2381 - mse: 1.2381\n",
      "Epoch 53/300\n",
      "1/1 [==============================] - 0s 6ms/step - loss: 1.2367 - mse: 1.2367\n",
      "Epoch 54/300\n",
      "1/1 [==============================] - 0s 5ms/step - loss: 1.2352 - mse: 1.2352\n",
      "Epoch 55/300\n",
      "1/1 [==============================] - 0s 5ms/step - loss: 1.2338 - mse: 1.2338\n",
      "Epoch 56/300\n",
      "1/1 [==============================] - 0s 5ms/step - loss: 1.2324 - mse: 1.2324\n",
      "Epoch 57/300\n",
      "1/1 [==============================] - 0s 5ms/step - loss: 1.2310 - mse: 1.2310\n",
      "Epoch 58/300\n",
      "1/1 [==============================] - 0s 5ms/step - loss: 1.2296 - mse: 1.2296\n",
      "Epoch 59/300\n",
      "1/1 [==============================] - 0s 5ms/step - loss: 1.2282 - mse: 1.2282\n",
      "Epoch 60/300\n",
      "1/1 [==============================] - 0s 5ms/step - loss: 1.2268 - mse: 1.2268\n",
      "Epoch 61/300\n",
      "1/1 [==============================] - 0s 5ms/step - loss: 1.2254 - mse: 1.2254\n",
      "Epoch 62/300\n",
      "1/1 [==============================] - 0s 5ms/step - loss: 1.2241 - mse: 1.2241\n",
      "Epoch 63/300\n",
      "1/1 [==============================] - 0s 4ms/step - loss: 1.2227 - mse: 1.2227\n",
      "Epoch 64/300\n",
      "1/1 [==============================] - 0s 6ms/step - loss: 1.2214 - mse: 1.2214\n",
      "Epoch 65/300\n",
      "1/1 [==============================] - 0s 5ms/step - loss: 1.2201 - mse: 1.2201\n",
      "Epoch 66/300\n",
      "1/1 [==============================] - 0s 5ms/step - loss: 1.2187 - mse: 1.2187\n",
      "Epoch 67/300\n",
      "1/1 [==============================] - 0s 5ms/step - loss: 1.2174 - mse: 1.2174\n",
      "Epoch 68/300\n",
      "1/1 [==============================] - 0s 5ms/step - loss: 1.2161 - mse: 1.2161\n",
      "Epoch 69/300\n",
      "1/1 [==============================] - 0s 5ms/step - loss: 1.2149 - mse: 1.2149\n",
      "Epoch 70/300\n",
      "1/1 [==============================] - 0s 5ms/step - loss: 1.2136 - mse: 1.2136\n",
      "Epoch 71/300\n",
      "1/1 [==============================] - 0s 5ms/step - loss: 1.2123 - mse: 1.2123\n",
      "Epoch 72/300\n",
      "1/1 [==============================] - 0s 5ms/step - loss: 1.2111 - mse: 1.2111\n",
      "Epoch 73/300\n",
      "1/1 [==============================] - 0s 5ms/step - loss: 1.2098 - mse: 1.2098\n",
      "Epoch 74/300\n",
      "1/1 [==============================] - 0s 6ms/step - loss: 1.2086 - mse: 1.2086\n",
      "Epoch 75/300\n",
      "1/1 [==============================] - 0s 4ms/step - loss: 1.2074 - mse: 1.2074\n",
      "Epoch 76/300\n",
      "1/1 [==============================] - 0s 5ms/step - loss: 1.2062 - mse: 1.2062\n",
      "Epoch 77/300\n",
      "1/1 [==============================] - 0s 4ms/step - loss: 1.2050 - mse: 1.2050\n",
      "Epoch 78/300\n",
      "1/1 [==============================] - 0s 5ms/step - loss: 1.2038 - mse: 1.2038\n",
      "Epoch 79/300\n",
      "1/1 [==============================] - 0s 4ms/step - loss: 1.2026 - mse: 1.2026\n",
      "Epoch 80/300\n",
      "1/1 [==============================] - 0s 5ms/step - loss: 1.2014 - mse: 1.2014\n",
      "Epoch 81/300\n",
      "1/1 [==============================] - 0s 5ms/step - loss: 1.2003 - mse: 1.2003\n",
      "Epoch 82/300\n",
      "1/1 [==============================] - 0s 5ms/step - loss: 1.1991 - mse: 1.1991\n",
      "Epoch 83/300\n",
      "1/1 [==============================] - 0s 4ms/step - loss: 1.1980 - mse: 1.1980\n",
      "Epoch 84/300\n",
      "1/1 [==============================] - 0s 4ms/step - loss: 1.1969 - mse: 1.1969\n",
      "Epoch 85/300\n",
      "1/1 [==============================] - 0s 5ms/step - loss: 1.1957 - mse: 1.1957\n",
      "Epoch 86/300\n",
      "1/1 [==============================] - 0s 4ms/step - loss: 1.1946 - mse: 1.1946\n",
      "Epoch 87/300\n",
      "1/1 [==============================] - 0s 5ms/step - loss: 1.1935 - mse: 1.1935\n",
      "Epoch 88/300\n",
      "1/1 [==============================] - 0s 5ms/step - loss: 1.1924 - mse: 1.1924\n",
      "Epoch 89/300\n",
      "1/1 [==============================] - 0s 5ms/step - loss: 1.1913 - mse: 1.1913\n",
      "Epoch 90/300\n",
      "1/1 [==============================] - 0s 5ms/step - loss: 1.1903 - mse: 1.1903\n",
      "Epoch 91/300\n",
      "1/1 [==============================] - 0s 4ms/step - loss: 1.1892 - mse: 1.1892\n",
      "Epoch 92/300\n",
      "1/1 [==============================] - 0s 5ms/step - loss: 1.1881 - mse: 1.1881\n",
      "Epoch 93/300\n",
      "1/1 [==============================] - 0s 5ms/step - loss: 1.1871 - mse: 1.1871\n",
      "Epoch 94/300\n",
      "1/1 [==============================] - 0s 6ms/step - loss: 1.1860 - mse: 1.1860\n",
      "Epoch 95/300\n",
      "1/1 [==============================] - 0s 4ms/step - loss: 1.1850 - mse: 1.1850\n",
      "Epoch 96/300\n",
      "1/1 [==============================] - 0s 5ms/step - loss: 1.1840 - mse: 1.1840\n",
      "Epoch 97/300\n",
      "1/1 [==============================] - 0s 4ms/step - loss: 1.1830 - mse: 1.1830\n",
      "Epoch 98/300\n",
      "1/1 [==============================] - 0s 5ms/step - loss: 1.1819 - mse: 1.1819\n",
      "Epoch 99/300\n",
      "1/1 [==============================] - 0s 5ms/step - loss: 1.1809 - mse: 1.1809\n",
      "Epoch 100/300\n",
      "1/1 [==============================] - 0s 5ms/step - loss: 1.1800 - mse: 1.1800\n",
      "Epoch 101/300\n",
      "1/1 [==============================] - 0s 5ms/step - loss: 1.1790 - mse: 1.1790\n",
      "Epoch 102/300\n",
      "1/1 [==============================] - 0s 6ms/step - loss: 1.1780 - mse: 1.1780\n",
      "Epoch 103/300\n",
      "1/1 [==============================] - 0s 5ms/step - loss: 1.1770 - mse: 1.1770\n",
      "Epoch 104/300\n",
      "1/1 [==============================] - 0s 5ms/step - loss: 1.1761 - mse: 1.1761\n",
      "Epoch 105/300\n",
      "1/1 [==============================] - 0s 5ms/step - loss: 1.1751 - mse: 1.1751\n",
      "Epoch 106/300\n",
      "1/1 [==============================] - 0s 4ms/step - loss: 1.1742 - mse: 1.1742\n",
      "Epoch 107/300\n",
      "1/1 [==============================] - 0s 5ms/step - loss: 1.1732 - mse: 1.1732\n",
      "Epoch 108/300\n",
      "1/1 [==============================] - 0s 5ms/step - loss: 1.1723 - mse: 1.1723\n",
      "Epoch 109/300\n",
      "1/1 [==============================] - 0s 5ms/step - loss: 1.1714 - mse: 1.1714\n",
      "Epoch 110/300\n",
      "1/1 [==============================] - 0s 5ms/step - loss: 1.1705 - mse: 1.1705\n",
      "Epoch 111/300\n",
      "1/1 [==============================] - 0s 5ms/step - loss: 1.1696 - mse: 1.1696\n",
      "Epoch 112/300\n",
      "1/1 [==============================] - 0s 5ms/step - loss: 1.1687 - mse: 1.1687\n",
      "Epoch 113/300\n",
      "1/1 [==============================] - 0s 5ms/step - loss: 1.1678 - mse: 1.1678\n",
      "Epoch 114/300\n",
      "1/1 [==============================] - 0s 5ms/step - loss: 1.1669 - mse: 1.1669\n",
      "Epoch 115/300\n",
      "1/1 [==============================] - 0s 6ms/step - loss: 1.1660 - mse: 1.1660\n",
      "Epoch 116/300\n",
      "1/1 [==============================] - 0s 5ms/step - loss: 1.1651 - mse: 1.1651\n",
      "Epoch 117/300\n",
      "1/1 [==============================] - 0s 5ms/step - loss: 1.1643 - mse: 1.1643\n",
      "Epoch 118/300\n",
      "1/1 [==============================] - 0s 5ms/step - loss: 1.1634 - mse: 1.1634\n",
      "Epoch 119/300\n",
      "1/1 [==============================] - 0s 5ms/step - loss: 1.1626 - mse: 1.1626\n",
      "Epoch 120/300\n",
      "1/1 [==============================] - 0s 4ms/step - loss: 1.1617 - mse: 1.1617\n",
      "Epoch 121/300\n",
      "1/1 [==============================] - 0s 5ms/step - loss: 1.1609 - mse: 1.1609\n",
      "Epoch 122/300\n",
      "1/1 [==============================] - 0s 4ms/step - loss: 1.1601 - mse: 1.1601\n",
      "Epoch 123/300\n",
      "1/1 [==============================] - 0s 6ms/step - loss: 1.1592 - mse: 1.1592\n",
      "Epoch 124/300\n",
      "1/1 [==============================] - 0s 5ms/step - loss: 1.1584 - mse: 1.1584\n",
      "Epoch 125/300\n",
      "1/1 [==============================] - 0s 4ms/step - loss: 1.1576 - mse: 1.1576\n",
      "Epoch 126/300\n",
      "1/1 [==============================] - 0s 5ms/step - loss: 1.1568 - mse: 1.1568\n",
      "Epoch 127/300\n",
      "1/1 [==============================] - 0s 6ms/step - loss: 1.1560 - mse: 1.1560\n",
      "Epoch 128/300\n",
      "1/1 [==============================] - 0s 5ms/step - loss: 1.1552 - mse: 1.1552\n",
      "Epoch 129/300\n",
      "1/1 [==============================] - 0s 4ms/step - loss: 1.1545 - mse: 1.1545\n",
      "Epoch 130/300\n",
      "1/1 [==============================] - 0s 5ms/step - loss: 1.1537 - mse: 1.1537\n",
      "Epoch 131/300\n",
      "1/1 [==============================] - 0s 5ms/step - loss: 1.1529 - mse: 1.1529\n",
      "Epoch 132/300\n",
      "1/1 [==============================] - 0s 5ms/step - loss: 1.1521 - mse: 1.1521\n",
      "Epoch 133/300\n",
      "1/1 [==============================] - 0s 4ms/step - loss: 1.1514 - mse: 1.1514\n",
      "Epoch 134/300\n",
      "1/1 [==============================] - 0s 4ms/step - loss: 1.1506 - mse: 1.1506\n",
      "Epoch 135/300\n",
      "1/1 [==============================] - 0s 5ms/step - loss: 1.1499 - mse: 1.1499\n",
      "Epoch 136/300\n",
      "1/1 [==============================] - 0s 5ms/step - loss: 1.1492 - mse: 1.1492\n",
      "Epoch 137/300\n",
      "1/1 [==============================] - 0s 5ms/step - loss: 1.1484 - mse: 1.1484\n",
      "Epoch 138/300\n",
      "1/1 [==============================] - 0s 5ms/step - loss: 1.1477 - mse: 1.1477\n",
      "Epoch 139/300\n",
      "1/1 [==============================] - 0s 5ms/step - loss: 1.1470 - mse: 1.1470\n",
      "Epoch 140/300\n",
      "1/1 [==============================] - 0s 5ms/step - loss: 1.1463 - mse: 1.1463\n",
      "Epoch 141/300\n",
      "1/1 [==============================] - 0s 4ms/step - loss: 1.1456 - mse: 1.1456\n",
      "Epoch 142/300\n",
      "1/1 [==============================] - 0s 5ms/step - loss: 1.1449 - mse: 1.1449\n",
      "Epoch 143/300\n",
      "1/1 [==============================] - 0s 5ms/step - loss: 1.1442 - mse: 1.1442\n",
      "Epoch 144/300\n",
      "1/1 [==============================] - 0s 5ms/step - loss: 1.1435 - mse: 1.1435\n",
      "Epoch 145/300\n",
      "1/1 [==============================] - 0s 5ms/step - loss: 1.1428 - mse: 1.1428\n",
      "Epoch 146/300\n",
      "1/1 [==============================] - 0s 4ms/step - loss: 1.1421 - mse: 1.1421\n",
      "Epoch 147/300\n",
      "1/1 [==============================] - 0s 5ms/step - loss: 1.1414 - mse: 1.1414\n",
      "Epoch 148/300\n",
      "1/1 [==============================] - 0s 5ms/step - loss: 1.1408 - mse: 1.1408\n",
      "Epoch 149/300\n",
      "1/1 [==============================] - 0s 5ms/step - loss: 1.1401 - mse: 1.1401\n",
      "Epoch 150/300\n",
      "1/1 [==============================] - 0s 5ms/step - loss: 1.1394 - mse: 1.1394\n",
      "Epoch 151/300\n",
      "1/1 [==============================] - 0s 4ms/step - loss: 1.1388 - mse: 1.1388\n",
      "Epoch 152/300\n",
      "1/1 [==============================] - 0s 5ms/step - loss: 1.1381 - mse: 1.1381\n",
      "Epoch 153/300\n",
      "1/1 [==============================] - 0s 5ms/step - loss: 1.1375 - mse: 1.1375\n",
      "Epoch 154/300\n",
      "1/1 [==============================] - 0s 5ms/step - loss: 1.1369 - mse: 1.1369\n",
      "Epoch 155/300\n",
      "1/1 [==============================] - 0s 5ms/step - loss: 1.1362 - mse: 1.1362\n",
      "Epoch 156/300\n",
      "1/1 [==============================] - 0s 5ms/step - loss: 1.1356 - mse: 1.1356\n",
      "Epoch 157/300\n",
      "1/1 [==============================] - 0s 5ms/step - loss: 1.1350 - mse: 1.1350\n",
      "Epoch 158/300\n",
      "1/1 [==============================] - 0s 5ms/step - loss: 1.1344 - mse: 1.1344\n",
      "Epoch 159/300\n",
      "1/1 [==============================] - 0s 5ms/step - loss: 1.1338 - mse: 1.1338\n",
      "Epoch 160/300\n",
      "1/1 [==============================] - 0s 5ms/step - loss: 1.1332 - mse: 1.1332\n",
      "Epoch 161/300\n",
      "1/1 [==============================] - 0s 5ms/step - loss: 1.1326 - mse: 1.1326\n",
      "Epoch 162/300\n",
      "1/1 [==============================] - 0s 5ms/step - loss: 1.1320 - mse: 1.1320\n",
      "Epoch 163/300\n",
      "1/1 [==============================] - 0s 5ms/step - loss: 1.1314 - mse: 1.1314\n",
      "Epoch 164/300\n",
      "1/1 [==============================] - 0s 6ms/step - loss: 1.1308 - mse: 1.1308\n",
      "Epoch 165/300\n",
      "1/1 [==============================] - 0s 6ms/step - loss: 1.1302 - mse: 1.1302\n",
      "Epoch 166/300\n",
      "1/1 [==============================] - 0s 5ms/step - loss: 1.1296 - mse: 1.1296\n",
      "Epoch 167/300\n",
      "1/1 [==============================] - 0s 5ms/step - loss: 1.1290 - mse: 1.1290\n",
      "Epoch 168/300\n",
      "1/1 [==============================] - 0s 5ms/step - loss: 1.1285 - mse: 1.1285\n",
      "Epoch 169/300\n",
      "1/1 [==============================] - 0s 5ms/step - loss: 1.1279 - mse: 1.1279\n",
      "Epoch 170/300\n",
      "1/1 [==============================] - 0s 4ms/step - loss: 1.1274 - mse: 1.1274\n",
      "Epoch 171/300\n",
      "1/1 [==============================] - 0s 5ms/step - loss: 1.1268 - mse: 1.1268\n",
      "Epoch 172/300\n",
      "1/1 [==============================] - 0s 4ms/step - loss: 1.1263 - mse: 1.1263\n",
      "Epoch 173/300\n",
      "1/1 [==============================] - 0s 5ms/step - loss: 1.1257 - mse: 1.1257\n",
      "Epoch 174/300\n",
      "1/1 [==============================] - 0s 5ms/step - loss: 1.1252 - mse: 1.1252\n",
      "Epoch 175/300\n",
      "1/1 [==============================] - 0s 5ms/step - loss: 1.1246 - mse: 1.1246\n",
      "Epoch 176/300\n",
      "1/1 [==============================] - 0s 4ms/step - loss: 1.1241 - mse: 1.1241\n",
      "Epoch 177/300\n",
      "1/1 [==============================] - 0s 5ms/step - loss: 1.1236 - mse: 1.1236\n",
      "Epoch 178/300\n",
      "1/1 [==============================] - 0s 5ms/step - loss: 1.1231 - mse: 1.1231\n",
      "Epoch 179/300\n",
      "1/1 [==============================] - 0s 5ms/step - loss: 1.1225 - mse: 1.1225\n",
      "Epoch 180/300\n",
      "1/1 [==============================] - 0s 5ms/step - loss: 1.1220 - mse: 1.1220\n",
      "Epoch 181/300\n",
      "1/1 [==============================] - 0s 6ms/step - loss: 1.1215 - mse: 1.1215\n",
      "Epoch 182/300\n",
      "1/1 [==============================] - 0s 4ms/step - loss: 1.1210 - mse: 1.1210\n",
      "Epoch 183/300\n",
      "1/1 [==============================] - 0s 5ms/step - loss: 1.1205 - mse: 1.1205\n",
      "Epoch 184/300\n",
      "1/1 [==============================] - 0s 5ms/step - loss: 1.1200 - mse: 1.1200\n",
      "Epoch 185/300\n",
      "1/1 [==============================] - 0s 4ms/step - loss: 1.1195 - mse: 1.1195\n",
      "Epoch 186/300\n",
      "1/1 [==============================] - 0s 5ms/step - loss: 1.1190 - mse: 1.1190\n",
      "Epoch 187/300\n",
      "1/1 [==============================] - 0s 5ms/step - loss: 1.1186 - mse: 1.1186\n",
      "Epoch 188/300\n",
      "1/1 [==============================] - 0s 5ms/step - loss: 1.1181 - mse: 1.1181\n",
      "Epoch 189/300\n",
      "1/1 [==============================] - 0s 5ms/step - loss: 1.1176 - mse: 1.1176\n",
      "Epoch 190/300\n",
      "1/1 [==============================] - 0s 5ms/step - loss: 1.1171 - mse: 1.1171\n",
      "Epoch 191/300\n",
      "1/1 [==============================] - 0s 4ms/step - loss: 1.1166 - mse: 1.1166\n",
      "Epoch 192/300\n",
      "1/1 [==============================] - 0s 5ms/step - loss: 1.1162 - mse: 1.1162\n",
      "Epoch 193/300\n",
      "1/1 [==============================] - 0s 4ms/step - loss: 1.1157 - mse: 1.1157\n",
      "Epoch 194/300\n",
      "1/1 [==============================] - 0s 4ms/step - loss: 1.1153 - mse: 1.1153\n",
      "Epoch 195/300\n",
      "1/1 [==============================] - 0s 5ms/step - loss: 1.1148 - mse: 1.1148\n",
      "Epoch 196/300\n",
      "1/1 [==============================] - 0s 5ms/step - loss: 1.1144 - mse: 1.1144\n",
      "Epoch 197/300\n",
      "1/1 [==============================] - 0s 5ms/step - loss: 1.1139 - mse: 1.1139\n",
      "Epoch 198/300\n",
      "1/1 [==============================] - 0s 5ms/step - loss: 1.1135 - mse: 1.1135\n",
      "Epoch 199/300\n",
      "1/1 [==============================] - 0s 5ms/step - loss: 1.1130 - mse: 1.1130\n",
      "Epoch 200/300\n",
      "1/1 [==============================] - 0s 5ms/step - loss: 1.1126 - mse: 1.1126\n",
      "Epoch 201/300\n",
      "1/1 [==============================] - 0s 5ms/step - loss: 1.1122 - mse: 1.1122\n",
      "Epoch 202/300\n",
      "1/1 [==============================] - 0s 5ms/step - loss: 1.1117 - mse: 1.1117\n",
      "Epoch 203/300\n",
      "1/1 [==============================] - 0s 5ms/step - loss: 1.1113 - mse: 1.1113\n",
      "Epoch 204/300\n",
      "1/1 [==============================] - 0s 6ms/step - loss: 1.1109 - mse: 1.1109\n",
      "Epoch 205/300\n",
      "1/1 [==============================] - 0s 5ms/step - loss: 1.1105 - mse: 1.1105\n",
      "Epoch 206/300\n",
      "1/1 [==============================] - 0s 5ms/step - loss: 1.1101 - mse: 1.1101\n",
      "Epoch 207/300\n",
      "1/1 [==============================] - 0s 5ms/step - loss: 1.1096 - mse: 1.1096\n",
      "Epoch 208/300\n",
      "1/1 [==============================] - 0s 5ms/step - loss: 1.1092 - mse: 1.1092\n",
      "Epoch 209/300\n",
      "1/1 [==============================] - 0s 5ms/step - loss: 1.1088 - mse: 1.1088\n",
      "Epoch 210/300\n",
      "1/1 [==============================] - 0s 7ms/step - loss: 1.1084 - mse: 1.1084\n",
      "Epoch 211/300\n",
      "1/1 [==============================] - 0s 5ms/step - loss: 1.1080 - mse: 1.1080\n",
      "Epoch 212/300\n",
      "1/1 [==============================] - 0s 5ms/step - loss: 1.1076 - mse: 1.1076\n",
      "Epoch 213/300\n",
      "1/1 [==============================] - 0s 5ms/step - loss: 1.1072 - mse: 1.1072\n",
      "Epoch 214/300\n",
      "1/1 [==============================] - 0s 4ms/step - loss: 1.1069 - mse: 1.1069\n",
      "Epoch 215/300\n",
      "1/1 [==============================] - 0s 4ms/step - loss: 1.1065 - mse: 1.1065\n",
      "Epoch 216/300\n",
      "1/1 [==============================] - 0s 4ms/step - loss: 1.1061 - mse: 1.1061\n",
      "Epoch 217/300\n",
      "1/1 [==============================] - 0s 5ms/step - loss: 1.1057 - mse: 1.1057\n",
      "Epoch 218/300\n",
      "1/1 [==============================] - 0s 5ms/step - loss: 1.1053 - mse: 1.1053\n",
      "Epoch 219/300\n",
      "1/1 [==============================] - 0s 6ms/step - loss: 1.1050 - mse: 1.1050\n",
      "Epoch 220/300\n",
      "1/1 [==============================] - 0s 5ms/step - loss: 1.1046 - mse: 1.1046\n",
      "Epoch 221/300\n",
      "1/1 [==============================] - 0s 4ms/step - loss: 1.1042 - mse: 1.1042\n",
      "Epoch 222/300\n",
      "1/1 [==============================] - 0s 4ms/step - loss: 1.1039 - mse: 1.1039\n",
      "Epoch 223/300\n",
      "1/1 [==============================] - 0s 4ms/step - loss: 1.1035 - mse: 1.1035\n",
      "Epoch 224/300\n",
      "1/1 [==============================] - 0s 5ms/step - loss: 1.1031 - mse: 1.1031\n",
      "Epoch 225/300\n",
      "1/1 [==============================] - 0s 5ms/step - loss: 1.1028 - mse: 1.1028\n",
      "Epoch 226/300\n",
      "1/1 [==============================] - 0s 5ms/step - loss: 1.1024 - mse: 1.1024\n",
      "Epoch 227/300\n",
      "1/1 [==============================] - 0s 5ms/step - loss: 1.1021 - mse: 1.1021\n",
      "Epoch 228/300\n",
      "1/1 [==============================] - 0s 4ms/step - loss: 1.1017 - mse: 1.1017\n",
      "Epoch 229/300\n",
      "1/1 [==============================] - 0s 5ms/step - loss: 1.1014 - mse: 1.1014\n",
      "Epoch 230/300\n",
      "1/1 [==============================] - 0s 5ms/step - loss: 1.1011 - mse: 1.1011\n",
      "Epoch 231/300\n",
      "1/1 [==============================] - 0s 5ms/step - loss: 1.1007 - mse: 1.1007\n",
      "Epoch 232/300\n",
      "1/1 [==============================] - 0s 5ms/step - loss: 1.1004 - mse: 1.1004\n",
      "Epoch 233/300\n",
      "1/1 [==============================] - 0s 5ms/step - loss: 1.1001 - mse: 1.1001\n",
      "Epoch 234/300\n",
      "1/1 [==============================] - 0s 5ms/step - loss: 1.0997 - mse: 1.0997\n",
      "Epoch 235/300\n",
      "1/1 [==============================] - 0s 4ms/step - loss: 1.0994 - mse: 1.0994\n",
      "Epoch 236/300\n",
      "1/1 [==============================] - 0s 5ms/step - loss: 1.0991 - mse: 1.0991\n",
      "Epoch 237/300\n",
      "1/1 [==============================] - 0s 5ms/step - loss: 1.0988 - mse: 1.0988\n",
      "Epoch 238/300\n",
      "1/1 [==============================] - 0s 5ms/step - loss: 1.0984 - mse: 1.0984\n",
      "Epoch 239/300\n",
      "1/1 [==============================] - 0s 5ms/step - loss: 1.0981 - mse: 1.0981\n",
      "Epoch 240/300\n",
      "1/1 [==============================] - 0s 4ms/step - loss: 1.0978 - mse: 1.0978\n",
      "Epoch 241/300\n",
      "1/1 [==============================] - 0s 4ms/step - loss: 1.0975 - mse: 1.0975\n",
      "Epoch 242/300\n",
      "1/1 [==============================] - 0s 5ms/step - loss: 1.0972 - mse: 1.0972\n",
      "Epoch 243/300\n",
      "1/1 [==============================] - 0s 6ms/step - loss: 1.0969 - mse: 1.0969\n",
      "Epoch 244/300\n",
      "1/1 [==============================] - 0s 6ms/step - loss: 1.0966 - mse: 1.0966\n",
      "Epoch 245/300\n",
      "1/1 [==============================] - 0s 5ms/step - loss: 1.0963 - mse: 1.0963\n",
      "Epoch 246/300\n",
      "1/1 [==============================] - 0s 5ms/step - loss: 1.0960 - mse: 1.0960\n",
      "Epoch 247/300\n",
      "1/1 [==============================] - 0s 6ms/step - loss: 1.0957 - mse: 1.0957\n",
      "Epoch 248/300\n",
      "1/1 [==============================] - 0s 7ms/step - loss: 1.0954 - mse: 1.0954\n",
      "Epoch 249/300\n",
      "1/1 [==============================] - 0s 5ms/step - loss: 1.0951 - mse: 1.0951\n",
      "Epoch 250/300\n",
      "1/1 [==============================] - 0s 6ms/step - loss: 1.0948 - mse: 1.0948\n",
      "Epoch 251/300\n",
      "1/1 [==============================] - 0s 5ms/step - loss: 1.0945 - mse: 1.0945\n",
      "Epoch 252/300\n",
      "1/1 [==============================] - 0s 4ms/step - loss: 1.0942 - mse: 1.0942\n",
      "Epoch 253/300\n",
      "1/1 [==============================] - 0s 4ms/step - loss: 1.0940 - mse: 1.0940\n",
      "Epoch 254/300\n",
      "1/1 [==============================] - 0s 4ms/step - loss: 1.0937 - mse: 1.0937\n",
      "Epoch 255/300\n",
      "1/1 [==============================] - 0s 5ms/step - loss: 1.0934 - mse: 1.0934\n",
      "Epoch 256/300\n",
      "1/1 [==============================] - 0s 5ms/step - loss: 1.0931 - mse: 1.0931\n",
      "Epoch 257/300\n",
      "1/1 [==============================] - 0s 5ms/step - loss: 1.0929 - mse: 1.0929\n",
      "Epoch 258/300\n",
      "1/1 [==============================] - 0s 5ms/step - loss: 1.0926 - mse: 1.0926\n",
      "Epoch 259/300\n",
      "1/1 [==============================] - 0s 5ms/step - loss: 1.0923 - mse: 1.0923\n",
      "Epoch 260/300\n",
      "1/1 [==============================] - 0s 5ms/step - loss: 1.0921 - mse: 1.0921\n",
      "Epoch 261/300\n",
      "1/1 [==============================] - 0s 5ms/step - loss: 1.0918 - mse: 1.0918\n",
      "Epoch 262/300\n",
      "1/1 [==============================] - 0s 5ms/step - loss: 1.0915 - mse: 1.0915\n",
      "Epoch 263/300\n",
      "1/1 [==============================] - 0s 5ms/step - loss: 1.0913 - mse: 1.0913\n",
      "Epoch 264/300\n",
      "1/1 [==============================] - 0s 5ms/step - loss: 1.0910 - mse: 1.0910\n",
      "Epoch 265/300\n",
      "1/1 [==============================] - 0s 5ms/step - loss: 1.0907 - mse: 1.0907\n",
      "Epoch 266/300\n",
      "1/1 [==============================] - 0s 4ms/step - loss: 1.0905 - mse: 1.0905\n",
      "Epoch 267/300\n",
      "1/1 [==============================] - 0s 4ms/step - loss: 1.0902 - mse: 1.0902\n",
      "Epoch 268/300\n",
      "1/1 [==============================] - 0s 5ms/step - loss: 1.0900 - mse: 1.0900\n",
      "Epoch 269/300\n",
      "1/1 [==============================] - 0s 4ms/step - loss: 1.0898 - mse: 1.0898\n",
      "Epoch 270/300\n",
      "1/1 [==============================] - 0s 5ms/step - loss: 1.0895 - mse: 1.0895\n",
      "Epoch 271/300\n",
      "1/1 [==============================] - 0s 5ms/step - loss: 1.0893 - mse: 1.0893\n",
      "Epoch 272/300\n",
      "1/1 [==============================] - 0s 5ms/step - loss: 1.0890 - mse: 1.0890\n",
      "Epoch 273/300\n",
      "1/1 [==============================] - 0s 5ms/step - loss: 1.0888 - mse: 1.0888\n",
      "Epoch 274/300\n",
      "1/1 [==============================] - 0s 5ms/step - loss: 1.0885 - mse: 1.0885\n",
      "Epoch 275/300\n",
      "1/1 [==============================] - 0s 5ms/step - loss: 1.0883 - mse: 1.0883\n",
      "Epoch 276/300\n",
      "1/1 [==============================] - 0s 6ms/step - loss: 1.0881 - mse: 1.0881\n",
      "Epoch 277/300\n",
      "1/1 [==============================] - 0s 5ms/step - loss: 1.0878 - mse: 1.0878\n",
      "Epoch 278/300\n",
      "1/1 [==============================] - 0s 5ms/step - loss: 1.0876 - mse: 1.0876\n",
      "Epoch 279/300\n",
      "1/1 [==============================] - 0s 5ms/step - loss: 1.0874 - mse: 1.0874\n",
      "Epoch 280/300\n",
      "1/1 [==============================] - 0s 5ms/step - loss: 1.0872 - mse: 1.0872\n",
      "Epoch 281/300\n",
      "1/1 [==============================] - 0s 5ms/step - loss: 1.0869 - mse: 1.0869\n",
      "Epoch 282/300\n",
      "1/1 [==============================] - 0s 6ms/step - loss: 1.0867 - mse: 1.0867\n",
      "Epoch 283/300\n",
      "1/1 [==============================] - 0s 5ms/step - loss: 1.0865 - mse: 1.0865\n",
      "Epoch 284/300\n",
      "1/1 [==============================] - 0s 5ms/step - loss: 1.0863 - mse: 1.0863\n",
      "Epoch 285/300\n",
      "1/1 [==============================] - 0s 5ms/step - loss: 1.0861 - mse: 1.0861\n",
      "Epoch 286/300\n",
      "1/1 [==============================] - 0s 6ms/step - loss: 1.0859 - mse: 1.0859\n",
      "Epoch 287/300\n",
      "1/1 [==============================] - 0s 5ms/step - loss: 1.0856 - mse: 1.0856\n",
      "Epoch 288/300\n",
      "1/1 [==============================] - 0s 5ms/step - loss: 1.0854 - mse: 1.0854\n",
      "Epoch 289/300\n",
      "1/1 [==============================] - 0s 5ms/step - loss: 1.0852 - mse: 1.0852\n",
      "Epoch 290/300\n",
      "1/1 [==============================] - 0s 5ms/step - loss: 1.0850 - mse: 1.0850\n",
      "Epoch 291/300\n",
      "1/1 [==============================] - 0s 6ms/step - loss: 1.0848 - mse: 1.0848\n",
      "Epoch 292/300\n",
      "1/1 [==============================] - 0s 5ms/step - loss: 1.0846 - mse: 1.0846\n",
      "Epoch 293/300\n",
      "1/1 [==============================] - 0s 5ms/step - loss: 1.0844 - mse: 1.0844\n",
      "Epoch 294/300\n",
      "1/1 [==============================] - 0s 5ms/step - loss: 1.0842 - mse: 1.0842\n",
      "Epoch 295/300\n",
      "1/1 [==============================] - 0s 5ms/step - loss: 1.0840 - mse: 1.0840\n",
      "Epoch 296/300\n",
      "1/1 [==============================] - 0s 4ms/step - loss: 1.0838 - mse: 1.0838\n",
      "Epoch 297/300\n",
      "1/1 [==============================] - 0s 5ms/step - loss: 1.0836 - mse: 1.0836\n",
      "Epoch 298/300\n",
      "1/1 [==============================] - 0s 5ms/step - loss: 1.0834 - mse: 1.0834\n",
      "Epoch 299/300\n",
      "1/1 [==============================] - 0s 5ms/step - loss: 1.0832 - mse: 1.0832\n",
      "Epoch 300/300\n",
      "1/1 [==============================] - 0s 5ms/step - loss: 1.0830 - mse: 1.0830\n"
     ]
    },
    {
     "data": {
      "text/plain": "<keras.src.callbacks.History at 0x1d17acf9390>"
     },
     "execution_count": 11,
     "metadata": {},
     "output_type": "execute_result"
    }
   ],
   "source": [
    "from tensorflow.keras.layers import Input, Dense\n",
    "from tensorflow.keras import optimizers\n",
    "from tensorflow.keras.models import Model\n",
    "\n",
    "X = [1, 2, 3, 4, 5, 6, 7, 8, 9] # 공부하는 시간\n",
    "y = [11, 22, 33, 44, 53, 66, 77, 87, 95] # 각 공부하는 시간에 맵핑되는 성적\n",
    "\n",
    "inputs = Input(shape=(1,))\n",
    "output = Dense(1, activation='linear')(inputs)\n",
    "linear_model = Model(inputs, output)\n",
    "\n",
    "sgd = optimizers.SGD(learning_rate=0.01)\n",
    "\n",
    "linear_model.compile(optimizer=sgd, loss='mse', metrics=['mse'])\n",
    "linear_model.fit(X, y, epochs=300)"
   ],
   "metadata": {
    "collapsed": false,
    "ExecuteTime": {
     "end_time": "2024-02-08T04:10:01.408780200Z",
     "start_time": "2024-02-08T04:09:53.656590Z"
    }
   },
   "id": "caf99d88a1785af8",
   "execution_count": 11
  },
  {
   "cell_type": "markdown",
   "source": [
    "그 외에 다양한 다른 예제들을 구현해봅시다.\n",
    "\n",
    "#### 3) 로지스틱 회귀(Logistic Regression)"
   ],
   "metadata": {
    "collapsed": false
   },
   "id": "b85b20f5e44ff049"
  },
  {
   "cell_type": "code",
   "outputs": [],
   "source": [
    "from tensorflow.keras.layers import Input, Dense\n",
    "from tensorflow.keras.models import Model\n",
    "\n",
    "inputs = Input(shape=(3,))\n",
    "output = Dense(1, activation='sigmoid')(inputs)\n",
    "logistic_model = Model(inputs, output)"
   ],
   "metadata": {
    "collapsed": false,
    "ExecuteTime": {
     "end_time": "2024-02-08T04:11:31.579932800Z",
     "start_time": "2024-02-08T04:11:31.518302300Z"
    }
   },
   "id": "220fa1ed5d653e48",
   "execution_count": 14
  },
  {
   "cell_type": "markdown",
   "source": [
    "#### 4) 다중 입력을 받는 모델(model that accepts multiple inputs)\n",
    "\n",
    "functional API를 사용하면 아래와 같이 다중 입력과 다중 출력을 가지는 모델도 만들 수 있습니다."
   ],
   "metadata": {
    "collapsed": false
   },
   "id": "3fcea813729b390a"
  },
  {
   "cell_type": "code",
   "outputs": [],
   "source": [
    "# 최종 완성된 다중 입력, 다중 출력 모델의 예\n",
    "# model = Model(inputs=[a1, a2], outputs=[b1, b2, b3])"
   ],
   "metadata": {
    "collapsed": false,
    "ExecuteTime": {
     "end_time": "2024-02-08T04:11:44.899984100Z",
     "start_time": "2024-02-08T04:11:44.864170800Z"
    }
   },
   "id": "48552e5f6bb3ee5a",
   "execution_count": 16
  },
  {
   "cell_type": "markdown",
   "source": [
    "이번에는 다중 입력을 받는 모델을 입력층부터 출력층까지 설계해보겠습니다."
   ],
   "metadata": {
    "collapsed": false
   },
   "id": "bf0afdba9d361be4"
  },
  {
   "cell_type": "code",
   "outputs": [],
   "source": [
    "from tensorflow.keras.layers import Input, Dense, concatenate\n",
    "from tensorflow.keras.models import Model\n",
    "\n",
    "# 두 개의 입력층을 정의\n",
    "inputA = Input(shape=(64,))\n",
    "inputB = Input(shape=(128,))\n",
    "\n",
    "# 첫번째 입력층으로부터 분기되어 진행되는 인공 신경망을 정의\n",
    "x = Dense(16, activation=\"relu\")(inputA)\n",
    "x = Dense(8, activation=\"relu\")(x)\n",
    "x = Model(inputs=inputA, outputs=x)\n",
    "\n",
    "# 두번째 입력층으로부터 분기되어 진행되는 인공 신경망을 정의\n",
    "y = Dense(64, activation=\"relu\")(inputB)\n",
    "y = Dense(32, activation=\"relu\")(y)\n",
    "y = Dense(8, activation=\"relu\")(y)\n",
    "y = Model(inputs=inputB, outputs=y)\n",
    "\n",
    "# 두개의 인공 신경망의 출력을 연결(concatenate)\n",
    "result = concatenate([x.output, y.output])\n",
    "\n",
    "z = Dense(2, activation=\"relu\")(result)\n",
    "z = Dense(1, activation=\"linear\")(z)\n",
    "\n",
    "model = Model(inputs=[x.input, y.input], outputs=z)"
   ],
   "metadata": {
    "collapsed": false,
    "ExecuteTime": {
     "end_time": "2024-02-08T04:11:55.997652Z",
     "start_time": "2024-02-08T04:11:55.912838Z"
    }
   },
   "id": "c4b7291111ea422a",
   "execution_count": 17
  },
  {
   "cell_type": "markdown",
   "source": [
    "위 모델은 두 개의 입력층으로부터 분기되어 진행된 후 마지막에는 하나의 출력을 예측하는 모델입니다."
   ],
   "metadata": {
    "collapsed": false
   },
   "id": "3a8bd6a84cced8d8"
  },
  {
   "cell_type": "markdown",
   "source": [
    "#### 5) RNN(Recurrence Neural Network) 은닉층 사용하기\n",
    "\n",
    "이번에는 RNN 은닉층을 가지는 모델을 설계해봅시다. 여기서는 하나의 특성(feature)에 50개의 시점(time-step)을 입력으로 받는 모델을 설계해보겠습니다.\n",
    "RNN에 대한 구체적인 내용은 다음 챕터인 RNN 챕터에서 배웁니다."
   ],
   "metadata": {
    "collapsed": false
   },
   "id": "62a1a1358777af64"
  },
  {
   "cell_type": "code",
   "outputs": [],
   "source": [
    "from tensorflow.keras.layers import Input, Dense, LSTM\n",
    "from tensorflow.keras.models import Model\n",
    "\n",
    "inputs = Input(shape=(50,1))\n",
    "lstm_layer = LSTM(10)(inputs)\n",
    "x = Dense(10, activation='relu')(lstm_layer)\n",
    "output = Dense(1, activation='sigmoid')(x)\n",
    "\n",
    "model = Model(inputs=inputs, outputs=output)"
   ],
   "metadata": {
    "collapsed": false,
    "ExecuteTime": {
     "end_time": "2024-02-08T04:12:23.685458500Z",
     "start_time": "2024-02-08T04:12:23.433997400Z"
    }
   },
   "id": "f59fe704947c43eb",
   "execution_count": 18
  },
  {
   "cell_type": "markdown",
   "source": [
    "다수의 입력과 다수의 출력을 가지는 좀 더 다양한 예제는 앞서 소개한 케라스 공식 문서에서 확인할 수 있습니다."
   ],
   "metadata": {
    "collapsed": false
   },
   "id": "62fecf600f8cacc3"
  },
  {
   "cell_type": "markdown",
   "source": [
    "## 07-10 케라스 서브클래싱 API(Keras Subclassing API)\n",
    "***\n",
    "\n",
    "케라스의 구현 방식에는 Sequential API, Functional API 외에도 Subclassing API라는 구현 방식이 존재합니다.\n",
    "\n",
    "![그림](img_49.png)"
   ],
   "metadata": {
    "collapsed": false
   },
   "id": "8a9ed6765545e0e9"
  },
  {
   "cell_type": "markdown",
   "source": [
    "### 1. 서브클래싱 API로 구현한 선형 회귀\n",
    "***\n",
    "\n",
    "Sequential API로 구현했던 선형 회귀를 Subclassing API로 구현한다면 다음과 같습니다."
   ],
   "metadata": {
    "collapsed": false
   },
   "id": "f6ec50daf499ef6e"
  },
  {
   "cell_type": "code",
   "outputs": [],
   "source": [
    "import tensorflow as tf\n",
    "\n",
    "class LinearRegression(tf.keras.Model): #클래스(class) 형태의 모델은 tf.keras.Model을 상속받는다.\n",
    "  def __init__(self): # 모델의 구조와 동적을 정의하는 생성자를 정의, 파이썬에서 객체가 갖는 속성값을 초기화하는 역할로, 객체가 생성될 때 자동으로 호출된다.\n",
    "    super(LinearRegression, self).__init__() #  tf.keras.Model 클래스의 속성들을 가지고 초기화\n",
    "    self.linear_layer = tf.keras.layers.Dense(1, input_dim=1, activation='linear') \n",
    "\n",
    "  def call(self, x): # 모델이 데이터를 입력받아 예측값을 리턴하는 포워드(forward) 연산을 진행시키는 함수입니다.\n",
    "    y_pred = self.linear_layer(x)\n",
    "\n",
    "    return y_pred"
   ],
   "metadata": {
    "collapsed": false,
    "ExecuteTime": {
     "end_time": "2024-02-08T04:47:09.816907700Z",
     "start_time": "2024-02-08T04:47:09.737795600Z"
    }
   },
   "id": "658338c0d692e3ef",
   "execution_count": 30
  },
  {
   "cell_type": "code",
   "outputs": [],
   "source": [
    "model = LinearRegression()"
   ],
   "metadata": {
    "collapsed": false,
    "ExecuteTime": {
     "end_time": "2024-02-08T04:47:10.250883800Z",
     "start_time": "2024-02-08T04:47:10.173584700Z"
    }
   },
   "id": "e9bfd709dfa43a4a",
   "execution_count": 31
  },
  {
   "cell_type": "code",
   "outputs": [],
   "source": [
    "X = [[1, 2, 3, 4, 5, 6, 7, 8, 9]] # 공부하는 시간\n",
    "y = [[11, 22, 33, 44, 53, 66, 77, 87, 95]] # 각 공부하는 시간에 맵핑되는 성적"
   ],
   "metadata": {
    "collapsed": false,
    "ExecuteTime": {
     "end_time": "2024-02-08T04:47:10.639648900Z",
     "start_time": "2024-02-08T04:47:10.565287500Z"
    }
   },
   "id": "6eb69453fb8c9d28",
   "execution_count": 32
  },
  {
   "cell_type": "code",
   "outputs": [
    {
     "name": "stdout",
     "output_type": "stream",
     "text": [
      "Epoch 1/300\n",
      "1/1 [==============================] - 0s 252ms/step - loss: 4940.3457 - mse: 4940.3457\n",
      "Epoch 2/300\n",
      "1/1 [==============================] - 0s 6ms/step - loss: 93849.9062 - mse: 93849.9062\n",
      "Epoch 3/300\n",
      "1/1 [==============================] - 0s 6ms/step - loss: 2074612.5000 - mse: 2074612.5000\n",
      "Epoch 4/300\n",
      "1/1 [==============================] - 0s 7ms/step - loss: 46202828.0000 - mse: 46202828.0000\n",
      "Epoch 5/300\n",
      "1/1 [==============================] - 0s 6ms/step - loss: 1029308672.0000 - mse: 1029308672.0000\n",
      "Epoch 6/300\n",
      "1/1 [==============================] - 0s 6ms/step - loss: 22931331072.0000 - mse: 22931331072.0000\n",
      "Epoch 7/300\n",
      "1/1 [==============================] - 0s 5ms/step - loss: 510873337856.0000 - mse: 510873337856.0000\n",
      "Epoch 8/300\n",
      "1/1 [==============================] - 0s 5ms/step - loss: 11381437890560.0000 - mse: 11381437890560.0000\n",
      "Epoch 9/300\n",
      "1/1 [==============================] - 0s 8ms/step - loss: 253560256200704.0000 - mse: 253560256200704.0000\n",
      "Epoch 10/300\n",
      "1/1 [==============================] - 0s 5ms/step - loss: 5648916007616512.0000 - mse: 5648916007616512.0000\n",
      "Epoch 11/300\n",
      "1/1 [==============================] - 0s 5ms/step - loss: 125848795245182976.0000 - mse: 125848795245182976.0000\n",
      "Epoch 12/300\n",
      "1/1 [==============================] - 0s 5ms/step - loss: 2803709021096247296.0000 - mse: 2803709021096247296.0000\n",
      "Epoch 13/300\n",
      "1/1 [==============================] - 0s 6ms/step - loss: 62462134072094228480.0000 - mse: 62462134072094228480.0000\n",
      "Epoch 14/300\n",
      "1/1 [==============================] - 0s 5ms/step - loss: 1391556412074606198784.0000 - mse: 1391556412074606198784.0000\n",
      "Epoch 15/300\n",
      "1/1 [==============================] - 0s 4ms/step - loss: 31001649431312024469504.0000 - mse: 31001649431312024469504.0000\n",
      "Epoch 16/300\n",
      "1/1 [==============================] - 0s 5ms/step - loss: 690666994821956611604480.0000 - mse: 690666994821956611604480.0000\n",
      "Epoch 17/300\n",
      "1/1 [==============================] - 0s 5ms/step - loss: 15386956117008742331973632.0000 - mse: 15386956117008742331973632.0000\n",
      "Epoch 18/300\n",
      "1/1 [==============================] - 0s 5ms/step - loss: 342796841245924577995915264.0000 - mse: 342796841245924577995915264.0000\n",
      "Epoch 19/300\n",
      "1/1 [==============================] - 0s 6ms/step - loss: 7636965623319392619253989376.0000 - mse: 7636965623319392619253989376.0000\n",
      "Epoch 20/300\n",
      "1/1 [==============================] - 0s 5ms/step - loss: 170139365259818520052867530752.0000 - mse: 170139365259818520052867530752.0000\n",
      "Epoch 21/300\n",
      "1/1 [==============================] - 0s 6ms/step - loss: 3790433071591123815728733487104.0000 - mse: 3790433071591123815728733487104.0000\n",
      "Epoch 22/300\n",
      "1/1 [==============================] - 0s 5ms/step - loss: 84444783811373588569768473919488.0000 - mse: 84444783811373588569768473919488.0000\n",
      "Epoch 23/300\n",
      "1/1 [==============================] - 0s 5ms/step - loss: 1881294073366884368968443110621184.0000 - mse: 1881294073366884368968443110621184.0000\n",
      "Epoch 24/300\n",
      "1/1 [==============================] - 0s 5ms/step - loss: 41912222856622491588221306956414976.0000 - mse: 41912222856622491588221306956414976.0000\n",
      "Epoch 25/300\n",
      "1/1 [==============================] - 0s 5ms/step - loss: 933737171058861209561704743168901120.0000 - mse: 933737171058861209561704743168901120.0000\n",
      "Epoch 26/300\n",
      "1/1 [==============================] - 0s 5ms/step - loss: 20802169167456048586690126540877856768.0000 - mse: 20802169167456048586690126540877856768.0000\n",
      "Epoch 27/300\n",
      "1/1 [==============================] - 0s 5ms/step - loss: inf - mse: inf\n",
      "Epoch 28/300\n",
      "1/1 [==============================] - 0s 5ms/step - loss: inf - mse: inf\n",
      "Epoch 29/300\n",
      "1/1 [==============================] - 0s 5ms/step - loss: inf - mse: inf\n",
      "Epoch 30/300\n",
      "1/1 [==============================] - 0s 4ms/step - loss: inf - mse: inf\n",
      "Epoch 31/300\n",
      "1/1 [==============================] - 0s 6ms/step - loss: inf - mse: inf\n",
      "Epoch 32/300\n",
      "1/1 [==============================] - 0s 4ms/step - loss: inf - mse: inf\n",
      "Epoch 33/300\n",
      "1/1 [==============================] - 0s 5ms/step - loss: inf - mse: inf\n",
      "Epoch 34/300\n",
      "1/1 [==============================] - 0s 5ms/step - loss: inf - mse: inf\n",
      "Epoch 35/300\n",
      "1/1 [==============================] - 0s 6ms/step - loss: inf - mse: inf\n",
      "Epoch 36/300\n",
      "1/1 [==============================] - 0s 5ms/step - loss: inf - mse: inf\n",
      "Epoch 37/300\n",
      "1/1 [==============================] - 0s 5ms/step - loss: inf - mse: inf\n",
      "Epoch 38/300\n",
      "1/1 [==============================] - 0s 5ms/step - loss: inf - mse: inf\n",
      "Epoch 39/300\n",
      "1/1 [==============================] - 0s 5ms/step - loss: inf - mse: inf\n",
      "Epoch 40/300\n",
      "1/1 [==============================] - 0s 7ms/step - loss: inf - mse: inf\n",
      "Epoch 41/300\n",
      "1/1 [==============================] - 0s 5ms/step - loss: inf - mse: inf\n",
      "Epoch 42/300\n",
      "1/1 [==============================] - 0s 5ms/step - loss: inf - mse: inf\n",
      "Epoch 43/300\n",
      "1/1 [==============================] - 0s 5ms/step - loss: inf - mse: inf\n",
      "Epoch 44/300\n",
      "1/1 [==============================] - 0s 4ms/step - loss: inf - mse: inf\n",
      "Epoch 45/300\n",
      "1/1 [==============================] - 0s 4ms/step - loss: inf - mse: inf\n",
      "Epoch 46/300\n",
      "1/1 [==============================] - 0s 5ms/step - loss: inf - mse: inf\n",
      "Epoch 47/300\n",
      "1/1 [==============================] - 0s 5ms/step - loss: inf - mse: inf\n",
      "Epoch 48/300\n",
      "1/1 [==============================] - 0s 5ms/step - loss: inf - mse: inf\n",
      "Epoch 49/300\n",
      "1/1 [==============================] - 0s 6ms/step - loss: inf - mse: inf\n",
      "Epoch 50/300\n",
      "1/1 [==============================] - 0s 4ms/step - loss: inf - mse: inf\n",
      "Epoch 51/300\n",
      "1/1 [==============================] - 0s 6ms/step - loss: inf - mse: inf\n",
      "Epoch 52/300\n",
      "1/1 [==============================] - 0s 5ms/step - loss: inf - mse: inf\n",
      "Epoch 53/300\n",
      "1/1 [==============================] - 0s 5ms/step - loss: inf - mse: inf\n",
      "Epoch 54/300\n",
      "1/1 [==============================] - 0s 4ms/step - loss: inf - mse: inf\n",
      "Epoch 55/300\n",
      "1/1 [==============================] - 0s 6ms/step - loss: inf - mse: inf\n",
      "Epoch 56/300\n",
      "1/1 [==============================] - 0s 5ms/step - loss: nan - mse: nan\n",
      "Epoch 57/300\n",
      "1/1 [==============================] - 0s 4ms/step - loss: nan - mse: nan\n",
      "Epoch 58/300\n",
      "1/1 [==============================] - 0s 5ms/step - loss: nan - mse: nan\n",
      "Epoch 59/300\n",
      "1/1 [==============================] - 0s 5ms/step - loss: nan - mse: nan\n",
      "Epoch 60/300\n",
      "1/1 [==============================] - 0s 6ms/step - loss: nan - mse: nan\n",
      "Epoch 61/300\n",
      "1/1 [==============================] - 0s 5ms/step - loss: nan - mse: nan\n",
      "Epoch 62/300\n",
      "1/1 [==============================] - 0s 5ms/step - loss: nan - mse: nan\n",
      "Epoch 63/300\n",
      "1/1 [==============================] - 0s 4ms/step - loss: nan - mse: nan\n",
      "Epoch 64/300\n",
      "1/1 [==============================] - 0s 5ms/step - loss: nan - mse: nan\n",
      "Epoch 65/300\n",
      "1/1 [==============================] - 0s 6ms/step - loss: nan - mse: nan\n",
      "Epoch 66/300\n",
      "1/1 [==============================] - 0s 5ms/step - loss: nan - mse: nan\n",
      "Epoch 67/300\n",
      "1/1 [==============================] - 0s 4ms/step - loss: nan - mse: nan\n",
      "Epoch 68/300\n",
      "1/1 [==============================] - 0s 5ms/step - loss: nan - mse: nan\n",
      "Epoch 69/300\n",
      "1/1 [==============================] - 0s 6ms/step - loss: nan - mse: nan\n",
      "Epoch 70/300\n",
      "1/1 [==============================] - 0s 8ms/step - loss: nan - mse: nan\n",
      "Epoch 71/300\n",
      "1/1 [==============================] - 0s 4ms/step - loss: nan - mse: nan\n",
      "Epoch 72/300\n",
      "1/1 [==============================] - 0s 5ms/step - loss: nan - mse: nan\n",
      "Epoch 73/300\n",
      "1/1 [==============================] - 0s 4ms/step - loss: nan - mse: nan\n",
      "Epoch 74/300\n",
      "1/1 [==============================] - 0s 5ms/step - loss: nan - mse: nan\n",
      "Epoch 75/300\n",
      "1/1 [==============================] - 0s 5ms/step - loss: nan - mse: nan\n",
      "Epoch 76/300\n",
      "1/1 [==============================] - 0s 5ms/step - loss: nan - mse: nan\n",
      "Epoch 77/300\n",
      "1/1 [==============================] - 0s 4ms/step - loss: nan - mse: nan\n",
      "Epoch 78/300\n",
      "1/1 [==============================] - 0s 5ms/step - loss: nan - mse: nan\n",
      "Epoch 79/300\n",
      "1/1 [==============================] - 0s 5ms/step - loss: nan - mse: nan\n",
      "Epoch 80/300\n",
      "1/1 [==============================] - 0s 5ms/step - loss: nan - mse: nan\n",
      "Epoch 81/300\n",
      "1/1 [==============================] - 0s 5ms/step - loss: nan - mse: nan\n",
      "Epoch 82/300\n",
      "1/1 [==============================] - 0s 5ms/step - loss: nan - mse: nan\n",
      "Epoch 83/300\n",
      "1/1 [==============================] - 0s 5ms/step - loss: nan - mse: nan\n",
      "Epoch 84/300\n",
      "1/1 [==============================] - 0s 5ms/step - loss: nan - mse: nan\n",
      "Epoch 85/300\n",
      "1/1 [==============================] - 0s 5ms/step - loss: nan - mse: nan\n",
      "Epoch 86/300\n",
      "1/1 [==============================] - 0s 4ms/step - loss: nan - mse: nan\n",
      "Epoch 87/300\n",
      "1/1 [==============================] - 0s 5ms/step - loss: nan - mse: nan\n",
      "Epoch 88/300\n",
      "1/1 [==============================] - 0s 5ms/step - loss: nan - mse: nan\n",
      "Epoch 89/300\n",
      "1/1 [==============================] - 0s 4ms/step - loss: nan - mse: nan\n",
      "Epoch 90/300\n",
      "1/1 [==============================] - 0s 4ms/step - loss: nan - mse: nan\n",
      "Epoch 91/300\n",
      "1/1 [==============================] - 0s 5ms/step - loss: nan - mse: nan\n",
      "Epoch 92/300\n",
      "1/1 [==============================] - 0s 6ms/step - loss: nan - mse: nan\n",
      "Epoch 93/300\n",
      "1/1 [==============================] - 0s 5ms/step - loss: nan - mse: nan\n",
      "Epoch 94/300\n",
      "1/1 [==============================] - 0s 5ms/step - loss: nan - mse: nan\n",
      "Epoch 95/300\n",
      "1/1 [==============================] - 0s 5ms/step - loss: nan - mse: nan\n",
      "Epoch 96/300\n",
      "1/1 [==============================] - 0s 4ms/step - loss: nan - mse: nan\n",
      "Epoch 97/300\n",
      "1/1 [==============================] - 0s 4ms/step - loss: nan - mse: nan\n",
      "Epoch 98/300\n",
      "1/1 [==============================] - 0s 5ms/step - loss: nan - mse: nan\n",
      "Epoch 99/300\n",
      "1/1 [==============================] - 0s 5ms/step - loss: nan - mse: nan\n",
      "Epoch 100/300\n",
      "1/1 [==============================] - 0s 5ms/step - loss: nan - mse: nan\n",
      "Epoch 101/300\n",
      "1/1 [==============================] - 0s 5ms/step - loss: nan - mse: nan\n",
      "Epoch 102/300\n",
      "1/1 [==============================] - 0s 4ms/step - loss: nan - mse: nan\n",
      "Epoch 103/300\n",
      "1/1 [==============================] - 0s 4ms/step - loss: nan - mse: nan\n",
      "Epoch 104/300\n",
      "1/1 [==============================] - 0s 6ms/step - loss: nan - mse: nan\n",
      "Epoch 105/300\n",
      "1/1 [==============================] - 0s 5ms/step - loss: nan - mse: nan\n",
      "Epoch 106/300\n",
      "1/1 [==============================] - 0s 5ms/step - loss: nan - mse: nan\n",
      "Epoch 107/300\n",
      "1/1 [==============================] - 0s 4ms/step - loss: nan - mse: nan\n",
      "Epoch 108/300\n",
      "1/1 [==============================] - 0s 5ms/step - loss: nan - mse: nan\n",
      "Epoch 109/300\n",
      "1/1 [==============================] - 0s 5ms/step - loss: nan - mse: nan\n",
      "Epoch 110/300\n",
      "1/1 [==============================] - 0s 4ms/step - loss: nan - mse: nan\n",
      "Epoch 111/300\n",
      "1/1 [==============================] - 0s 6ms/step - loss: nan - mse: nan\n",
      "Epoch 112/300\n",
      "1/1 [==============================] - 0s 5ms/step - loss: nan - mse: nan\n",
      "Epoch 113/300\n",
      "1/1 [==============================] - 0s 4ms/step - loss: nan - mse: nan\n",
      "Epoch 114/300\n",
      "1/1 [==============================] - 0s 5ms/step - loss: nan - mse: nan\n",
      "Epoch 115/300\n",
      "1/1 [==============================] - 0s 5ms/step - loss: nan - mse: nan\n",
      "Epoch 116/300\n",
      "1/1 [==============================] - 0s 6ms/step - loss: nan - mse: nan\n",
      "Epoch 117/300\n",
      "1/1 [==============================] - 0s 5ms/step - loss: nan - mse: nan\n",
      "Epoch 118/300\n",
      "1/1 [==============================] - 0s 5ms/step - loss: nan - mse: nan\n",
      "Epoch 119/300\n",
      "1/1 [==============================] - 0s 5ms/step - loss: nan - mse: nan\n",
      "Epoch 120/300\n",
      "1/1 [==============================] - 0s 4ms/step - loss: nan - mse: nan\n",
      "Epoch 121/300\n",
      "1/1 [==============================] - 0s 4ms/step - loss: nan - mse: nan\n",
      "Epoch 122/300\n",
      "1/1 [==============================] - 0s 5ms/step - loss: nan - mse: nan\n",
      "Epoch 123/300\n",
      "1/1 [==============================] - 0s 4ms/step - loss: nan - mse: nan\n",
      "Epoch 124/300\n",
      "1/1 [==============================] - 0s 5ms/step - loss: nan - mse: nan\n",
      "Epoch 125/300\n",
      "1/1 [==============================] - 0s 5ms/step - loss: nan - mse: nan\n",
      "Epoch 126/300\n",
      "1/1 [==============================] - 0s 5ms/step - loss: nan - mse: nan\n",
      "Epoch 127/300\n",
      "1/1 [==============================] - 0s 5ms/step - loss: nan - mse: nan\n",
      "Epoch 128/300\n",
      "1/1 [==============================] - 0s 5ms/step - loss: nan - mse: nan\n",
      "Epoch 129/300\n",
      "1/1 [==============================] - 0s 5ms/step - loss: nan - mse: nan\n",
      "Epoch 130/300\n",
      "1/1 [==============================] - 0s 5ms/step - loss: nan - mse: nan\n",
      "Epoch 131/300\n",
      "1/1 [==============================] - 0s 5ms/step - loss: nan - mse: nan\n",
      "Epoch 132/300\n",
      "1/1 [==============================] - 0s 5ms/step - loss: nan - mse: nan\n",
      "Epoch 133/300\n",
      "1/1 [==============================] - 0s 5ms/step - loss: nan - mse: nan\n",
      "Epoch 134/300\n",
      "1/1 [==============================] - 0s 4ms/step - loss: nan - mse: nan\n",
      "Epoch 135/300\n",
      "1/1 [==============================] - 0s 5ms/step - loss: nan - mse: nan\n",
      "Epoch 136/300\n",
      "1/1 [==============================] - 0s 5ms/step - loss: nan - mse: nan\n",
      "Epoch 137/300\n",
      "1/1 [==============================] - 0s 5ms/step - loss: nan - mse: nan\n",
      "Epoch 138/300\n",
      "1/1 [==============================] - 0s 5ms/step - loss: nan - mse: nan\n",
      "Epoch 139/300\n",
      "1/1 [==============================] - 0s 4ms/step - loss: nan - mse: nan\n",
      "Epoch 140/300\n",
      "1/1 [==============================] - 0s 4ms/step - loss: nan - mse: nan\n",
      "Epoch 141/300\n",
      "1/1 [==============================] - 0s 4ms/step - loss: nan - mse: nan\n",
      "Epoch 142/300\n",
      "1/1 [==============================] - 0s 5ms/step - loss: nan - mse: nan\n",
      "Epoch 143/300\n",
      "1/1 [==============================] - 0s 4ms/step - loss: nan - mse: nan\n",
      "Epoch 144/300\n",
      "1/1 [==============================] - 0s 4ms/step - loss: nan - mse: nan\n",
      "Epoch 145/300\n",
      "1/1 [==============================] - 0s 5ms/step - loss: nan - mse: nan\n",
      "Epoch 146/300\n",
      "1/1 [==============================] - 0s 5ms/step - loss: nan - mse: nan\n",
      "Epoch 147/300\n",
      "1/1 [==============================] - 0s 5ms/step - loss: nan - mse: nan\n",
      "Epoch 148/300\n",
      "1/1 [==============================] - 0s 5ms/step - loss: nan - mse: nan\n",
      "Epoch 149/300\n",
      "1/1 [==============================] - 0s 5ms/step - loss: nan - mse: nan\n",
      "Epoch 150/300\n",
      "1/1 [==============================] - 0s 6ms/step - loss: nan - mse: nan\n",
      "Epoch 151/300\n",
      "1/1 [==============================] - 0s 5ms/step - loss: nan - mse: nan\n",
      "Epoch 152/300\n",
      "1/1 [==============================] - 0s 5ms/step - loss: nan - mse: nan\n",
      "Epoch 153/300\n",
      "1/1 [==============================] - 0s 6ms/step - loss: nan - mse: nan\n",
      "Epoch 154/300\n",
      "1/1 [==============================] - 0s 5ms/step - loss: nan - mse: nan\n",
      "Epoch 155/300\n",
      "1/1 [==============================] - 0s 5ms/step - loss: nan - mse: nan\n",
      "Epoch 156/300\n",
      "1/1 [==============================] - 0s 5ms/step - loss: nan - mse: nan\n",
      "Epoch 157/300\n",
      "1/1 [==============================] - 0s 5ms/step - loss: nan - mse: nan\n",
      "Epoch 158/300\n",
      "1/1 [==============================] - 0s 5ms/step - loss: nan - mse: nan\n",
      "Epoch 159/300\n",
      "1/1 [==============================] - 0s 5ms/step - loss: nan - mse: nan\n",
      "Epoch 160/300\n",
      "1/1 [==============================] - 0s 4ms/step - loss: nan - mse: nan\n",
      "Epoch 161/300\n",
      "1/1 [==============================] - 0s 5ms/step - loss: nan - mse: nan\n",
      "Epoch 162/300\n",
      "1/1 [==============================] - 0s 5ms/step - loss: nan - mse: nan\n",
      "Epoch 163/300\n",
      "1/1 [==============================] - 0s 5ms/step - loss: nan - mse: nan\n",
      "Epoch 164/300\n",
      "1/1 [==============================] - 0s 5ms/step - loss: nan - mse: nan\n",
      "Epoch 165/300\n",
      "1/1 [==============================] - 0s 4ms/step - loss: nan - mse: nan\n",
      "Epoch 166/300\n",
      "1/1 [==============================] - 0s 4ms/step - loss: nan - mse: nan\n",
      "Epoch 167/300\n",
      "1/1 [==============================] - 0s 5ms/step - loss: nan - mse: nan\n",
      "Epoch 168/300\n",
      "1/1 [==============================] - 0s 5ms/step - loss: nan - mse: nan\n",
      "Epoch 169/300\n",
      "1/1 [==============================] - 0s 5ms/step - loss: nan - mse: nan\n",
      "Epoch 170/300\n",
      "1/1 [==============================] - 0s 5ms/step - loss: nan - mse: nan\n",
      "Epoch 171/300\n",
      "1/1 [==============================] - 0s 5ms/step - loss: nan - mse: nan\n",
      "Epoch 172/300\n",
      "1/1 [==============================] - 0s 5ms/step - loss: nan - mse: nan\n",
      "Epoch 173/300\n",
      "1/1 [==============================] - 0s 5ms/step - loss: nan - mse: nan\n",
      "Epoch 174/300\n",
      "1/1 [==============================] - 0s 4ms/step - loss: nan - mse: nan\n",
      "Epoch 175/300\n",
      "1/1 [==============================] - 0s 4ms/step - loss: nan - mse: nan\n",
      "Epoch 176/300\n",
      "1/1 [==============================] - 0s 4ms/step - loss: nan - mse: nan\n",
      "Epoch 177/300\n",
      "1/1 [==============================] - 0s 4ms/step - loss: nan - mse: nan\n",
      "Epoch 178/300\n",
      "1/1 [==============================] - 0s 5ms/step - loss: nan - mse: nan\n",
      "Epoch 179/300\n",
      "1/1 [==============================] - 0s 5ms/step - loss: nan - mse: nan\n",
      "Epoch 180/300\n",
      "1/1 [==============================] - 0s 5ms/step - loss: nan - mse: nan\n",
      "Epoch 181/300\n",
      "1/1 [==============================] - 0s 5ms/step - loss: nan - mse: nan\n",
      "Epoch 182/300\n",
      "1/1 [==============================] - 0s 5ms/step - loss: nan - mse: nan\n",
      "Epoch 183/300\n",
      "1/1 [==============================] - 0s 5ms/step - loss: nan - mse: nan\n",
      "Epoch 184/300\n",
      "1/1 [==============================] - 0s 6ms/step - loss: nan - mse: nan\n",
      "Epoch 185/300\n",
      "1/1 [==============================] - 0s 5ms/step - loss: nan - mse: nan\n",
      "Epoch 186/300\n",
      "1/1 [==============================] - 0s 5ms/step - loss: nan - mse: nan\n",
      "Epoch 187/300\n",
      "1/1 [==============================] - 0s 5ms/step - loss: nan - mse: nan\n",
      "Epoch 188/300\n",
      "1/1 [==============================] - 0s 5ms/step - loss: nan - mse: nan\n",
      "Epoch 189/300\n",
      "1/1 [==============================] - 0s 5ms/step - loss: nan - mse: nan\n",
      "Epoch 190/300\n",
      "1/1 [==============================] - 0s 6ms/step - loss: nan - mse: nan\n",
      "Epoch 191/300\n",
      "1/1 [==============================] - 0s 5ms/step - loss: nan - mse: nan\n",
      "Epoch 192/300\n",
      "1/1 [==============================] - 0s 8ms/step - loss: nan - mse: nan\n",
      "Epoch 193/300\n",
      "1/1 [==============================] - 0s 4ms/step - loss: nan - mse: nan\n",
      "Epoch 194/300\n",
      "1/1 [==============================] - 0s 5ms/step - loss: nan - mse: nan\n",
      "Epoch 195/300\n",
      "1/1 [==============================] - 0s 5ms/step - loss: nan - mse: nan\n",
      "Epoch 196/300\n",
      "1/1 [==============================] - 0s 5ms/step - loss: nan - mse: nan\n",
      "Epoch 197/300\n",
      "1/1 [==============================] - 0s 5ms/step - loss: nan - mse: nan\n",
      "Epoch 198/300\n",
      "1/1 [==============================] - 0s 4ms/step - loss: nan - mse: nan\n",
      "Epoch 199/300\n",
      "1/1 [==============================] - 0s 5ms/step - loss: nan - mse: nan\n",
      "Epoch 200/300\n",
      "1/1 [==============================] - 0s 5ms/step - loss: nan - mse: nan\n",
      "Epoch 201/300\n",
      "1/1 [==============================] - 0s 5ms/step - loss: nan - mse: nan\n",
      "Epoch 202/300\n",
      "1/1 [==============================] - 0s 4ms/step - loss: nan - mse: nan\n",
      "Epoch 203/300\n",
      "1/1 [==============================] - 0s 6ms/step - loss: nan - mse: nan\n",
      "Epoch 204/300\n",
      "1/1 [==============================] - 0s 5ms/step - loss: nan - mse: nan\n",
      "Epoch 205/300\n",
      "1/1 [==============================] - 0s 5ms/step - loss: nan - mse: nan\n",
      "Epoch 206/300\n",
      "1/1 [==============================] - 0s 5ms/step - loss: nan - mse: nan\n",
      "Epoch 207/300\n",
      "1/1 [==============================] - 0s 5ms/step - loss: nan - mse: nan\n",
      "Epoch 208/300\n",
      "1/1 [==============================] - 0s 5ms/step - loss: nan - mse: nan\n",
      "Epoch 209/300\n",
      "1/1 [==============================] - 0s 4ms/step - loss: nan - mse: nan\n",
      "Epoch 210/300\n",
      "1/1 [==============================] - 0s 5ms/step - loss: nan - mse: nan\n",
      "Epoch 211/300\n",
      "1/1 [==============================] - 0s 5ms/step - loss: nan - mse: nan\n",
      "Epoch 212/300\n",
      "1/1 [==============================] - 0s 6ms/step - loss: nan - mse: nan\n",
      "Epoch 213/300\n",
      "1/1 [==============================] - 0s 5ms/step - loss: nan - mse: nan\n",
      "Epoch 214/300\n",
      "1/1 [==============================] - 0s 5ms/step - loss: nan - mse: nan\n",
      "Epoch 215/300\n",
      "1/1 [==============================] - 0s 6ms/step - loss: nan - mse: nan\n",
      "Epoch 216/300\n",
      "1/1 [==============================] - 0s 5ms/step - loss: nan - mse: nan\n",
      "Epoch 217/300\n",
      "1/1 [==============================] - 0s 5ms/step - loss: nan - mse: nan\n",
      "Epoch 218/300\n",
      "1/1 [==============================] - 0s 5ms/step - loss: nan - mse: nan\n",
      "Epoch 219/300\n",
      "1/1 [==============================] - 0s 5ms/step - loss: nan - mse: nan\n",
      "Epoch 220/300\n",
      "1/1 [==============================] - 0s 6ms/step - loss: nan - mse: nan\n",
      "Epoch 221/300\n",
      "1/1 [==============================] - 0s 5ms/step - loss: nan - mse: nan\n",
      "Epoch 222/300\n",
      "1/1 [==============================] - 0s 5ms/step - loss: nan - mse: nan\n",
      "Epoch 223/300\n",
      "1/1 [==============================] - 0s 6ms/step - loss: nan - mse: nan\n",
      "Epoch 224/300\n",
      "1/1 [==============================] - 0s 6ms/step - loss: nan - mse: nan\n",
      "Epoch 225/300\n",
      "1/1 [==============================] - 0s 8ms/step - loss: nan - mse: nan\n",
      "Epoch 226/300\n",
      "1/1 [==============================] - 0s 6ms/step - loss: nan - mse: nan\n",
      "Epoch 227/300\n",
      "1/1 [==============================] - 0s 5ms/step - loss: nan - mse: nan\n",
      "Epoch 228/300\n",
      "1/1 [==============================] - 0s 6ms/step - loss: nan - mse: nan\n",
      "Epoch 229/300\n",
      "1/1 [==============================] - 0s 5ms/step - loss: nan - mse: nan\n",
      "Epoch 230/300\n",
      "1/1 [==============================] - 0s 5ms/step - loss: nan - mse: nan\n",
      "Epoch 231/300\n",
      "1/1 [==============================] - 0s 6ms/step - loss: nan - mse: nan\n",
      "Epoch 232/300\n",
      "1/1 [==============================] - 0s 5ms/step - loss: nan - mse: nan\n",
      "Epoch 233/300\n",
      "1/1 [==============================] - 0s 5ms/step - loss: nan - mse: nan\n",
      "Epoch 234/300\n",
      "1/1 [==============================] - 0s 5ms/step - loss: nan - mse: nan\n",
      "Epoch 235/300\n",
      "1/1 [==============================] - 0s 5ms/step - loss: nan - mse: nan\n",
      "Epoch 236/300\n",
      "1/1 [==============================] - 0s 5ms/step - loss: nan - mse: nan\n",
      "Epoch 237/300\n",
      "1/1 [==============================] - 0s 5ms/step - loss: nan - mse: nan\n",
      "Epoch 238/300\n",
      "1/1 [==============================] - 0s 4ms/step - loss: nan - mse: nan\n",
      "Epoch 239/300\n",
      "1/1 [==============================] - 0s 5ms/step - loss: nan - mse: nan\n",
      "Epoch 240/300\n",
      "1/1 [==============================] - 0s 5ms/step - loss: nan - mse: nan\n",
      "Epoch 241/300\n",
      "1/1 [==============================] - 0s 5ms/step - loss: nan - mse: nan\n",
      "Epoch 242/300\n",
      "1/1 [==============================] - 0s 5ms/step - loss: nan - mse: nan\n",
      "Epoch 243/300\n",
      "1/1 [==============================] - 0s 5ms/step - loss: nan - mse: nan\n",
      "Epoch 244/300\n",
      "1/1 [==============================] - 0s 5ms/step - loss: nan - mse: nan\n",
      "Epoch 245/300\n",
      "1/1 [==============================] - 0s 5ms/step - loss: nan - mse: nan\n",
      "Epoch 246/300\n",
      "1/1 [==============================] - 0s 6ms/step - loss: nan - mse: nan\n",
      "Epoch 247/300\n",
      "1/1 [==============================] - 0s 5ms/step - loss: nan - mse: nan\n",
      "Epoch 248/300\n",
      "1/1 [==============================] - 0s 5ms/step - loss: nan - mse: nan\n",
      "Epoch 249/300\n",
      "1/1 [==============================] - 0s 5ms/step - loss: nan - mse: nan\n",
      "Epoch 250/300\n",
      "1/1 [==============================] - 0s 5ms/step - loss: nan - mse: nan\n",
      "Epoch 251/300\n",
      "1/1 [==============================] - 0s 4ms/step - loss: nan - mse: nan\n",
      "Epoch 252/300\n",
      "1/1 [==============================] - 0s 5ms/step - loss: nan - mse: nan\n",
      "Epoch 253/300\n",
      "1/1 [==============================] - 0s 6ms/step - loss: nan - mse: nan\n",
      "Epoch 254/300\n",
      "1/1 [==============================] - 0s 5ms/step - loss: nan - mse: nan\n",
      "Epoch 255/300\n",
      "1/1 [==============================] - 0s 11ms/step - loss: nan - mse: nan\n",
      "Epoch 256/300\n",
      "1/1 [==============================] - 0s 5ms/step - loss: nan - mse: nan\n",
      "Epoch 257/300\n",
      "1/1 [==============================] - 0s 5ms/step - loss: nan - mse: nan\n",
      "Epoch 258/300\n",
      "1/1 [==============================] - 0s 5ms/step - loss: nan - mse: nan\n",
      "Epoch 259/300\n",
      "1/1 [==============================] - 0s 5ms/step - loss: nan - mse: nan\n",
      "Epoch 260/300\n",
      "1/1 [==============================] - 0s 6ms/step - loss: nan - mse: nan\n",
      "Epoch 261/300\n",
      "1/1 [==============================] - 0s 5ms/step - loss: nan - mse: nan\n",
      "Epoch 262/300\n",
      "1/1 [==============================] - 0s 5ms/step - loss: nan - mse: nan\n",
      "Epoch 263/300\n",
      "1/1 [==============================] - 0s 8ms/step - loss: nan - mse: nan\n",
      "Epoch 264/300\n",
      "1/1 [==============================] - 0s 5ms/step - loss: nan - mse: nan\n",
      "Epoch 265/300\n",
      "1/1 [==============================] - 0s 5ms/step - loss: nan - mse: nan\n",
      "Epoch 266/300\n",
      "1/1 [==============================] - 0s 5ms/step - loss: nan - mse: nan\n",
      "Epoch 267/300\n",
      "1/1 [==============================] - 0s 5ms/step - loss: nan - mse: nan\n",
      "Epoch 268/300\n",
      "1/1 [==============================] - 0s 6ms/step - loss: nan - mse: nan\n",
      "Epoch 269/300\n",
      "1/1 [==============================] - 0s 5ms/step - loss: nan - mse: nan\n",
      "Epoch 270/300\n",
      "1/1 [==============================] - 0s 5ms/step - loss: nan - mse: nan\n",
      "Epoch 271/300\n",
      "1/1 [==============================] - 0s 5ms/step - loss: nan - mse: nan\n",
      "Epoch 272/300\n",
      "1/1 [==============================] - 0s 6ms/step - loss: nan - mse: nan\n",
      "Epoch 273/300\n",
      "1/1 [==============================] - 0s 5ms/step - loss: nan - mse: nan\n",
      "Epoch 274/300\n",
      "1/1 [==============================] - 0s 5ms/step - loss: nan - mse: nan\n",
      "Epoch 275/300\n",
      "1/1 [==============================] - 0s 4ms/step - loss: nan - mse: nan\n",
      "Epoch 276/300\n",
      "1/1 [==============================] - 0s 5ms/step - loss: nan - mse: nan\n",
      "Epoch 277/300\n",
      "1/1 [==============================] - 0s 5ms/step - loss: nan - mse: nan\n",
      "Epoch 278/300\n",
      "1/1 [==============================] - 0s 5ms/step - loss: nan - mse: nan\n",
      "Epoch 279/300\n",
      "1/1 [==============================] - 0s 5ms/step - loss: nan - mse: nan\n",
      "Epoch 280/300\n",
      "1/1 [==============================] - 0s 4ms/step - loss: nan - mse: nan\n",
      "Epoch 281/300\n",
      "1/1 [==============================] - 0s 5ms/step - loss: nan - mse: nan\n",
      "Epoch 282/300\n",
      "1/1 [==============================] - 0s 5ms/step - loss: nan - mse: nan\n",
      "Epoch 283/300\n",
      "1/1 [==============================] - 0s 5ms/step - loss: nan - mse: nan\n",
      "Epoch 284/300\n",
      "1/1 [==============================] - 0s 5ms/step - loss: nan - mse: nan\n",
      "Epoch 285/300\n",
      "1/1 [==============================] - 0s 5ms/step - loss: nan - mse: nan\n",
      "Epoch 286/300\n",
      "1/1 [==============================] - 0s 6ms/step - loss: nan - mse: nan\n",
      "Epoch 287/300\n",
      "1/1 [==============================] - 0s 5ms/step - loss: nan - mse: nan\n",
      "Epoch 288/300\n",
      "1/1 [==============================] - 0s 5ms/step - loss: nan - mse: nan\n",
      "Epoch 289/300\n",
      "1/1 [==============================] - 0s 5ms/step - loss: nan - mse: nan\n",
      "Epoch 290/300\n",
      "1/1 [==============================] - 0s 5ms/step - loss: nan - mse: nan\n",
      "Epoch 291/300\n",
      "1/1 [==============================] - 0s 5ms/step - loss: nan - mse: nan\n",
      "Epoch 292/300\n",
      "1/1 [==============================] - 0s 5ms/step - loss: nan - mse: nan\n",
      "Epoch 293/300\n",
      "1/1 [==============================] - 0s 5ms/step - loss: nan - mse: nan\n",
      "Epoch 294/300\n",
      "1/1 [==============================] - 0s 4ms/step - loss: nan - mse: nan\n",
      "Epoch 295/300\n",
      "1/1 [==============================] - 0s 6ms/step - loss: nan - mse: nan\n",
      "Epoch 296/300\n",
      "1/1 [==============================] - 0s 5ms/step - loss: nan - mse: nan\n",
      "Epoch 297/300\n",
      "1/1 [==============================] - 0s 4ms/step - loss: nan - mse: nan\n",
      "Epoch 298/300\n",
      "1/1 [==============================] - 0s 4ms/step - loss: nan - mse: nan\n",
      "Epoch 299/300\n",
      "1/1 [==============================] - 0s 5ms/step - loss: nan - mse: nan\n",
      "Epoch 300/300\n",
      "1/1 [==============================] - 0s 5ms/step - loss: nan - mse: nan\n"
     ]
    },
    {
     "data": {
      "text/plain": "<keras.src.callbacks.History at 0x1d17de73b50>"
     },
     "execution_count": 33,
     "metadata": {},
     "output_type": "execute_result"
    }
   ],
   "source": [
    "sgd = tf.keras.optimizers.SGD(learning_rate=0.01)\n",
    "model.compile(optimizer=sgd, loss='mse', metrics=['mse'])\n",
    "model.fit(X, y, epochs=300)"
   ],
   "metadata": {
    "collapsed": false,
    "ExecuteTime": {
     "end_time": "2024-02-08T04:47:19.049368100Z",
     "start_time": "2024-02-08T04:47:11.031684600Z"
    }
   },
   "id": "c7c67c2811817bfe",
   "execution_count": 33
  },
  {
   "cell_type": "markdown",
   "source": [
    "클래스(class) 형태의 모델은 tf.keras.Model을 상속받습니다. 그리고 init()에서 모델의 구조와 동적을 정의하는 생성자를 정의합니다.\n",
    "이는 파이썬에서 객체가 갖는 속성값을 초기화하는 역할로, 객체가 생성될 때 자동으호 호출됩니다.\n",
    "super() 함수를 부르면 여기서 만든 클래스는 tf.keras.Model 클래스의 속성들을 가지고 초기화 됩니다.\n",
    "call() 함수는 모델이 데이터를 입력받아 예측값을 리턴하는 포워드(forward) 연산을 진행시키는 함수입니다.\n",
    "\n",
    "- $H(x)$식에 입력 $x$로부터 예측된 $y$를 얻는 것을 forward 연산이라고 합니다."
   ],
   "metadata": {
    "collapsed": false
   },
   "id": "2d0e64af6d890562"
  },
  {
   "cell_type": "markdown",
   "source": [
    "### 2. 언제 서브클래싱 API를 써야 할까?\n",
    "***\n",
    "\n",
    "Sequential API는 간단한 모델을 구현하기에 적합합니다.\n",
    "Functional API로는 Sequential API로 구현할 수 없는 복잡한 모델들을 구현가능합니다.\n",
    "그런데 Subclassing API로는 Functional API가 구현할 수 없는 모델들조차 구현할 수 있는 경우가 있습니다.\n",
    "Functional API는 기본적으로 딥 러닝 모델을 DAG(directed acyclic graph)로 취급합니다.\n",
    "실제로 대부분의 딥 러닝 모델이 이에 속하기는 하지만, 항상 그렇지는 않습니다.\n",
    "예를 들어서 재귀 네트워크나 트리 RNN은 이 가정을 따르지 않으며 Functional API에서 구현할 수 없습니다.\n",
    "\n",
    "이를 반대로 해석하면 대부분의 딥 러닝 모델은 Functional API 수준에서도 전부 구현이 가능하다는 의미이기도 합니다.\n",
    "그래서 Subclassing API는 밑바닥부터 새로운 수준의 아키텍처를 구현해야 하는 실험적 연구를 하는 연구자들에게 적합합니다."
   ],
   "metadata": {
    "collapsed": false
   },
   "id": "ff8a8e6fdc25d56d"
  },
  {
   "cell_type": "markdown",
   "source": [
    "### 3. 세 가지 구현 방식 비교.\n",
    "***\n",
    "\n",
    "#### 1) Sequential API\n",
    "\n",
    "- 장점 : 단순하게 층을 쌓는 방식으로 쉽고 사용하기가 간단합니다.\n",
    "- 단점 : 다수의 입력(multi-input), 다수의 출력(multi-output)을 가진 모델 또는 층 간의 연결(concatenate)이나 덧셈(Add)과 같은 연산을 하는 모델을 구현하기에는 적합하지 않습니다. \n",
    "이런 모델들의 구현은 Functional API를 사용해야 합니다.\n",
    "\n",
    "<br/>\n",
    "\n",
    "#### 2) Functional API\n",
    "- 장점 : Sequential API로는 구현하기 어려운 복잡한 모델들을 구현할 수 있습니다.\n",
    "- 단점 : 입력의 크기(shape)를 명시한 입력층(Input layer)을 모델의 앞단에 정의해주어야 합니다. 가령, 아래의 코드를 봅시다."
   ],
   "metadata": {
    "collapsed": false
   },
   "id": "7365a39ab5640325"
  },
  {
   "cell_type": "code",
   "outputs": [
    {
     "name": "stdout",
     "output_type": "stream",
     "text": [
      "Epoch 1/300\n"
     ]
    },
    {
     "ename": "ValueError",
     "evalue": "in user code:\n\n    File \"C:\\Users\\ISY\\anaconda3\\Lib\\site-packages\\keras\\src\\engine\\training.py\", line 1401, in train_function  *\n        return step_function(self, iterator)\n    File \"C:\\Users\\ISY\\anaconda3\\Lib\\site-packages\\keras\\src\\engine\\training.py\", line 1384, in step_function  **\n        outputs = model.distribute_strategy.run(run_step, args=(data,))\n    File \"C:\\Users\\ISY\\anaconda3\\Lib\\site-packages\\keras\\src\\engine\\training.py\", line 1373, in run_step  **\n        outputs = model.train_step(data)\n    File \"C:\\Users\\ISY\\anaconda3\\Lib\\site-packages\\keras\\src\\engine\\training.py\", line 1150, in train_step\n        y_pred = self(x, training=True)\n    File \"C:\\Users\\ISY\\anaconda3\\Lib\\site-packages\\keras\\src\\utils\\traceback_utils.py\", line 70, in error_handler\n        raise e.with_traceback(filtered_tb) from None\n    File \"C:\\Users\\ISY\\anaconda3\\Lib\\site-packages\\keras\\src\\engine\\input_spec.py\", line 280, in assert_input_compatibility\n        raise ValueError(\n\n    ValueError: Exception encountered when calling layer 'model_11' (type Functional).\n    \n    Input 0 of layer \"dense_31\" is incompatible with the layer: expected axis -1 of input shape to have value 1, but received input with shape (None, 9)\n    \n    Call arguments received by layer 'model_11' (type Functional):\n      • inputs=tf.Tensor(shape=(None, 9), dtype=int32)\n      • training=True\n      • mask=None\n",
     "output_type": "error",
     "traceback": [
      "\u001B[1;31m---------------------------------------------------------------------------\u001B[0m",
      "\u001B[1;31mValueError\u001B[0m                                Traceback (most recent call last)",
      "Cell \u001B[1;32mIn[35], line 10\u001B[0m\n\u001B[0;32m      7\u001B[0m sgd \u001B[38;5;241m=\u001B[39m optimizers\u001B[38;5;241m.\u001B[39mSGD(learning_rate\u001B[38;5;241m=\u001B[39m\u001B[38;5;241m0.01\u001B[39m)\n\u001B[0;32m      9\u001B[0m linear_model\u001B[38;5;241m.\u001B[39mcompile(optimizer\u001B[38;5;241m=\u001B[39msgd, loss\u001B[38;5;241m=\u001B[39m\u001B[38;5;124m'\u001B[39m\u001B[38;5;124mmse\u001B[39m\u001B[38;5;124m'\u001B[39m, metrics\u001B[38;5;241m=\u001B[39m[\u001B[38;5;124m'\u001B[39m\u001B[38;5;124mmse\u001B[39m\u001B[38;5;124m'\u001B[39m])\n\u001B[1;32m---> 10\u001B[0m linear_model\u001B[38;5;241m.\u001B[39mfit(X, y, epochs\u001B[38;5;241m=\u001B[39m\u001B[38;5;241m300\u001B[39m)\n",
      "File \u001B[1;32m~\\anaconda3\\Lib\\site-packages\\keras\\src\\utils\\traceback_utils.py:70\u001B[0m, in \u001B[0;36mfilter_traceback.<locals>.error_handler\u001B[1;34m(*args, **kwargs)\u001B[0m\n\u001B[0;32m     67\u001B[0m     filtered_tb \u001B[38;5;241m=\u001B[39m _process_traceback_frames(e\u001B[38;5;241m.\u001B[39m__traceback__)\n\u001B[0;32m     68\u001B[0m     \u001B[38;5;66;03m# To get the full stack trace, call:\u001B[39;00m\n\u001B[0;32m     69\u001B[0m     \u001B[38;5;66;03m# `tf.debugging.disable_traceback_filtering()`\u001B[39;00m\n\u001B[1;32m---> 70\u001B[0m     \u001B[38;5;28;01mraise\u001B[39;00m e\u001B[38;5;241m.\u001B[39mwith_traceback(filtered_tb) \u001B[38;5;28;01mfrom\u001B[39;00m \u001B[38;5;28;01mNone\u001B[39;00m\n\u001B[0;32m     71\u001B[0m \u001B[38;5;28;01mfinally\u001B[39;00m:\n\u001B[0;32m     72\u001B[0m     \u001B[38;5;28;01mdel\u001B[39;00m filtered_tb\n",
      "File \u001B[1;32m~\\AppData\\Local\\Temp\\__autograph_generated_file0h77otxe.py:15\u001B[0m, in \u001B[0;36mouter_factory.<locals>.inner_factory.<locals>.tf__train_function\u001B[1;34m(iterator)\u001B[0m\n\u001B[0;32m     13\u001B[0m \u001B[38;5;28;01mtry\u001B[39;00m:\n\u001B[0;32m     14\u001B[0m     do_return \u001B[38;5;241m=\u001B[39m \u001B[38;5;28;01mTrue\u001B[39;00m\n\u001B[1;32m---> 15\u001B[0m     retval_ \u001B[38;5;241m=\u001B[39m ag__\u001B[38;5;241m.\u001B[39mconverted_call(ag__\u001B[38;5;241m.\u001B[39mld(step_function), (ag__\u001B[38;5;241m.\u001B[39mld(\u001B[38;5;28mself\u001B[39m), ag__\u001B[38;5;241m.\u001B[39mld(iterator)), \u001B[38;5;28;01mNone\u001B[39;00m, fscope)\n\u001B[0;32m     16\u001B[0m \u001B[38;5;28;01mexcept\u001B[39;00m:\n\u001B[0;32m     17\u001B[0m     do_return \u001B[38;5;241m=\u001B[39m \u001B[38;5;28;01mFalse\u001B[39;00m\n",
      "\u001B[1;31mValueError\u001B[0m: in user code:\n\n    File \"C:\\Users\\ISY\\anaconda3\\Lib\\site-packages\\keras\\src\\engine\\training.py\", line 1401, in train_function  *\n        return step_function(self, iterator)\n    File \"C:\\Users\\ISY\\anaconda3\\Lib\\site-packages\\keras\\src\\engine\\training.py\", line 1384, in step_function  **\n        outputs = model.distribute_strategy.run(run_step, args=(data,))\n    File \"C:\\Users\\ISY\\anaconda3\\Lib\\site-packages\\keras\\src\\engine\\training.py\", line 1373, in run_step  **\n        outputs = model.train_step(data)\n    File \"C:\\Users\\ISY\\anaconda3\\Lib\\site-packages\\keras\\src\\engine\\training.py\", line 1150, in train_step\n        y_pred = self(x, training=True)\n    File \"C:\\Users\\ISY\\anaconda3\\Lib\\site-packages\\keras\\src\\utils\\traceback_utils.py\", line 70, in error_handler\n        raise e.with_traceback(filtered_tb) from None\n    File \"C:\\Users\\ISY\\anaconda3\\Lib\\site-packages\\keras\\src\\engine\\input_spec.py\", line 280, in assert_input_compatibility\n        raise ValueError(\n\n    ValueError: Exception encountered when calling layer 'model_11' (type Functional).\n    \n    Input 0 of layer \"dense_31\" is incompatible with the layer: expected axis -1 of input shape to have value 1, but received input with shape (None, 9)\n    \n    Call arguments received by layer 'model_11' (type Functional):\n      • inputs=tf.Tensor(shape=(None, 9), dtype=int32)\n      • training=True\n      • mask=None\n"
     ]
    }
   ],
   "source": [
    "# 선형 회귀 구현 코드의 일부 발췌\n",
    "\n",
    "inputs = Input(shape=(1,)) # <-- 해당 부분\n",
    "output = Dense(1, activation='linear')(inputs)\n",
    "linear_model = Model(inputs, output)\n",
    "\n",
    "sgd = optimizers.SGD(learning_rate=0.01)\n",
    "\n",
    "linear_model.compile(optimizer=sgd, loss='mse', metrics=['mse'])\n",
    "linear_model.fit(X, y, epochs=300)"
   ],
   "metadata": {
    "collapsed": false,
    "ExecuteTime": {
     "end_time": "2024-02-08T05:08:24.762880500Z",
     "start_time": "2024-02-08T05:08:24.596408100Z"
    }
   },
   "id": "8184f770eab33124",
   "execution_count": 35
  },
  {
   "cell_type": "markdown",
   "source": [
    "#### 3) Subclassing API\n",
    "\n",
    "- 장점 : Functional API로도 구현할 수 없는 모델들조차 구현이 가능합니다.\n",
    "- 단점 : 객체 지향 프로그래밍(Object-oriented programming)에 익숙해야 하므로 코드 사용이 가장 까다롭습니다."
   ],
   "metadata": {
    "collapsed": false
   },
   "id": "1cb8f42d96b18a0d"
  },
  {
   "cell_type": "markdown",
   "source": [
    "## 07-11 다층 퍼셉트론(MultiLayer Perceptron, MLP)으로 텍스트 분류하기\n",
    "***\n",
    "\n",
    "다층 퍼셉트론(Multilayer Perceptron, MLP)으로 텍스트 분류를 수행합니다."
   ],
   "metadata": {
    "collapsed": false
   },
   "id": "db04ad6c20e33a8e"
  },
  {
   "cell_type": "markdown",
   "source": [
    "### 1. 다층 퍼셉트론(MultiLayer Perceptron, MLP)\n",
    "***\n",
    "\n",
    "앞서 단층 퍼셉트론의 형태에서 은닉층이 1개 이상 추가된 신경망을 다층 퍼셉트론(MLP)이라고 한다고 배웠습니다.\n",
    "다층 퍼셉트론은 피드 포워드 신경망(Feed Forward Neural Network, FFNN)의 가장 기본적인 형태입니다.\n",
    "피드 포워드 신경망은 입력층에서 출력층으로 오직 한 방향으로만 연산 방향이 정해져 있는 신경망을 말합니다.\n",
    "\n",
    "뒤에서는 순환 신경망(RNN)과 분산 표현(distributed representation)이라는 새로운 개념들을 사용하여 각종 자연어 처리 실습을 하게 될텐데,\n",
    "이번 실습의 목적은 위 두 가지 개념없이 지금까지 배운 개념만으로도 자연어 처리를 할 수 있다는 것을 보여주기 위함입니다."
   ],
   "metadata": {
    "collapsed": false
   },
   "id": "87cc77d609ac3290"
  },
  {
   "cell_type": "markdown",
   "source": [
    "### 2. 케라스의 texts_to_matrix() 이해하기\n",
    "***\n",
    "\n",
    "MLP로 텍스트 분류를 수행하기 전에 이번에 사용할 도구인 케라스 Tokenizer의 texts_to_matrix()를 이해해봅시다."
   ],
   "metadata": {
    "collapsed": false
   },
   "id": "f4837b1de6a0f402"
  },
  {
   "cell_type": "code",
   "outputs": [
    {
     "name": "stdout",
     "output_type": "stream",
     "text": [
      "{'바나나': 1, '먹고': 2, '싶은': 3, '사과': 4, '길고': 5, '노란': 6, '저는': 7, '과일이': 8, '좋아요': 9}\n"
     ]
    }
   ],
   "source": [
    "import numpy as np\n",
    "from tensorflow.keras.preprocessing.text import Tokenizer\n",
    "\n",
    "# 우선 케라스의 전처리 도구인 Tokenizer를 임포트합니다.\n",
    "\n",
    "texts = ['먹고 싶은 사과', '먹고 싶은 바나나', '길고 노란 바나나 바나나', '저는 과일이 좋아요']\n",
    "\n",
    "# 위 텍스트 데이터에 대해서 정수 인코딩을 수행합니다.\n",
    "\n",
    "tokenizer = Tokenizer()\n",
    "tokenizer.fit_on_texts(texts)\n",
    "print(tokenizer.word_index)"
   ],
   "metadata": {
    "collapsed": false,
    "ExecuteTime": {
     "end_time": "2024-02-08T05:14:36.679096400Z",
     "start_time": "2024-02-08T05:14:36.628686800Z"
    }
   },
   "id": "9933d046a2f0dde7",
   "execution_count": 36
  },
  {
   "cell_type": "markdown",
   "source": [
    "각 단어에 숫자 1부터 시작하는 정수 인덱스가 부여되었습니다. 텍스트 데이터에 texts_to_matrix()를 사용해보겠습니다.\n",
    "texts_to_matrix()란 이름에서 알 수 있지만, 이 도구는 입력된 텍스트 데이터로부터 행렬(matrix)를 만드는 도구입니다.\n",
    "texts_to_matrx()는 총 4개의 모드를 지원하는데 각 모드는 'binary', 'count', 'freq', 'tfidf'로 총 4개입니다. 우선 'count' 모드를 사용해봅시다."
   ],
   "metadata": {
    "collapsed": false
   },
   "id": "16e9e9374b0c2c28"
  },
  {
   "cell_type": "code",
   "outputs": [
    {
     "name": "stdout",
     "output_type": "stream",
     "text": [
      "[[0. 0. 1. 1. 1. 0. 0. 0. 0. 0.]\n",
      " [0. 1. 1. 1. 0. 0. 0. 0. 0. 0.]\n",
      " [0. 2. 0. 0. 0. 1. 1. 0. 0. 0.]\n",
      " [0. 0. 0. 0. 0. 0. 0. 1. 1. 1.]]\n"
     ]
    }
   ],
   "source": [
    "print(tokenizer.texts_to_matrix(texts, mode = 'count')) # texts_to_matrix의 입력으로 texts를 넣고, 모드는 'count'"
   ],
   "metadata": {
    "collapsed": false,
    "ExecuteTime": {
     "end_time": "2024-02-08T05:15:17.844355300Z",
     "start_time": "2024-02-08T05:15:17.810701100Z"
    }
   },
   "id": "e5d53b76ae86351",
   "execution_count": 37
  },
  {
   "cell_type": "markdown",
   "source": [
    "위의 경우는 총 4개의 모드 중에서 'count' 모드를 사용했을 경우입니다. \n",
    "'count'를 사용하면 우리가 앞서 배운 문서 단어 행렬(Document-Term Matrix, DTM)을 생성합니다. \n",
    "DTM에서의 인덱스는 앞서 확인한 word_index의 결과입니다.\n",
    "\n",
    "다만 주의할 점은 각 단어에 부여되는 인덱스는 1부터 시작하는 반면에 완성되는 행렬의 인덱스는 0부터 시작합니다. \n",
    "실제로 단어의 개수는 9개였지만 완성된 행렬의 열의 개수는 10개인 것과 첫번째 열은 모든 행에서 값이 0인 것을 볼 수 있습니다. \n",
    "인덱스 0에는 그 어떤 단어도 할당되지 않았기 때문입니다.\n",
    "\n",
    "우선, 네번째 행을 보겠습니다. 네번째 행은 테스트 데이터에서 네번째 문장을 의미합니다. \n",
    "네번째 행은 8번째 열, 9번째 열, 10번째 열에서 1의 값을 가집니다. 이는 7번 단어, 8번 단어, 9번 단어가 네번째 문장에서 1개씩 존재함을 의미합니다. \n",
    "위에서 정수 인코딩 된 결과를 보면 7번 단어는 '저는', 8번 단어는 '과일이', 9번 단어는 '좋아요'입니다. \n",
    "세번째 행의 첫번째 열의 값은 2인데, 이는 세번째 문장에서 1번 인덱스를 가진 바나나가 두 번 등장했기 때문입니다.\n",
    "\n",
    "앞서 배웠듯이 DTM은 bag of words를 기반으로 하므로 단어 순서 정보는 보존되지 않습니다. \n",
    "사실 더 구체적으로는 4개의 모든 모드에서 단어 순서 정보는 보존되지 않습니다. 'binary' 모드를 보겠습니다."
   ],
   "metadata": {
    "collapsed": false
   },
   "id": "15ed7e4c1ec74328"
  },
  {
   "cell_type": "code",
   "outputs": [
    {
     "name": "stdout",
     "output_type": "stream",
     "text": [
      "[[0. 0. 1. 1. 1. 0. 0. 0. 0. 0.]\n",
      " [0. 1. 1. 1. 0. 0. 0. 0. 0. 0.]\n",
      " [0. 1. 0. 0. 0. 1. 1. 0. 0. 0.]\n",
      " [0. 0. 0. 0. 0. 0. 0. 1. 1. 1.]]\n"
     ]
    }
   ],
   "source": [
    "print(tokenizer.texts_to_matrix(texts, mode = 'binary'))"
   ],
   "metadata": {
    "collapsed": false,
    "ExecuteTime": {
     "end_time": "2024-02-08T05:20:51.895121Z",
     "start_time": "2024-02-08T05:20:51.859959100Z"
    }
   },
   "id": "3ef8c1d9a54ac4d4",
   "execution_count": 38
  },
  {
   "cell_type": "markdown",
   "source": [
    "DTM과 결과가 매우 유사해보입니다. 다만 세번째 행, 두번째 열의 값이 DTM에서는 2였는데 여기서는 1로 바뀌었습니다.\n",
    "그 이유는 'binary' 모드는 해당 단어가 존재하는지만 관심을 가지고 해당 단어가 몇 개였는지는 무시하기 때문입니다.\n",
    "해당 단어가 존재하면 1, 단어가 존재하지 않으면 0의 값을 가집니다. 즉, 단어의 존재 유무로만 행렬을 표현합니다. 'tfidf' 모드를 보겠습니다."
   ],
   "metadata": {
    "collapsed": false
   },
   "id": "c036b5abdc333809"
  },
  {
   "cell_type": "code",
   "outputs": [
    {
     "name": "stdout",
     "output_type": "stream",
     "text": [
      "[[0.   0.   0.85 0.85 1.1  0.   0.   0.   0.   0.  ]\n",
      " [0.   0.85 0.85 0.85 0.   0.   0.   0.   0.   0.  ]\n",
      " [0.   1.43 0.   0.   0.   1.1  1.1  0.   0.   0.  ]\n",
      " [0.   0.   0.   0.   0.   0.   0.   1.1  1.1  1.1 ]]\n"
     ]
    }
   ],
   "source": [
    "print(tokenizer.texts_to_matrix(texts, mode = 'tfidf').round(2)) # 둘째 자리까지 반올림하여 출력"
   ],
   "metadata": {
    "collapsed": false,
    "ExecuteTime": {
     "end_time": "2024-02-08T05:21:12.339276Z",
     "start_time": "2024-02-08T05:21:12.296884600Z"
    }
   },
   "id": "3843448ca4e6c032",
   "execution_count": 39
  },
  {
   "cell_type": "markdown",
   "source": [
    "'tfidf' 모드는 말 그대로 TF-IDF 행렬을 만듭니다. 다만, TF-IDF 실습에서 배운 기본식이나 사이킷런의 TfidfVectorizer에서 사용하는 식이랑 또 조금 다릅니다.\n",
    "앞서 배운 기본식에서 TF는 각 문서에서의 각 단어의 빈도였다면 'tfidf' 모드에서는 TF를 각 문서에서의 각 단어의 빈도에 자연 로그를 씌우고 1을 더한 값으로 정의했습니다.\n",
    "idf에서는 앞서 배운 기본식에서 로그는 자연 로그를 사용하고, 로그 안의 분수에 1을 추가로 더했습니다.\n",
    "물론, 이러한 식을 굳이 기억할 필요는 없고 여전히 TF-IDF의 기존 의도를 갖고 있다고 이해하면 됩니다."
   ],
   "metadata": {
    "collapsed": false
   },
   "id": "b794f1d15cdba9b3"
  },
  {
   "cell_type": "code",
   "outputs": [
    {
     "name": "stdout",
     "output_type": "stream",
     "text": [
      "[[0.   0.   0.33 0.33 0.33 0.   0.   0.   0.   0.  ]\n",
      " [0.   0.33 0.33 0.33 0.   0.   0.   0.   0.   0.  ]\n",
      " [0.   0.5  0.   0.   0.   0.25 0.25 0.   0.   0.  ]\n",
      " [0.   0.   0.   0.   0.   0.   0.   0.33 0.33 0.33]]\n"
     ]
    }
   ],
   "source": [
    "print(tokenizer.texts_to_matrix(texts, mode = 'freq').round(2)) # 둘째 자리까지 반올림하여 출력"
   ],
   "metadata": {
    "collapsed": false,
    "ExecuteTime": {
     "end_time": "2024-02-08T05:23:40.883786900Z",
     "start_time": "2024-02-08T05:23:40.834062200Z"
    }
   },
   "id": "ffd7b869482d7d13",
   "execution_count": 40
  },
  {
   "cell_type": "markdown",
   "source": [
    "마지막으로 'freq' 모드입니다. 'freq' 모드는 각 문서에서의 각 단어의 등장 횟수를 분자로, 각 문서의 크기(각 문서에서 등장한 모든 단어의 개수의 총 합)를 분모로 하는 표현 방법입니다.\n",
    "예를 들어 세번째 행을 보겠습니다. 세번째 문장은 '길고 노란 바나나 바나나' 였습니다. 문서의 크기는 4인데, 바나나는 총 2회 등장했습니다.\n",
    "이에 따라서 세번째 문장에서의 단어 '바나나'의 값은 위의 행렬에서 0.5가 됩니다. 반면에 '길고', '노란'이라는 두 단어는 각 1회 등장했으므로 각자 1/4의 값인 0.25의 값을 가집니다."
   ],
   "metadata": {
    "collapsed": false
   },
   "id": "904632c9596c70f"
  },
  {
   "cell_type": "markdown",
   "source": [
    "### 3. 20개 뉴스 그룹(Twenty Newsgroups) 데이터에 대한 이해\n",
    "***"
   ],
   "metadata": {
    "collapsed": false
   },
   "id": "a4b1db592c5a8a0a"
  },
  {
   "cell_type": "code",
   "outputs": [],
   "source": [
    "import pandas as pd\n",
    "from sklearn.datasets import fetch_20newsgroups\n",
    "import matplotlib.pyplot as plt\n",
    "from tensorflow.keras.preprocessing.text import Tokenizer\n",
    "from tensorflow.keras.utils import to_categorical\n",
    "\n",
    "# 사이킷런에서는 20개의 다른 주제를 가진 18,846개의 뉴스 그룹 이메일 데이터를 제공합니다.\n",
    "\n",
    "newsdata = fetch_20newsgroups(subset = 'train') # 'train'을 기재하면 훈련 데이터만 리턴한다."
   ],
   "metadata": {
    "collapsed": false,
    "ExecuteTime": {
     "end_time": "2024-02-08T05:26:46.140083Z",
     "start_time": "2024-02-08T05:24:39.143162400Z"
    }
   },
   "id": "ffd71626caa89776",
   "execution_count": 42
  },
  {
   "cell_type": "markdown",
   "source": [
    "위의 subset의 값으로 'all'을 넣으면 전체 데이터인 18,846개의 샘플을 다운로드할 수 있으며,\n",
    "'train'을 넣으면 훈련 데이터를, 'test'를 넣으면 테스트 데이터를 다운로드할 수 있습니다. newsdata.keys()를 출력하면 해당 데이터의 속성을 확인할 수 있습니다."
   ],
   "metadata": {
    "collapsed": false
   },
   "id": "2c054839c9280d4d"
  },
  {
   "cell_type": "code",
   "outputs": [
    {
     "name": "stdout",
     "output_type": "stream",
     "text": [
      "dict_keys(['data', 'filenames', 'target_names', 'target', 'DESCR'])\n"
     ]
    }
   ],
   "source": [
    "print(newsdata.keys())"
   ],
   "metadata": {
    "collapsed": false,
    "ExecuteTime": {
     "end_time": "2024-02-08T05:26:46.152344700Z",
     "start_time": "2024-02-08T05:26:46.142078600Z"
    }
   },
   "id": "95487c3e0a537d85",
   "execution_count": 43
  },
  {
   "cell_type": "markdown",
   "source": [
    "해당 데이터는 data, filenames, target_names, target, DESCR, description이라는 6개 속성을 갖고 있습니다.\n",
    "이 중 실제로 훈련에 사용할 속성은 이메일 본문인 data와 메일이 어떤 주제인지 기재된 숫자 레이블인 target입니다. 우선 훈련용 샘플의 개수를 보겠습니다."
   ],
   "metadata": {
    "collapsed": false
   },
   "id": "f5b46fb0d8cad2b5"
  },
  {
   "cell_type": "code",
   "outputs": [
    {
     "name": "stdout",
     "output_type": "stream",
     "text": [
      "훈련용 샘플의 개수 : 11314\n"
     ]
    }
   ],
   "source": [
    "print('훈련용 샘플의 개수 : {}'.format(len(newsdata.data)))"
   ],
   "metadata": {
    "collapsed": false,
    "ExecuteTime": {
     "end_time": "2024-02-08T05:26:46.164847700Z",
     "start_time": "2024-02-08T05:26:46.145366800Z"
    }
   },
   "id": "ff5f13fabe5734cc",
   "execution_count": 44
  },
  {
   "cell_type": "markdown",
   "source": [
    "훈련 샘플은 11,314개가 존재합니다. target_names에는 20개의 주제의 이름을 담고있습니다. 어떤 주제가 있는지 확인해보겠습니다."
   ],
   "metadata": {
    "collapsed": false
   },
   "id": "5acaca87a806afa4"
  },
  {
   "cell_type": "code",
   "outputs": [
    {
     "name": "stdout",
     "output_type": "stream",
     "text": [
      "총 주제의 개수 : 20\n",
      "['alt.atheism', 'comp.graphics', 'comp.os.ms-windows.misc', 'comp.sys.ibm.pc.hardware', 'comp.sys.mac.hardware', 'comp.windows.x', 'misc.forsale', 'rec.autos', 'rec.motorcycles', 'rec.sport.baseball', 'rec.sport.hockey', 'sci.crypt', 'sci.electronics', 'sci.med', 'sci.space', 'soc.religion.christian', 'talk.politics.guns', 'talk.politics.mideast', 'talk.politics.misc', 'talk.religion.misc']\n"
     ]
    }
   ],
   "source": [
    "print('총 주제의 개수 : {}'.format(len(newsdata.target_names)))\n",
    "print(newsdata.target_names)"
   ],
   "metadata": {
    "collapsed": false,
    "ExecuteTime": {
     "end_time": "2024-02-08T05:26:46.184765300Z",
     "start_time": "2024-02-08T05:26:46.151292800Z"
    }
   },
   "id": "c07f2df42fe19aae",
   "execution_count": 45
  },
  {
   "cell_type": "markdown",
   "source": [
    "이번 실습의 목적은 테스트 데이터에서 이메일 본문을 보고 20개의 주제 중 어떤 주제인지를 맞추는 것입니다.\n",
    "레이블인 target에는 총 0부터 19까지의 숫자가 들어가있는데 첫번째 샘플의 경우에는 몇 번 주제인지 확인해보겠습니다."
   ],
   "metadata": {
    "collapsed": false
   },
   "id": "4bb66dd2f207acfd"
  },
  {
   "cell_type": "code",
   "outputs": [
    {
     "name": "stdout",
     "output_type": "stream",
     "text": [
      "첫번째 샘플의 레이블 : 7\n"
     ]
    }
   ],
   "source": [
    "print('첫번째 샘플의 레이블 : {}'.format(newsdata.target[0]))"
   ],
   "metadata": {
    "collapsed": false,
    "ExecuteTime": {
     "end_time": "2024-02-08T05:30:54.093327500Z",
     "start_time": "2024-02-08T05:30:54.044796500Z"
    }
   },
   "id": "978d662f1ff7e349",
   "execution_count": 46
  },
  {
   "cell_type": "markdown",
   "source": [
    "첫번째 샘플의 레이블의 값은 7입니다. 숫자만으로는 앞서 target_names를 통해 확인한 20개의 주제 중에서 어떤 주제를 의미하는지 알 수가 없습니다.\n",
    "7이 실제로 어떤 주제를 나타내는지는 target_names[] 안에 숫자를 입력하여 알 수 있습니다."
   ],
   "metadata": {
    "collapsed": false
   },
   "id": "9815011ff837158c"
  },
  {
   "cell_type": "code",
   "outputs": [
    {
     "name": "stdout",
     "output_type": "stream",
     "text": [
      "7번 레이블이 의미하는 주제 : rec.autos\n"
     ]
    }
   ],
   "source": [
    "print('7번 레이블이 의미하는 주제 : {}'.format(newsdata.target_names[7]))"
   ],
   "metadata": {
    "collapsed": false,
    "ExecuteTime": {
     "end_time": "2024-02-08T05:33:50.344852100Z",
     "start_time": "2024-02-08T05:33:50.299438100Z"
    }
   },
   "id": "ef9540282ca96310",
   "execution_count": 47
  },
  {
   "cell_type": "markdown",
   "source": [
    "7번 레이블은 rec.autos라는 주제입니다. 즉, 첫번째 샘플의 주제는 rec.autos입니다. 첫번째 샘플의 본문 내용을 확인해봅시다."
   ],
   "metadata": {
    "collapsed": false
   },
   "id": "cbbd3c6f959fe46d"
  },
  {
   "cell_type": "code",
   "outputs": [
    {
     "name": "stdout",
     "output_type": "stream",
     "text": [
      "From: lerxst@wam.umd.edu (where's my thing)\n",
      "Subject: WHAT car is this!?\n",
      "Nntp-Posting-Host: rac3.wam.umd.edu\n",
      "Organization: University of Maryland, College Park\n",
      "Lines: 15\n",
      "\n",
      " I was wondering if anyone out there could enlighten me on this car I saw\n",
      "the other day. It was a 2-door sports car, looked to be from the late 60s/\n",
      "early 70s. It was called a Bricklin. The doors were really small. In addition,\n",
      "the front bumper was separate from the rest of the body. This is \n",
      "all I know. If anyone can tellme a model name, engine specs, years\n",
      "of production, where this car is made, history, or whatever info you\n",
      "have on this funky looking car, please e-mail.\n",
      "\n",
      "Thanks,\n",
      "- IL\n",
      "   ---- brought to you by your neighborhood Lerxst ----\n"
     ]
    }
   ],
   "source": [
    "print(newsdata.data[0]) # 첫번째 샘플 출력"
   ],
   "metadata": {
    "collapsed": false,
    "ExecuteTime": {
     "end_time": "2024-02-08T05:34:03.319990800Z",
     "start_time": "2024-02-08T05:34:03.269488900Z"
    }
   },
   "id": "645ff9ed77fad754",
   "execution_count": 48
  },
  {
   "cell_type": "markdown",
   "source": [
    "이메일의 내용을 보니 스포츠 카에 대한 글로 보입니다. 이 글의 레이블은 7이고, 7번 레이블은 rec.autos란 주제를 의미합니다.\n",
    "훈련에 사용될 메일 본문인 data와 레이블인 target을 데이터프레임으로 만들어서 데이터에 대한 통계적인 정보들을 알아보겠습니다.\n",
    "\n",
    "data로부터 데이터프레임을 생성하고, target 열을 추가한 뒤에 상위 5개의 행을 출력합니다."
   ],
   "metadata": {
    "collapsed": false
   },
   "id": "a3b8bff45441e732"
  },
  {
   "cell_type": "code",
   "outputs": [
    {
     "data": {
      "text/plain": "                                               email  target\n0  From: lerxst@wam.umd.edu (where's my thing)\\nS...       7\n1  From: guykuo@carson.u.washington.edu (Guy Kuo)...       4\n2  From: twillis@ec.ecn.purdue.edu (Thomas E Will...       4\n3  From: jgreen@amber (Joe Green)\\nSubject: Re: W...       1\n4  From: jcm@head-cfa.harvard.edu (Jonathan McDow...      14",
      "text/html": "<div>\n<style scoped>\n    .dataframe tbody tr th:only-of-type {\n        vertical-align: middle;\n    }\n\n    .dataframe tbody tr th {\n        vertical-align: top;\n    }\n\n    .dataframe thead th {\n        text-align: right;\n    }\n</style>\n<table border=\"1\" class=\"dataframe\">\n  <thead>\n    <tr style=\"text-align: right;\">\n      <th></th>\n      <th>email</th>\n      <th>target</th>\n    </tr>\n  </thead>\n  <tbody>\n    <tr>\n      <th>0</th>\n      <td>From: lerxst@wam.umd.edu (where's my thing)\\nS...</td>\n      <td>7</td>\n    </tr>\n    <tr>\n      <th>1</th>\n      <td>From: guykuo@carson.u.washington.edu (Guy Kuo)...</td>\n      <td>4</td>\n    </tr>\n    <tr>\n      <th>2</th>\n      <td>From: twillis@ec.ecn.purdue.edu (Thomas E Will...</td>\n      <td>4</td>\n    </tr>\n    <tr>\n      <th>3</th>\n      <td>From: jgreen@amber (Joe Green)\\nSubject: Re: W...</td>\n      <td>1</td>\n    </tr>\n    <tr>\n      <th>4</th>\n      <td>From: jcm@head-cfa.harvard.edu (Jonathan McDow...</td>\n      <td>14</td>\n    </tr>\n  </tbody>\n</table>\n</div>"
     },
     "execution_count": 49,
     "metadata": {},
     "output_type": "execute_result"
    }
   ],
   "source": [
    "data = pd.DataFrame(newsdata.data, columns = ['email'])\n",
    "data['target'] = pd.Series(newsdata.target)\n",
    "data[:5]"
   ],
   "metadata": {
    "collapsed": false,
    "ExecuteTime": {
     "end_time": "2024-02-08T05:34:29.712700800Z",
     "start_time": "2024-02-08T05:34:29.620918900Z"
    }
   },
   "id": "c5fde1b7ba5bd07f",
   "execution_count": 49
  },
  {
   "cell_type": "markdown",
   "source": [
    "메일 본문에 해당하는 email열과 레이블에 해당되는 target 열, 2개의 열로 구성된 데이터프레임이 생성된 것을 볼 수 있습니다."
   ],
   "metadata": {
    "collapsed": false
   },
   "id": "4c5ce7c217e1b165"
  },
  {
   "cell_type": "code",
   "outputs": [
    {
     "name": "stdout",
     "output_type": "stream",
     "text": [
      "<class 'pandas.core.frame.DataFrame'>\n",
      "RangeIndex: 11314 entries, 0 to 11313\n",
      "Data columns (total 2 columns):\n",
      " #   Column  Non-Null Count  Dtype \n",
      "---  ------  --------------  ----- \n",
      " 0   email   11314 non-null  object\n",
      " 1   target  11314 non-null  int32 \n",
      "dtypes: int32(1), object(1)\n",
      "memory usage: 132.7+ KB\n"
     ]
    }
   ],
   "source": [
    "data.info()"
   ],
   "metadata": {
    "collapsed": false,
    "ExecuteTime": {
     "end_time": "2024-02-08T05:34:47.001139Z",
     "start_time": "2024-02-08T05:34:46.905955500Z"
    }
   },
   "id": "febdebc86cf29cd0",
   "execution_count": 50
  },
  {
   "cell_type": "markdown",
   "source": [
    "news열은 문자열, target열은 정수형 데이터입니다. 혹시 Null 값을 가진 샘플이 있는지 isnull().values.any()로도 확인 가능합니다."
   ],
   "metadata": {
    "collapsed": false
   },
   "id": "a5eb3b8986c89ee8"
  },
  {
   "cell_type": "code",
   "outputs": [
    {
     "data": {
      "text/plain": "False"
     },
     "execution_count": 51,
     "metadata": {},
     "output_type": "execute_result"
    }
   ],
   "source": [
    "data.isnull().values.any()"
   ],
   "metadata": {
    "collapsed": false,
    "ExecuteTime": {
     "end_time": "2024-02-08T05:35:00.800406300Z",
     "start_time": "2024-02-08T05:35:00.748159400Z"
    }
   },
   "id": "b84d9191f2ce5605",
   "execution_count": 51
  },
  {
   "cell_type": "markdown",
   "source": [
    "False는 데이터에 별도의 Null 값은 없음을 의미합니다. nunique()를 통해 샘플 중 중복을 제거한 개수를 확인할 수 있습니다."
   ],
   "metadata": {
    "collapsed": false
   },
   "id": "e2869b8ada30048e"
  },
  {
   "cell_type": "code",
   "outputs": [
    {
     "name": "stdout",
     "output_type": "stream",
     "text": [
      "중복을 제외한 샘플의 수 : 11314\n",
      "중복을 제외한 주제의 수 : 20\n"
     ]
    }
   ],
   "source": [
    "print('중복을 제외한 샘플의 수 : {}'.format(data['email'].nunique()))\n",
    "print('중복을 제외한 주제의 수 : {}'.format(data['target'].nunique()))"
   ],
   "metadata": {
    "collapsed": false,
    "ExecuteTime": {
     "end_time": "2024-02-08T05:35:20.190571100Z",
     "start_time": "2024-02-08T05:35:20.101442300Z"
    }
   },
   "id": "d2b32e052fcafb22",
   "execution_count": 53
  },
  {
   "cell_type": "code",
   "outputs": [
    {
     "data": {
      "text/plain": "<Figure size 640x480 with 1 Axes>",
      "image/png": "[encoded data removed]"
     },
     "metadata": {},
     "output_type": "display_data"
    }
   ],
   "source": [
    "# 레이블 값의 분포를 시각화해보겠습니다.\n",
    "\n",
    "data['target'].value_counts().plot(kind='bar');"
   ],
   "metadata": {
    "collapsed": false,
    "ExecuteTime": {
     "end_time": "2024-02-08T05:35:33.512402600Z",
     "start_time": "2024-02-08T05:35:33.224498Z"
    }
   },
   "id": "b2570ae7f71aa5b6",
   "execution_count": 54
  },
  {
   "cell_type": "markdown",
   "source": [
    "10번 레이블의 수가 가장 많고, 19번 레이블의 수가 가장 적으며 대체적으로 400 ~ 600개 사이의 분포를 보입니다.\n",
    "이번에는 각 레이블이 몇 개 있는지 구체적인 수치로 확인해보겠습니다."
   ],
   "metadata": {
    "collapsed": false
   },
   "id": "a6333a8c652fdb7d"
  },
  {
   "cell_type": "code",
   "outputs": [
    {
     "name": "stdout",
     "output_type": "stream",
     "text": [
      "    target  count\n",
      "0        0    480\n",
      "1        1    584\n",
      "2        2    591\n",
      "3        3    590\n",
      "4        4    578\n",
      "5        5    593\n",
      "6        6    585\n",
      "7        7    594\n",
      "8        8    598\n",
      "9        9    597\n",
      "10      10    600\n",
      "11      11    595\n",
      "12      12    591\n",
      "13      13    594\n",
      "14      14    593\n",
      "15      15    599\n",
      "16      16    546\n",
      "17      17    564\n",
      "18      18    465\n",
      "19      19    377\n"
     ]
    }
   ],
   "source": [
    "print(data.groupby('target').size().reset_index(name='count'))"
   ],
   "metadata": {
    "collapsed": false,
    "ExecuteTime": {
     "end_time": "2024-02-08T05:36:12.061170700Z",
     "start_time": "2024-02-08T05:36:11.998462800Z"
    }
   },
   "id": "c2d577a3dbcffcf4",
   "execution_count": 55
  },
  {
   "cell_type": "markdown",
   "source": [
    "데이터프레임으로부터 다시 메일 본문과 레이블을 분리하고, 테스트 데이터 또한 불러오겠습니다.\n",
    "subset에 'test'를 기재하면 테스트 데이터를 불러옵니다. 훈련 데이터와 테스트 데이터의 본문과 레이블을 각각 저장합니다."
   ],
   "metadata": {
    "collapsed": false
   },
   "id": "a925a3545363defd"
  },
  {
   "cell_type": "code",
   "outputs": [],
   "source": [
    "newsdata_test = fetch_20newsgroups(subset='test', shuffle=True)\n",
    "train_email = data['email']\n",
    "train_label = data['target']\n",
    "test_email = newsdata_test.data\n",
    "test_label = newsdata_test.target"
   ],
   "metadata": {
    "collapsed": false,
    "ExecuteTime": {
     "end_time": "2024-02-08T05:36:28.591947800Z",
     "start_time": "2024-02-08T05:36:28.408014900Z"
    }
   },
   "id": "bf2a8488bb322e22",
   "execution_count": 56
  },
  {
   "cell_type": "markdown",
   "source": [
    "훈련 데이터와 테스트 데이터가 모두 준비되었습니다. 케라스의 토크나이저 도구를 사용하여 전처리를 진행해봅시다."
   ],
   "metadata": {
    "collapsed": false
   },
   "id": "f046771e16b5d61e"
  },
  {
   "cell_type": "code",
   "outputs": [],
   "source": [
    "vocab_size = 10000\n",
    "num_classes = 20"
   ],
   "metadata": {
    "collapsed": false,
    "ExecuteTime": {
     "end_time": "2024-02-08T05:36:47.185716500Z",
     "start_time": "2024-02-08T05:36:47.133251700Z"
    }
   },
   "id": "7ba5aeede6859c6e",
   "execution_count": 57
  },
  {
   "cell_type": "markdown",
   "source": [
    "우선 필요한 변수들을 정의합니다. vocab_size는 이번 실습에서 사용할 최대 단어 개수를 정의하는 변수입니다.\n",
    "뒤에서 케라스 토크나이저를 사용하면 빈도수 순으로 인덱스를 부여하므로, 빈도수가 가장 높은 상위 vocab_size 개수만큼의 단어를 사용합니다."
   ],
   "metadata": {
    "collapsed": false
   },
   "id": "a98fd31a44728449"
  },
  {
   "cell_type": "code",
   "outputs": [],
   "source": [
    "def prepare_data(train_data, test_data, mode): # 전처리 함수\n",
    "    tokenizer = Tokenizer(num_words = vocab_size) # vocab_size 개수만큼의 단어만 사용한다.\n",
    "    tokenizer.fit_on_texts(train_data)\n",
    "    X_train = tokenizer.texts_to_matrix(train_data, mode=mode) # 샘플 수 × vocab_size 크기의 행렬 생성\n",
    "    X_test = tokenizer.texts_to_matrix(test_data, mode=mode) # 샘플 수 × vocab_size 크기의 행렬 생성\n",
    "    return X_train, X_test, tokenizer.index_word"
   ],
   "metadata": {
    "collapsed": false,
    "ExecuteTime": {
     "end_time": "2024-02-08T05:37:01.659094800Z",
     "start_time": "2024-02-08T05:37:01.602585100Z"
    }
   },
   "id": "a1870198e2b06f28",
   "execution_count": 58
  },
  {
   "cell_type": "markdown",
   "source": [
    "케라스 토크나이저로 전처리를 수행하는 함수인 prepare_data를 만들었습니다.\n",
    "해당 함수는 케라스 토크나이저를 통해 단어 토큰화를 수행하고,\n",
    "앞서 배운 texts_to_matrix()를 사용하여 훈련 데이터와 테스트 데이터를 'binary', 'count', 'tfidf', 'freq' 4개의 모드 중 사용자가 정한 모드로 변환합니다."
   ],
   "metadata": {
    "collapsed": false
   },
   "id": "53d00c95c17d5bba"
  },
  {
   "cell_type": "code",
   "outputs": [],
   "source": [
    "X_train, X_test, index_to_word = prepare_data(train_email, test_email, 'binary') # binary 모드로 변환\n",
    "y_train = to_categorical(train_label, num_classes) # 원-핫 인코딩\n",
    "y_test = to_categorical(test_label, num_classes) # 원-핫 인코딩"
   ],
   "metadata": {
    "collapsed": false,
    "ExecuteTime": {
     "end_time": "2024-02-08T05:37:30.357790Z",
     "start_time": "2024-02-08T05:37:23.810349500Z"
    }
   },
   "id": "637220d4280da868",
   "execution_count": 59
  },
  {
   "cell_type": "markdown",
   "source": [
    "메일 본문에 대해서는 'binary' 모드로 변환하고, 훈련 데이터와 테스트 데이터의 레이블은 원-핫 인코딩을 수행하였습니다."
   ],
   "metadata": {
    "collapsed": false
   },
   "id": "4767d28b17dc1e3b"
  },
  {
   "cell_type": "code",
   "outputs": [
    {
     "name": "stdout",
     "output_type": "stream",
     "text": [
      "훈련 샘플 본문의 크기 : (11314, 10000)\n",
      "훈련 샘플 레이블의 크기 : (11314, 20)\n",
      "테스트 샘플 본문의 크기 : (7532, 10000)\n",
      "테스트 샘플 레이블의 크기 : (7532, 20)\n"
     ]
    }
   ],
   "source": [
    "print('훈련 샘플 본문의 크기 : {}'.format(X_train.shape))\n",
    "print('훈련 샘플 레이블의 크기 : {}'.format(y_train.shape))\n",
    "print('테스트 샘플 본문의 크기 : {}'.format(X_test.shape))\n",
    "print('테스트 샘플 레이블의 크기 : {}'.format(y_test.shape))"
   ],
   "metadata": {
    "collapsed": false,
    "ExecuteTime": {
     "end_time": "2024-02-08T05:37:43.049947800Z",
     "start_time": "2024-02-08T05:37:42.990873400Z"
    }
   },
   "id": "baec8ba098b86dfa",
   "execution_count": 60
  },
  {
   "cell_type": "markdown",
   "source": [
    "훈련 데이터와 테스트 데이터 모두 메일 본문의 크기가 샘플의 수 × 10,000의 행렬로 변환되었는데,\n",
    "열의 개수가 10,000인 것은 위의 prepard_data 함수 내부에서 Tokenizer의 num_words의 인자로 vocab_size를 지정해주었기 때문입니다.\n",
    "사실 단어의 정수 인덱스는 1부터 시작하지만, 행렬의 인덱스는 0부터 시작하여 0번 인덱스는 사용되지 않으므로 실제로 행렬에는 빈도수 기준 상위 9,999개의 단어가 표현된 셈입니다.\n",
    "빈도수 상위 1번 단어와 9,999번 단어를 확인해보겠습니다."
   ],
   "metadata": {
    "collapsed": false
   },
   "id": "4d2f5c27f4695521"
  },
  {
   "cell_type": "code",
   "outputs": [
    {
     "name": "stdout",
     "output_type": "stream",
     "text": [
      "빈도수 상위 1번 단어 : the\n",
      "빈도수 상위 9999번 단어 : mic\n"
     ]
    }
   ],
   "source": [
    "print('빈도수 상위 1번 단어 : {}'.format(index_to_word[1]))\n",
    "print('빈도수 상위 9999번 단어 : {}'.format(index_to_word[9999]))"
   ],
   "metadata": {
    "collapsed": false,
    "ExecuteTime": {
     "end_time": "2024-02-08T05:38:26.864913100Z",
     "start_time": "2024-02-08T05:38:26.798010Z"
    }
   },
   "id": "dae4699d97c79962",
   "execution_count": 61
  },
  {
   "cell_type": "markdown",
   "source": [
    "불용어에 해당되는 단어 'the'가 빈도수 상위 1번 단어가 된 것을 확인할 수 있습니다."
   ],
   "metadata": {
    "collapsed": false
   },
   "id": "1e8c7d9e3a5a96e4"
  },
  {
   "cell_type": "markdown",
   "source": [
    "### 4. 다층 퍼셉트론(Multilayer Perceptron, MLP)을 사용하여 텍스트 분류하기\n",
    "***"
   ],
   "metadata": {
    "collapsed": false
   },
   "id": "a34e876479fb2cfb"
  },
  {
   "cell_type": "code",
   "outputs": [],
   "source": [
    "# 모델을 설계해보겠습니다. 우선 모델 설계에 필요한 도구들을 임포트합니다.\n",
    "\n",
    "from tensorflow.keras.models import Sequential\n",
    "from tensorflow.keras.layers import Dense, Dropout\n",
    "\n",
    "# 다층 퍼셉트론을 설계합니다.\n",
    "\n",
    "def fit_and_evaluate(X_train, y_train, X_test, y_test):\n",
    "    model = Sequential()\n",
    "    model.add(Dense(256, input_shape=(vocab_size,), activation='relu'))\n",
    "    model.add(Dropout(0.5))\n",
    "    model.add(Dense(128, activation='relu'))\n",
    "    model.add(Dropout(0.5))\n",
    "    model.add(Dense(num_classes, activation='softmax'))\n",
    "\n",
    "    model.compile(loss='categorical_crossentropy', optimizer='adam', metrics=['accuracy'])\n",
    "    model.fit(X_train, y_train, batch_size=128, epochs=5, verbose=1, validation_split=0.1)\n",
    "    score = model.evaluate(X_test, y_test, batch_size=128, verbose=0)\n",
    "    return score[1]"
   ],
   "metadata": {
    "collapsed": false,
    "ExecuteTime": {
     "end_time": "2024-02-08T05:40:22.680150800Z",
     "start_time": "2024-02-08T05:40:22.623199Z"
    }
   },
   "id": "ce4befeafe8d4fe7",
   "execution_count": 62
  },
  {
   "cell_type": "markdown",
   "source": [
    "모델 설계를 fit_and_evaluate라는 함수 내에 정의하였는데, 모델을 함수 내에 정의한 이유는 이번 실습에서는 입력값을 바꿔가면서 모델을 여러번 호출하기 위함입니다.\n",
    "우선은 모델의 아키텍처에 집중해보겠습니다.\n",
    "\n",
    "![그림](img_50.png)\n",
    "\n",
    "위의 그림은 현재 설계한 신경망의 구조를 보여줍니다. 현재 설계한 다층 퍼셉트론은 총 4개의 층을 가지고 있습니다.\n",
    "vocab_size의 크기를 가진 입력층, 256개의 뉴런을 가진 첫번째 은닉층, 128개의 뉴런을 가진 두번째 은닉층, num_classes의 크기를 가진 출력층입니다.\n",
    "또한 이번에 설계한 다층 퍼셉트론은 은닉층이 2개이므로 깊은 신경망(Deep Neural Network, DNN)입니다.\n",
    "\n",
    "코드로 돌아가보겠습니다. 위 모델에서는 과적합을 막기 위해서 두 번의 드롭아웃(Dropout)을 적용하였습니다.\n",
    "이 문제는 다중 클래스 분류 문제입니다. 여러 개의 선택지 중에서 하나의 선택지를 고르는 문제인데,\n",
    "이 경우 20개의 주제 중에서 모델은 자신이 정답이라고 생각하는 1개의 주제를 예측해야 합니다.\n",
    "다중 클래스 분류 문제이므로 출력층의 활성화 함수로는 소프트맥스 함수를 사용하고,\n",
    "손실 함수로는 크로스 엔트로피(categorical_crossentropy) 함수를 사용하였습니다.\n",
    "\n",
    "모델을 훈련시켜보겠습니다. 이번에는 앞서 배운 texts_to_matrix()의 4개의 모드에 대해서 전부 모델의 결과를 확인해보겠습니다."
   ],
   "metadata": {
    "collapsed": false
   },
   "id": "fc26273307c3919c"
  },
  {
   "cell_type": "code",
   "outputs": [
    {
     "name": "stdout",
     "output_type": "stream",
     "text": [
      "Epoch 1/5\n",
      "80/80 [==============================] - 3s 24ms/step - loss: 2.3033 - accuracy: 0.3312 - val_loss: 1.0197 - val_accuracy: 0.8092\n",
      "Epoch 2/5\n",
      "80/80 [==============================] - 2s 22ms/step - loss: 0.9127 - accuracy: 0.7494 - val_loss: 0.4813 - val_accuracy: 0.8790\n",
      "Epoch 3/5\n",
      "80/80 [==============================] - 2s 22ms/step - loss: 0.4524 - accuracy: 0.8787 - val_loss: 0.3448 - val_accuracy: 0.9028\n",
      "Epoch 4/5\n",
      "80/80 [==============================] - 2s 22ms/step - loss: 0.2717 - accuracy: 0.9265 - val_loss: 0.3146 - val_accuracy: 0.9125\n",
      "Epoch 5/5\n",
      "80/80 [==============================] - 2s 22ms/step - loss: 0.1828 - accuracy: 0.9539 - val_loss: 0.2991 - val_accuracy: 0.9099\n",
      "binary 모드의 테스트 정확도: 0.8293945789337158\n",
      "Epoch 1/5\n",
      "80/80 [==============================] - 2s 24ms/step - loss: 2.7404 - accuracy: 0.2431 - val_loss: 1.6136 - val_accuracy: 0.7297\n",
      "Epoch 2/5\n",
      "80/80 [==============================] - 2s 21ms/step - loss: 1.4639 - accuracy: 0.6309 - val_loss: 0.7469 - val_accuracy: 0.8313\n",
      "Epoch 3/5\n",
      "80/80 [==============================] - 2s 23ms/step - loss: 0.7817 - accuracy: 0.8055 - val_loss: 0.4819 - val_accuracy: 0.8852\n",
      "Epoch 4/5\n",
      "80/80 [==============================] - 2s 22ms/step - loss: 0.5071 - accuracy: 0.8733 - val_loss: 0.4122 - val_accuracy: 0.8949\n",
      "Epoch 5/5\n",
      "80/80 [==============================] - 2s 22ms/step - loss: 0.3678 - accuracy: 0.9149 - val_loss: 0.3923 - val_accuracy: 0.9011\n",
      "count 모드의 테스트 정확도: 0.8223579525947571\n",
      "Epoch 1/5\n",
      "80/80 [==============================] - 3s 24ms/step - loss: 2.2541 - accuracy: 0.3486 - val_loss: 0.7870 - val_accuracy: 0.8542\n",
      "Epoch 2/5\n",
      "80/80 [==============================] - 2s 22ms/step - loss: 0.8805 - accuracy: 0.7574 - val_loss: 0.4268 - val_accuracy: 0.8966\n",
      "Epoch 3/5\n",
      "80/80 [==============================] - 2s 21ms/step - loss: 0.4866 - accuracy: 0.8731 - val_loss: 0.3560 - val_accuracy: 0.9108\n",
      "Epoch 4/5\n",
      "80/80 [==============================] - 2s 21ms/step - loss: 0.2892 - accuracy: 0.9267 - val_loss: 0.3137 - val_accuracy: 0.9170\n",
      "Epoch 5/5\n",
      "80/80 [==============================] - 2s 21ms/step - loss: 0.2443 - accuracy: 0.9433 - val_loss: 0.3155 - val_accuracy: 0.9196\n",
      "tfidf 모드의 테스트 정확도: 0.8301911950111389\n",
      "Epoch 1/5\n",
      "80/80 [==============================] - 3s 24ms/step - loss: 2.9781 - accuracy: 0.0911 - val_loss: 2.9285 - val_accuracy: 0.1802\n",
      "Epoch 2/5\n",
      "80/80 [==============================] - 2s 22ms/step - loss: 2.7219 - accuracy: 0.1985 - val_loss: 2.3961 - val_accuracy: 0.3887\n",
      "Epoch 3/5\n",
      "80/80 [==============================] - 2s 22ms/step - loss: 2.1723 - accuracy: 0.3342 - val_loss: 1.8521 - val_accuracy: 0.5733\n",
      "Epoch 4/5\n",
      "80/80 [==============================] - 2s 22ms/step - loss: 1.7145 - accuracy: 0.4659 - val_loss: 1.4412 - val_accuracy: 0.6864\n",
      "Epoch 5/5\n",
      "80/80 [==============================] - 2s 22ms/step - loss: 1.3464 - accuracy: 0.5894 - val_loss: 1.1384 - val_accuracy: 0.7032\n",
      "freq 모드의 테스트 정확도: 0.6670207381248474\n"
     ]
    }
   ],
   "source": [
    "modes = ['binary', 'count', 'tfidf', 'freq'] # 4개의 모드를 리스트에 저장.\n",
    "\n",
    "for mode in modes: # 4개의 모드에 대해서 각각 아래의 작업을 반복한다.\n",
    "    X_train, X_test, _ = prepare_data(train_email, test_email, mode) # 모드에 따라서 데이터를 전처리\n",
    "    score = fit_and_evaluate(X_train, y_train, X_test, y_test) # 모델을 훈련하고 평가.\n",
    "    print(mode+' 모드의 테스트 정확도:', score)"
   ],
   "metadata": {
    "collapsed": false,
    "ExecuteTime": {
     "end_time": "2024-02-08T05:43:07.599316700Z",
     "start_time": "2024-02-08T05:41:49.741097600Z"
    }
   },
   "id": "b7d7a910607217b8",
   "execution_count": 64
  },
  {
   "cell_type": "markdown",
   "source": [
    "각 모드에 대해서 총 5회의 에포크를 수행하는데, 각 모드에 대한 정확도는 다음과 같이 나왔습니다.\n",
    "- binary 모드의 테스트 정확도: 0.8312533\n",
    "- count 모드의 테스트 정확도: 0.8239511\n",
    "- tfidf 모드의 테스트 정확도: 0.8381572\n",
    "- freq 모드의 테스트 정확도: 0.6902549"
   ],
   "metadata": {
    "collapsed": false
   },
   "id": "cf70c598d6bbea67"
  },
  {
   "cell_type": "markdown",
   "source": [
    "대체적으로 82% ~ 83%의 비슷한 정확도를 보이는데, 'freq' 모드에서만 정확도가 69%가 나왔습니다.\n",
    "아무래도 'freq' 모드는 이번 문제를 풀기위한 적절한 전처리 방법이 아니었던 것 같습니다."
   ],
   "metadata": {
    "collapsed": false
   },
   "id": "acdcb6c8c0ae31cb"
  },
  {
   "cell_type": "markdown",
   "source": [
    "## 07-12 피드 포워드 신경망 언어 모델(Neural Network Language Model, NNLM)\n",
    "***\n",
    "\n",
    "신경망 언어 모델의 시초인 피드 포워드 신경망 언어 모델(Feed Forward Neural Network Language Model)에 대해서 학습합니다.\n",
    "간단히 줄여 NNLM이라고 합시다. 뒤에서 RNNLM, BiLM 등 보다 발전된 신경망 언어 모델들을 배웁니다.\n",
    "\n",
    "```\n",
    "이 모델은 제안 되었을 당시 NPLM(Neural Probabilistic Language Model)이라는 이름을 갖고 있었습니다.\n",
    "```"
   ],
   "metadata": {
    "collapsed": false
   },
   "id": "e077d786249a0143"
  },
  {
   "cell_type": "markdown",
   "source": [
    "### 1. 기존 N-gram 언어 모델의 한계\n",
    "***\n",
    "\n",
    "언어 모델은 문장에 확률을 할당하는 모델이며, 주어진 문맥으로부터 아직 모르는 단어를 예측하는 것을 언어 모델링이라고 한다고 언급한 바 있습니다.\n",
    "다음은 이전 단어들로부터 다음 단어를 예측하는 언어 모델링(Language Modeling) 의 예를 보여줍니다."
   ],
   "metadata": {
    "collapsed": false
   },
   "id": "794966aed12bb2ef"
  },
  {
   "cell_type": "code",
   "outputs": [],
   "source": [
    "# 다음 단어 예측하기\n",
    "# An adorable little boy is spreading ____"
   ],
   "metadata": {
    "collapsed": false,
    "ExecuteTime": {
     "end_time": "2024-02-13T07:40:13.476669500Z",
     "start_time": "2024-02-13T07:40:13.447295300Z"
    }
   },
   "id": "9d72fa342beb32bb",
   "execution_count": 1
  },
  {
   "cell_type": "markdown",
   "source": [
    "위 문장을 가지고 앞서 배운 n-gram 언어 모델이 언어 모델링을 하는 방법을 복습해봅시다.\n",
    "\n",
    "![그림](img_51.png)\n",
    "\n",
    "n-gram 언어 모델은 언어 모델링에 바로 앞 n-1개의 단어를 참고합니다. 4-gram 언어 모델이라고 가정해봅시다.\n",
    "모델은 바로 앞 3개의 단어만 참고하며 더 앞의 단어들은 무시합니다. 위 예제에서 다음 단어 예측에 사용되는 단어는 boy, is, spreading입니다.\n",
    "\n",
    "![그림](img_52.png)\n"
   ],
   "metadata": {
    "collapsed": false
   },
   "id": "7cdba3afbb7bad80"
  },
  {
   "cell_type": "markdown",
   "source": [
    "### 2. 단어의 의미적 유사성\n",
    "***\n",
    "\n",
    "희소 문제는 기계가 단어의 의미적 유사성을 알수 있다면 해결할 수 있는 문제입니다.\n",
    "실제 사람의 사례를 들어 이야기해보겠습니다. 저자는 최근 '톺아보다'라는 생소한 단어를 배웠고, '톺아보다'가 '샅샅이 살펴보다'와 유사한 의미임을 학습했습니다.\n",
    "그리고 '발표 자료를 살펴보다'라는 표현 대신 '발표 자료를 톺아보다'라는 표현을 써봤습니다.\n",
    "저는 '발표 자료를 톺아보다'라는 예문을 어디서 읽은 적은 없지만 두 단어가 유사함을 학습하였으므로 단어를 대신 선택하여 자연어 생성을 할 수 있었습니다.\n",
    "\n",
    "기계도 마찬가지입니다. '발표 자료를 살펴보다'라는 단어 시퀀스는 존재하지만, '발표 자료를 톺아보다'라는 단어 시퀀스는 존재하지 않는 코퍼스를 학습한 언어 모델이 있다고 가정해봅시다.\n",
    "언어 모델은 아래 선택지에서 다음 단어를 예측해야 합니다.\n",
    "\n",
    "- $P(톺아보다|발표자료를)$\n",
    "- $P(냠냠하다|발표자료를)$\n",
    "\n",
    "저자의 경우에는 '살펴보다'와 '톺아보다'의 유사성을 학습하였고 이를 근거로 두 선택지 중에서 '톺아보다'가 더 맞는 선택이라고 판단할 수 있습니다.\n",
    "하지만 n-gram 언어 모델은 '발표 자료를' 다음에 '톺아보다'가 나올 확률  $P(톺아보다|발표자료를)$를 0으로 연산합니다.\n",
    "n-gram 언어 모델은 '살펴보다'와 '톺아보다'의 단어의 유사도를 알 수 없으므로 예측에 고려할 수 없습니다.\n",
    "\n",
    "만약 언어 모델 또한 단어의 의미적 유사성을 학습할 수 있도록 설계한다면,\n",
    "훈련 코퍼스에 없는 단어 시퀀스에 대한 예측이라도 유사한 단어가 사용된 단어 시퀀스를 참고하여 보다 정확한 예측을 할 수 있습니다.\n",
    "그리고 이러한 아이디어를 반영한 언어 모델이 신경망 언어 모델 NNLM입니다.\n",
    "그리고 이 아이디어는 단어 벡터 간 유사도를 구할 수 있는 벡터를 얻어내는 워드 임베딩(word embedding) 의 아이디어이기도 합니다.\n",
    "NNLM이 어떻게 훈련 과정에서 단어의 유사도를 학습할 수 있는지 알아봅시다."
   ],
   "metadata": {
    "collapsed": false
   },
   "id": "424c311296e9a404"
  },
  {
   "cell_type": "markdown",
   "source": [
    "\n",
    "###3. 피드 포워드 신경망 언어 모델(NNLM)\n",
    "***\n",
    "\n",
    "NNLM이 언어 모델링을 학습하는 과정을 보겠습니다. 이해를 위해 간소화 된 형태로 설명합니다.\n",
    "\n",
    "- 예문 : \"what will the fat cat sit on\"\n",
    "\n",
    "예를 들어 훈련 코퍼스에 위와 같은 문장이 있다고 해봅시다. 언어 모델은 주어진 단어 시퀀스로부터 다음 단어를 예측합니다.\n",
    "훈련 과정에서는 'what will the fat cat'이라는 단어 시퀀스가 입력으로 주어지면, 다음 단어 'sit'을 예측하는 방식으로 훈련됩니다.\n",
    "\n",
    "훈련 코퍼스가 준비된 상태에서 가장 먼저 해야 할 일은 기계가 단어를 인식할 수 있도록 모든 단어를 수치화하는 것입니다.\n",
    "훈련 코퍼스에 7개의 단어만 존재한다고 가정했을 때 위 단어들을 다음과 같이 원-핫 인코딩 할 수 있습니다.\n",
    "\n",
    "```\n",
    "what = [1, 0, 0, 0, 0, 0, 0]\n",
    "will = [0, 1, 0, 0, 0, 0, 0]\n",
    "the = [0, 0, 1, 0, 0, 0, 0]\n",
    "fat = [0, 0, 0, 1, 0, 0, 0]\n",
    "cat = [0, 0, 0, 0, 1, 0, 0]\n",
    "sit = [0, 0, 0, 0, 0, 1, 0]\n",
    "on = [0, 0, 0, 0, 0, 0, 1]\n",
    "```\n",
    "\n",
    "모든 단어가 단어 집합(vocabulary)의 크기인 7의 차원을 가지는 원-핫 벡터가 되었습니다.\n",
    "이 원-핫 벡터들이 훈련을 위한 NNLM의 입력이면서 예측을 위한 레이블이 됩니다.\n",
    "'what will the fat cat'를 입력을 받아서 'sit'을 예측하는 일은 기계에게 what, will, the, fat, cat의 원-핫 벡터를 입력받아 sit의 원-핫 벡터를 예측하는 문제입니다.\n",
    "\n",
    "NNLM은 n-gram 언어 모델처럼 다음 단어를 예측할 때, 앞의 모든 단어를 참고하는 것이 아니라 정해진 개수의 단어만을 참고합니다.\n",
    "이 개수를 n이라고 하고 n을 4라고 해봅시다. 이때, 언어 모델은 'what will the fat cat'라는 단어 시퀀스가 주어졌을 때,\n",
    "다음 단어를 예측하기 위해 앞의 4개 단어 'will the fat cat'까지만 참고하고 그 앞 단어인 what은 무시합니다.\n",
    "이 범위를 윈도우(window)라고 하기도 하는데, 여기서 윈도우의 크기인 n은 4입니다.\n",
    "\n",
    "![그림](img_53.png)\n",
    "\n",
    "NNLM의 구조를 보겠습니다. NNLM은 위의 그림과 같이 총 4개의 층(layer)으로 이루어진 인공 신경망입니다.\n",
    "입력층(input layer)을 보면 앞에서 윈도우의 크기는 4로 정하였으므로 입력은 4개의 단어 'will, the, fat, cat'의 원-핫 벡터입니다.\n",
    "출력층(output layer)을 보면 모델이 예측해야하는 정답에 해당되는 단어 sit의 원-핫 벡터는 모델이 예측한 값의 오차를 구하기 위해 레이블로서 사용됩니다.\n",
    "그리고 오차로부터 손실 함수를 사용하여 인공 신경망이 학습을 하게 됩니다.\n",
    "\n",
    "내부 메커니즘을 따라가봅시다. 4개의 원-핫 벡터를 입력 받은 NNLM은 다음층인 투사층(projection layer)을 지나게 됩니다.\n",
    "인공 신경망에서 입력층과 출력층 사이의 층은 보통 은닉층이라고 부르는데, 여기서 투사층이라고 명명한 이 층은 일반 은닉층과 다르게 가중치 행렬과의 곱셈은 이루어지지만 활성화 함수가 존재하지 않습니다.\n",
    "\n",
    "투사층의 크기를 M으로 설정하면, 각 입력 단어들은 투사층에서 V × M 크기의 가중치 행렬과 곱해집니다.\n",
    "여기서 V는 단어 집합의 크기를 의미합니다. 만약 원-핫 벡터의 차원이 7이고, M이 5라면 가중치 행렬 W는 7 × 5 행렬이 됩니다.\n",
    "\n",
    "![그림](img_54.png)\n",
    "\n",
    "각 단어의 원-핫 벡터와 가중치 W 행렬의 곱이 어떻게 이루어지는지 보겠습니다.\n",
    "위 그림에서는 각 원-핫 벡터를 $x$로 표기하였습니다.\n",
    "원-핫 벡터의 특성으로 인해 i번째 인덱스에 1이라는 값을 가지고 그 외의 0의 값을 가지는 원-핫 벡터와 가중치 W 행렬의 곱은 사실 W행렬의 i번째 행을 그대로 읽어오는 것과(lookup) 동일합니다.\n",
    "그래서 이 작업을 룩업 테이블(lookup table)이라고 합니다.\n",
    "\n",
    "룩업 테이블 후에는 V차원을 가지는 원-핫 벡터는 이보다 더 차원이 작은 M차원의 벡터로 맵핑됩니다.\n",
    "위 그림에서 단어 fat을 의미하는 원-핫 벡터를 $xfat$으로 표현했고,\n",
    "테이블 룩업 과정을 거친 후의 단어 벡터는 $efat$으로 표현했습니다.\n",
    "이 벡터들은 초기에는 랜덤한 값을 가지지만 학습 과정에서 값이 계속 변경되는데 이 단어 벡터를 임베딩 벡터(embedding vector) 라고 합니다.\n",
    "\n",
    "![그림](img_55.png)\n",
    "\n",
    "각 단어가 테이블 룩업을 통해 임베딩 벡터로 변경되고, 투사층에서 모든 임베딩 벡터들의 값은 연결됩니다(concatenate).\n",
    "여기서 벡터의 연결 연산은 벡터들을 이어붙이는 것을 의미합니다. 가령, 5차원 벡터 4개를 연결한다는 의미는 20차원 벡터를 얻는다는 의미입니다. \n",
    "$x$를 각 단어의 원-핫 벡터, NNLM이 예측하고자 하는 단어가 문장에서 $t$번째 단어라고 하고, 윈도우의 크기를 $n$,\n",
    "룩업 테이블을 의미하는 함수를 $lookup$, 세미콜론(;)을 연결 기호로 하였을 때 투사층을 식으로 표현하면 아래와 같습니다.\n",
    "\n",
    "![그림](img_56.png)\n",
    "\n",
    "일반적인 은닉층이 활성화 함수를 사용하는 비선형층(nonlinear layer)인 것과는 달리 투사층은 활성화 함수가 존재하지 않는 선형층(linear layer)이라는 점이 다소 생소하지만,\n",
    "이 다음은 다시 은닉층을 사용하는 일반적인 피드 포워드 신경망과 동일합니다.\n",
    "\n",
    "![그림](img_57.png)\n",
    "\n",
    "투사층의 결과는 h의 크기를 가지는 은닉층을 지납니다.\n",
    "일반적인 피드 포워드 신경망에서 은닉층을 지난다는 것은 은닉층의 입력은 가중치 곱해진 후 편향이 더해져 활성화 함수의 입력이 된다는 의미입니다.\n",
    "이때의 가중치와 편향을 $Wh$와 $bh$이라고 하고, 은닉층의 활성화 함수를 하이퍼볼릭탄젠트 함수라고 하였을 때, 은닉층을 식으로 표현하면 아래와 같습니다.\n",
    "\n",
    "![그림](img_58.png)\n",
    "\n",
    "은닉층의 출력은 V의 크기를 가지는 출력층으로 향합니다.\n",
    "이 과정에서 다시 또 다른 가중치와 곱해지고 편향이 더해지면, 입력이었던 원-핫 벡터들과 동일하게 V차원의 벡터를 얻습니다.\n",
    "만약 입력 벡터의 차원이 7이었다면 해당 벡터도 동일한 차원 수를 가집니다.\n",
    "출력층에서는 활성화 함수로 소프트맥스(softmax) 함수를 사용하는데,\n",
    "V차원의 벡터는 소프트맥스 함수를 지나면서 벡터의 각 원소는 0과 1사이의 실수값을 가지며 총 합은 1이 되는 상태로 바뀝니다.\n",
    "이 벡터를 NNLM의 예측값이라는 의미에서 $\\hat{y}$라고 합시다. 이를 식으로 표현하면 아래와 같습니다.\n",
    "\n",
    "![그림](img_59.png)\n",
    "\n",
    "벡터 $\\hat{y}$의 각 차원 안에서의 값이 의미하는 것은 이와 같습니다. \n",
    "$\\hat{y}$의 j번째 인덱스가 가진 0과 1사이의 값은 j번째 단어가 다음 단어일 확률을 나타냅니다.\n",
    "그리고 $\\hat{y}$는 실제값. 즉, 실제 정답에 해당되는 단어인 원-핫 벡터의 값에 가까워져야 합니다.\n",
    "실제값에 해당되는 다음 단어를 $y$라고 했을 때, 이 두 벡터가 가까워지게 하기위해서 NNLM는 손실 함수로 크로스 엔트로피(cross-entropy) 함수를 사용합니다.\n",
    "해당 문제는 단어 집합의 모든 단어라는 V개의 선택지 중 정답인 'sit'을 예측해야하는 다중 클래스 분류 문제입니다.\n",
    "그리고 역전파가 이루어지면 모든 가중치 행렬들이 학습되는데, 여기에는 투사층에서의 가중치 행렬도 포함되므로 임베딩 벡터값 또한 학습됩니다.\n",
    "\n",
    "이번 예제에서는 7개의 단어만 사용했지만, 만약 충분한 훈련 데이터가 있다는 가정 하에 NNLM이 얻을 수 있는 이점은 무엇일까요?\n",
    "NNLM의 핵심은 충분한 양의 훈련 코퍼스를 위와 같은 과정으로 학습한다면 결과적으로 수많은 문장에서 유사한 목적으로 사용되는 단어들은 결국 유사한 임베딩 벡터값을 얻게되는 것에 있습니다.\n",
    "이렇게 되면 훈련이 끝난 후 다음 단어를 예측 과정에서 (마치 앞서 언급한 저자의 '톺아보기'와 같은 예시처럼) 훈련 코퍼스에서 없던 단어 시퀀스라 하더라도 다음 단어를 선택할 수 있습니다.\n",
    "\n",
    "단어 간 유사도를 구할 수 있는 임베딩 벡터의 아이디어는 Word2Vec, FastText, GloVe 등으로 발전되어서 딥 러닝 자연어 처리 모델에서는 필수적으로 사용되는 방법이 되었습니다.\n",
    "임베딩 벡터에 대해서는 워드 임베딩 챕터에서 좀 더 자세히 다룹니다.\n"
   ],
   "metadata": {
    "collapsed": false
   },
   "id": "178e3a7e51756d1a"
  },
  {
   "cell_type": "markdown",
   "source": [
    "### 4. NNLM의 이점과 한계\n",
    "***\n",
    "\n",
    "NNLM은 기존 n-gram 언어 모델의 한계를 개선하였지만 여전히 가지는 문제점이 있습니다."
   ],
   "metadata": {
    "collapsed": false
   },
   "id": "244e91ddb0278897"
  },
  {
   "cell_type": "markdown",
   "source": [
    "#### 1) 기존 모델에서의 개선점\n",
    "NNLM은 단어를 표현하기 위해 임베딩 벡터를 사용하므로서 단어의 유사도를 계산할 수 있었습니다. 그리고 이를 통해 희소 문제(sparsity problem)를 해결하였습니다.\n"
   ],
   "metadata": {
    "collapsed": false
   },
   "id": "4209a804e2784b87"
  },
  {
   "cell_type": "markdown",
   "source": [
    "#### 2) 고정된 길이의 입력(Fixed-length input)\n",
    "NNLM이 극복하지 못한 한계 또한 존재합니다. NNLM은 n-gram 언어 모델과 마찬가지로 다음 단어를 예측하기 위해 모든 이전 단어를 참고하는 것이 아니라 정해진 n개의 단어만을 참고할 수 있습니다.\n",
    "이 한계를 극복할 수 있는 언어 모델이 있는데, 다음 챕터에서 배우게 될 RNN(Recurrent Neural Network)을 사용한 RNN 언어 모델(Recurrent Neural Network Language Model, RNNLM)입니다.\n",
    "\n"
   ],
   "metadata": {
    "collapsed": false
   },
   "id": "4767549ecc135381"
  }
 ],
 "metadata": {
  "kernelspec": {
   "display_name": "Python 3",
   "language": "python",
   "name": "python3"
  },
  "language_info": {
   "codemirror_mode": {
    "name": "ipython",
    "version": 2
   },
   "file_extension": ".py",
   "mimetype": "text/x-python",
   "name": "python",
   "nbconvert_exporter": "python",
   "pygments_lexer": "ipython2",
   "version": "2.7.6"
  }
 },
 "nbformat": 4,
 "nbformat_minor": 5
}
